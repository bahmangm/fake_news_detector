{
 "cells": [
  {
   "cell_type": "code",
   "execution_count": 1,
   "id": "ad418c1c",
   "metadata": {
    "ExecuteTime": {
     "end_time": "2023-01-02T20:39:26.241152Z",
     "start_time": "2023-01-02T20:39:25.632108Z"
    }
   },
   "outputs": [],
   "source": [
    "import pandas as pd\n",
    "import numpy as np\n",
    "import json\n",
    "import os\n",
    "import time\n",
    "import math\n",
    "from vaderSentiment.vaderSentiment import SentimentIntensityAnalyzer\n",
    "import configs"
   ]
  },
  {
   "cell_type": "code",
   "execution_count": null,
   "id": "12405630",
   "metadata": {},
   "outputs": [],
   "source": [
    "# settings from configs.py file\n",
    "\n",
    "dataset = configs.data_source # 'politifact' or 'gossipcop'\n",
    "label_or_class = configs.fake_or_real # 'fake' or 'real'\n",
    "\n",
    "hours = configs.detection_deadline # detection time in hours"
   ]
  },
  {
   "cell_type": "markdown",
   "id": "86967b9a",
   "metadata": {},
   "source": [
    "# Analysing the lengthes of cascades (or the number of retweets for each tweet)"
   ]
  },
  {
   "cell_type": "code",
   "execution_count": 26,
   "id": "d45be7b9",
   "metadata": {
    "ExecuteTime": {
     "end_time": "2022-12-28T14:10:46.455117Z",
     "start_time": "2022-12-28T14:10:43.200541Z"
    }
   },
   "outputs": [],
   "source": [
    "dataset_name = '{}_{}_counting_{}hours.json'.format(dataset, label_or_class, hours)\n",
    "df = pd.read_json(dataset_name, orient ='table', compression = 'infer')"
   ]
  },
  {
   "cell_type": "code",
   "execution_count": 27,
   "id": "647f7ae7",
   "metadata": {
    "ExecuteTime": {
     "end_time": "2022-12-28T14:10:46.461766Z",
     "start_time": "2022-12-28T14:10:46.456693Z"
    }
   },
   "outputs": [
    {
     "data": {
      "text/plain": [
       "(372516, 15)"
      ]
     },
     "execution_count": 27,
     "metadata": {},
     "output_type": "execute_result"
    }
   ],
   "source": [
    "df.shape"
   ]
  },
  {
   "cell_type": "code",
   "execution_count": 28,
   "id": "f89353ff",
   "metadata": {
    "ExecuteTime": {
     "end_time": "2022-12-28T14:10:47.269375Z",
     "start_time": "2022-12-28T14:10:46.462998Z"
    }
   },
   "outputs": [],
   "source": [
    "df['count'] = df.groupby(['id_news','id_str'])['re_id_str'].transform('count')"
   ]
  },
  {
   "cell_type": "code",
   "execution_count": 29,
   "id": "2efa8ded",
   "metadata": {
    "ExecuteTime": {
     "end_time": "2022-12-28T14:10:47.342091Z",
     "start_time": "2022-12-28T14:10:47.270908Z"
    }
   },
   "outputs": [
    {
     "data": {
      "text/html": [
       "<div>\n",
       "<style scoped>\n",
       "    .dataframe tbody tr th:only-of-type {\n",
       "        vertical-align: middle;\n",
       "    }\n",
       "\n",
       "    .dataframe tbody tr th {\n",
       "        vertical-align: top;\n",
       "    }\n",
       "\n",
       "    .dataframe thead th {\n",
       "        text-align: right;\n",
       "    }\n",
       "</style>\n",
       "<table border=\"1\" class=\"dataframe\">\n",
       "  <thead>\n",
       "    <tr style=\"text-align: right;\">\n",
       "      <th></th>\n",
       "      <th>re_retweet_count</th>\n",
       "      <th>re_favorite_count</th>\n",
       "      <th>new_re_created_at</th>\n",
       "      <th>diff_t</th>\n",
       "      <th>diff_r</th>\n",
       "      <th>diff</th>\n",
       "      <th>count</th>\n",
       "    </tr>\n",
       "  </thead>\n",
       "  <tbody>\n",
       "    <tr>\n",
       "      <th>count</th>\n",
       "      <td>34128.000000</td>\n",
       "      <td>34128.0</td>\n",
       "      <td>3.725160e+05</td>\n",
       "      <td>372516.000000</td>\n",
       "      <td>3.725160e+05</td>\n",
       "      <td>3.725160e+05</td>\n",
       "      <td>372516.000000</td>\n",
       "    </tr>\n",
       "    <tr>\n",
       "      <th>mean</th>\n",
       "      <td>48.930702</td>\n",
       "      <td>0.0</td>\n",
       "      <td>1.383506e+08</td>\n",
       "      <td>3378.716616</td>\n",
       "      <td>-1.370335e+09</td>\n",
       "      <td>-1.370339e+09</td>\n",
       "      <td>2.266034</td>\n",
       "    </tr>\n",
       "    <tr>\n",
       "      <th>std</th>\n",
       "      <td>47.812826</td>\n",
       "      <td>0.0</td>\n",
       "      <td>4.356784e+08</td>\n",
       "      <td>3142.038968</td>\n",
       "      <td>4.353989e+08</td>\n",
       "      <td>4.353994e+08</td>\n",
       "      <td>8.914820</td>\n",
       "    </tr>\n",
       "    <tr>\n",
       "      <th>min</th>\n",
       "      <td>1.000000</td>\n",
       "      <td>0.0</td>\n",
       "      <td>-1.000000e+02</td>\n",
       "      <td>0.000000</td>\n",
       "      <td>-1.543719e+09</td>\n",
       "      <td>-1.543728e+09</td>\n",
       "      <td>0.000000</td>\n",
       "    </tr>\n",
       "    <tr>\n",
       "      <th>25%</th>\n",
       "      <td>15.000000</td>\n",
       "      <td>0.0</td>\n",
       "      <td>-1.000000e+02</td>\n",
       "      <td>668.000000</td>\n",
       "      <td>-1.517537e+09</td>\n",
       "      <td>-1.517541e+09</td>\n",
       "      <td>0.000000</td>\n",
       "    </tr>\n",
       "    <tr>\n",
       "      <th>50%</th>\n",
       "      <td>34.000000</td>\n",
       "      <td>0.0</td>\n",
       "      <td>-1.000000e+02</td>\n",
       "      <td>2296.000000</td>\n",
       "      <td>-1.506050e+09</td>\n",
       "      <td>-1.506056e+09</td>\n",
       "      <td>0.000000</td>\n",
       "    </tr>\n",
       "    <tr>\n",
       "      <th>75%</th>\n",
       "      <td>70.000000</td>\n",
       "      <td>0.0</td>\n",
       "      <td>-1.000000e+02</td>\n",
       "      <td>5713.000000</td>\n",
       "      <td>-1.495586e+09</td>\n",
       "      <td>-1.495586e+09</td>\n",
       "      <td>0.000000</td>\n",
       "    </tr>\n",
       "    <tr>\n",
       "      <th>max</th>\n",
       "      <td>2523.000000</td>\n",
       "      <td>0.0</td>\n",
       "      <td>1.543725e+09</td>\n",
       "      <td>10799.000000</td>\n",
       "      <td>1.079900e+04</td>\n",
       "      <td>1.079600e+04</td>\n",
       "      <td>81.000000</td>\n",
       "    </tr>\n",
       "  </tbody>\n",
       "</table>\n",
       "</div>"
      ],
      "text/plain": [
       "       re_retweet_count  re_favorite_count  new_re_created_at         diff_t  \\\n",
       "count      34128.000000            34128.0       3.725160e+05  372516.000000   \n",
       "mean          48.930702                0.0       1.383506e+08    3378.716616   \n",
       "std           47.812826                0.0       4.356784e+08    3142.038968   \n",
       "min            1.000000                0.0      -1.000000e+02       0.000000   \n",
       "25%           15.000000                0.0      -1.000000e+02     668.000000   \n",
       "50%           34.000000                0.0      -1.000000e+02    2296.000000   \n",
       "75%           70.000000                0.0      -1.000000e+02    5713.000000   \n",
       "max         2523.000000                0.0       1.543725e+09   10799.000000   \n",
       "\n",
       "             diff_r          diff          count  \n",
       "count  3.725160e+05  3.725160e+05  372516.000000  \n",
       "mean  -1.370335e+09 -1.370339e+09       2.266034  \n",
       "std    4.353989e+08  4.353994e+08       8.914820  \n",
       "min   -1.543719e+09 -1.543728e+09       0.000000  \n",
       "25%   -1.517537e+09 -1.517541e+09       0.000000  \n",
       "50%   -1.506050e+09 -1.506056e+09       0.000000  \n",
       "75%   -1.495586e+09 -1.495586e+09       0.000000  \n",
       "max    1.079900e+04  1.079600e+04      81.000000  "
      ]
     },
     "execution_count": 29,
     "metadata": {},
     "output_type": "execute_result"
    }
   ],
   "source": [
    "df.describe()"
   ]
  },
  {
   "cell_type": "code",
   "execution_count": 30,
   "id": "170c9ea1",
   "metadata": {
    "ExecuteTime": {
     "end_time": "2022-12-28T14:10:47.348080Z",
     "start_time": "2022-12-28T14:10:47.344016Z"
    }
   },
   "outputs": [
    {
     "data": {
      "text/plain": [
       "(372516, 16)"
      ]
     },
     "execution_count": 30,
     "metadata": {},
     "output_type": "execute_result"
    }
   ],
   "source": [
    "df.shape"
   ]
  },
  {
   "cell_type": "code",
   "execution_count": 31,
   "id": "0c825a1f",
   "metadata": {
    "ExecuteTime": {
     "end_time": "2022-12-28T14:10:47.672376Z",
     "start_time": "2022-12-28T14:10:47.353031Z"
    }
   },
   "outputs": [
    {
     "data": {
      "text/html": [
       "<div>\n",
       "<style scoped>\n",
       "    .dataframe tbody tr th:only-of-type {\n",
       "        vertical-align: middle;\n",
       "    }\n",
       "\n",
       "    .dataframe tbody tr th {\n",
       "        vertical-align: top;\n",
       "    }\n",
       "\n",
       "    .dataframe thead th {\n",
       "        text-align: right;\n",
       "    }\n",
       "</style>\n",
       "<table border=\"1\" class=\"dataframe\">\n",
       "  <thead>\n",
       "    <tr style=\"text-align: right;\">\n",
       "      <th></th>\n",
       "      <th>count</th>\n",
       "    </tr>\n",
       "  </thead>\n",
       "  <tbody>\n",
       "    <tr>\n",
       "      <th>count</th>\n",
       "      <td>338388.000000</td>\n",
       "    </tr>\n",
       "    <tr>\n",
       "      <th>mean</th>\n",
       "      <td>0.100855</td>\n",
       "    </tr>\n",
       "    <tr>\n",
       "      <th>std</th>\n",
       "      <td>1.543877</td>\n",
       "    </tr>\n",
       "    <tr>\n",
       "      <th>min</th>\n",
       "      <td>0.000000</td>\n",
       "    </tr>\n",
       "    <tr>\n",
       "      <th>25%</th>\n",
       "      <td>0.000000</td>\n",
       "    </tr>\n",
       "    <tr>\n",
       "      <th>50%</th>\n",
       "      <td>0.000000</td>\n",
       "    </tr>\n",
       "    <tr>\n",
       "      <th>75%</th>\n",
       "      <td>0.000000</td>\n",
       "    </tr>\n",
       "    <tr>\n",
       "      <th>max</th>\n",
       "      <td>81.000000</td>\n",
       "    </tr>\n",
       "  </tbody>\n",
       "</table>\n",
       "</div>"
      ],
      "text/plain": [
       "               count\n",
       "count  338388.000000\n",
       "mean        0.100855\n",
       "std         1.543877\n",
       "min         0.000000\n",
       "25%         0.000000\n",
       "50%         0.000000\n",
       "75%         0.000000\n",
       "max        81.000000"
      ]
     },
     "execution_count": 31,
     "metadata": {},
     "output_type": "execute_result"
    }
   ],
   "source": [
    "# The number of all tweets for all news in x hours\n",
    "df.drop(['created_at', 're_created_at', 're_id_str', 're_text', 're_user_id_str',\n",
    "        're_retweet_count', 're_favorite_count', 'new_created_at', 'new_re_created_at', \n",
    "        'zero_time', 'diff_t', 'diff_r', 'diff'], axis=1).drop_duplicates().describe()"
   ]
  },
  {
   "cell_type": "code",
   "execution_count": 33,
   "id": "e953d761",
   "metadata": {
    "ExecuteTime": {
     "end_time": "2022-12-28T14:10:48.428920Z",
     "start_time": "2022-12-28T14:10:48.120854Z"
    }
   },
   "outputs": [
    {
     "data": {
      "text/plain": [
       "(338388, 3)"
      ]
     },
     "execution_count": 33,
     "metadata": {},
     "output_type": "execute_result"
    }
   ],
   "source": [
    "# The number of all tweets for all news in x hours\n",
    "df.drop(['created_at', 're_created_at', 're_id_str', 're_text', 're_user_id_str',\n",
    "        're_retweet_count', 're_favorite_count', 'new_created_at', 'new_re_created_at', \n",
    "        'zero_time', 'diff_t', 'diff_r', 'diff'], axis=1).drop_duplicates().shape"
   ]
  },
  {
   "cell_type": "code",
   "execution_count": 35,
   "id": "51ed1830",
   "metadata": {
    "ExecuteTime": {
     "end_time": "2022-12-28T14:10:48.899578Z",
     "start_time": "2022-12-28T14:10:48.823695Z"
    }
   },
   "outputs": [
    {
     "name": "stdout",
     "output_type": "stream",
     "text": [
      "The percentage of tweets with 0 retweets     is 89.5102492241944\n",
      "The percentage of tweets with 1 retweets     is 1.239678295697366\n",
      "The percentage of tweets with 2 retweets     is 0.3615952066488419\n",
      "The percentage of tweets with 3 retweets     is 0.26629728655950347\n",
      "The percentage of tweets with 4 retweets     is 0.2536803788293657\n",
      "The percentage of tweets with 5 retweets     is 0.29958444737944145\n",
      "The percentage of tweets with 6 retweets     is 0.25555949274662026\n",
      "The percentage of tweets with 7 retweets     is 0.2727399628472334\n",
      "The percentage of tweets with 8 retweets     is 0.29716844377154267\n",
      "The percentage of tweets with 9 retweets     is 0.30334267521395053\n",
      "The percentage of tweets with 10 retweets     is 0.2657603968688593\n",
      "The percentage of tweets with 11 retweets     is 0.22227233192668233\n",
      "The percentage of tweets with 12 retweets     is 0.25824394119984106\n",
      "The percentage of tweets with 13 retweets     is 0.2217354422360382\n",
      "The percentage of tweets with 14 retweets     is 0.2577070515091969\n",
      "The percentage of tweets with 15 retweets     is 0.18039493605643786\n",
      "The percentage of tweets with 16 retweets     is 0.22817811852376813\n",
      "The percentage of tweets with 17 retweets     is 0.24160036078987213\n",
      "The percentage of tweets with 18 retweets     is 0.21421898656701993\n",
      "The percentage of tweets with 19 retweets     is 0.16643580409968967\n"
     ]
    }
   ],
   "source": [
    "# The statics below are for the first x hours\n",
    "for i in range(20):\n",
    "    print('The percentage of tweets with {} retweets \\\n",
    "    is {}'.format(i,len(df[df['count'] == i])/len(df) * 100))"
   ]
  },
  {
   "cell_type": "code",
   "execution_count": 37,
   "id": "fd178863",
   "metadata": {
    "ExecuteTime": {
     "end_time": "2022-12-28T14:10:49.319406Z",
     "start_time": "2022-12-28T14:10:48.980797Z"
    }
   },
   "outputs": [
    {
     "name": "stdout",
     "output_type": "stream",
     "text": [
      "The percentage of tweets with 0 retweets     is 98.53777320708772\n",
      "The percentage of tweets with 1 retweets     is 0.6823528021088219\n",
      "The percentage of tweets with 2 retweets     is 0.132687920375427\n",
      "The percentage of tweets with 3 retweets     is 0.07328865089778597\n",
      "The percentage of tweets with 4 retweets     is 0.0558530444341998\n",
      "The percentage of tweets with 5 retweets     is 0.05496648817333948\n",
      "The percentage of tweets with 6 retweets     is 0.04019055049233424\n",
      "The percentage of tweets with 7 retweets     is 0.0375308817097533\n",
      "The percentage of tweets with 8 retweets     is 0.03634880669527288\n",
      "The percentage of tweets with 9 retweets     is 0.03339361915907183\n",
      "The percentage of tweets with 10 retweets     is 0.026596687825809425\n",
      "The percentage of tweets with 11 retweets     is 0.020390793999787226\n",
      "The percentage of tweets with 12 retweets     is 0.02186838776788775\n",
      "The percentage of tweets with 13 retweets     is 0.01743560646358618\n",
      "The percentage of tweets with 14 retweets     is 0.018913200231686703\n",
      "The percentage of tweets with 15 retweets     is 0.012411787652044398\n",
      "The percentage of tweets with 16 retweets     is 0.014775937681005236\n",
      "The percentage of tweets with 17 retweets     is 0.014775937681005236\n",
      "The percentage of tweets with 18 retweets     is 0.012411787652044398\n",
      "The percentage of tweets with 19 retweets     is 0.009161081362223246\n",
      "The percentage of tweets with more than 20 retweets     is 0.14687282054919204\n"
     ]
    }
   ],
   "source": [
    "# By droping duplicates, we consider the retweet counts of each tweet once.\n",
    "# The statics below are for the first 4 hours\n",
    "df_counts = df.drop(['created_at', 're_created_at', 're_id_str', 're_text', \n",
    "                     're_user_id_str', 're_retweet_count', 're_favorite_count', \n",
    "                     'new_created_at', 'new_re_created_at', 'zero_time', 'diff_t', \n",
    "                     'diff_r', 'diff'], axis=1).drop_duplicates()\n",
    "\n",
    "for i in range(20):\n",
    "    print('The percentage of tweets with {} retweets \\\n",
    "    is {}'.format(i,len(df_counts[df_counts['count'] == i])/len(df_counts) * 100))\n",
    "    \n",
    "print('The percentage of tweets with more than 20 retweets \\\n",
    "    is {}'.format(len(df_counts[df_counts['count'] >= 20])/len(df_counts) * 100))"
   ]
  },
  {
   "cell_type": "markdown",
   "id": "78ff4b1e",
   "metadata": {},
   "source": [
    "<strong> The length of each cascade </strong>\n",
    "\n",
    "According to the percentages above, the length of each cascade can be less than 7, and we need to consider the results of the model for each length in range [1,7]."
   ]
  },
  {
   "cell_type": "markdown",
   "id": "bc95603b",
   "metadata": {},
   "source": [
    "# Creating a dataframe of the number of cascades with different lengths and then converting it into a dictionary\n",
    "<strong>'{}_{}_lens_counts_{}hours.json'.format(dataset, label, hours)</strong>\n",
    "\n",
    "<strong>'{}_{}_lens_counts_dic_11_{}hours.json'.format(dataset, label, hours)</strong>"
   ]
  },
  {
   "cell_type": "code",
   "execution_count": 39,
   "id": "ce6ccb19",
   "metadata": {
    "ExecuteTime": {
     "end_time": "2022-12-28T14:10:49.762278Z",
     "start_time": "2022-12-28T14:10:49.757627Z"
    }
   },
   "outputs": [
    {
     "data": {
      "text/plain": [
       "(372059, 9)"
      ]
     },
     "execution_count": 39,
     "metadata": {},
     "output_type": "execute_result"
    }
   ],
   "source": [
    "df_counts.shape"
   ]
  },
  {
   "cell_type": "code",
   "execution_count": 40,
   "id": "30ff54d3",
   "metadata": {
    "ExecuteTime": {
     "end_time": "2022-12-28T14:10:49.839511Z",
     "start_time": "2022-12-28T14:10:49.763453Z"
    }
   },
   "outputs": [],
   "source": [
    "news_list = list(df_counts['id_news'].drop_duplicates())"
   ]
  },
  {
   "cell_type": "code",
   "execution_count": 41,
   "id": "ebbb9e27",
   "metadata": {
    "ExecuteTime": {
     "end_time": "2022-12-28T14:10:49.847981Z",
     "start_time": "2022-12-28T14:10:49.840735Z"
    }
   },
   "outputs": [
    {
     "data": {
      "text/plain": [
       "14119"
      ]
     },
     "execution_count": 41,
     "metadata": {},
     "output_type": "execute_result"
    }
   ],
   "source": [
    "len(news_list)"
   ]
  },
  {
   "cell_type": "code",
   "execution_count": 42,
   "id": "74245d98",
   "metadata": {
    "ExecuteTime": {
     "end_time": "2022-12-28T14:10:49.870818Z",
     "start_time": "2022-12-28T14:10:49.849094Z"
    }
   },
   "outputs": [
    {
     "data": {
      "text/html": [
       "<div>\n",
       "<style scoped>\n",
       "    .dataframe tbody tr th:only-of-type {\n",
       "        vertical-align: middle;\n",
       "    }\n",
       "\n",
       "    .dataframe tbody tr th {\n",
       "        vertical-align: top;\n",
       "    }\n",
       "\n",
       "    .dataframe thead th {\n",
       "        text-align: right;\n",
       "    }\n",
       "</style>\n",
       "<table border=\"1\" class=\"dataframe\">\n",
       "  <thead>\n",
       "    <tr style=\"text-align: right;\">\n",
       "      <th></th>\n",
       "      <th>id_news</th>\n",
       "      <th>id_str</th>\n",
       "      <th>new_created_at</th>\n",
       "      <th>new_re_created_at</th>\n",
       "      <th>zero_time</th>\n",
       "      <th>diff_t</th>\n",
       "      <th>diff_r</th>\n",
       "      <th>diff</th>\n",
       "      <th>count</th>\n",
       "    </tr>\n",
       "  </thead>\n",
       "  <tbody>\n",
       "    <tr>\n",
       "      <th>0</th>\n",
       "      <td>gossipcop-846866</td>\n",
       "      <td>858030987837673472</td>\n",
       "      <td>2017-04-28 21:51:43</td>\n",
       "      <td>-100.0</td>\n",
       "      <td>2017-04-28 21:39:07</td>\n",
       "      <td>756.0</td>\n",
       "      <td>-1.493416e+09</td>\n",
       "      <td>-1.493416e+09</td>\n",
       "      <td>0</td>\n",
       "    </tr>\n",
       "  </tbody>\n",
       "</table>\n",
       "</div>"
      ],
      "text/plain": [
       "            id_news              id_str      new_created_at  \\\n",
       "0  gossipcop-846866  858030987837673472 2017-04-28 21:51:43   \n",
       "\n",
       "   new_re_created_at           zero_time  diff_t        diff_r          diff  \\\n",
       "0             -100.0 2017-04-28 21:39:07   756.0 -1.493416e+09 -1.493416e+09   \n",
       "\n",
       "   count  \n",
       "0      0  "
      ]
     },
     "execution_count": 42,
     "metadata": {},
     "output_type": "execute_result"
    }
   ],
   "source": [
    "df_counts.head(1)"
   ]
  },
  {
   "cell_type": "code",
   "execution_count": 43,
   "id": "69815c41",
   "metadata": {
    "ExecuteTime": {
     "end_time": "2022-12-28T14:24:41.339291Z",
     "start_time": "2022-12-28T14:10:49.872088Z"
    }
   },
   "outputs": [],
   "source": [
    "df_lens = pd.DataFrame(columns=['0','1','2','3','4','5','6','7','8','9','10','11','12',\n",
    "                                '13','14','15','16','17','18','19','20','other'])\n",
    "\n",
    "for news in news_list:\n",
    "    # A new recored for current news\n",
    "    new_record = {}\n",
    "    new_record['id_news'] = news\n",
    "    \n",
    "    # A new dataframe consists of the only records belong to current news\n",
    "    df_t = df_counts[df_counts['id_news'] == news]\n",
    "    \n",
    "    for i in range(21):\n",
    "        this_len_count = df_t[df_t['count'] == i].shape[0]\n",
    "        new_record[str(i)] = this_len_count\n",
    "        \n",
    "    this_len_count = df_t[df_t['count'] > i].shape[0]\n",
    "    new_record['other'] = this_len_count\n",
    "    \n",
    "    row_df = pd.DataFrame([new_record])\n",
    "    df_lens = pd.concat([df_lens, row_df], ignore_index=True)\n"
   ]
  },
  {
   "cell_type": "code",
   "execution_count": 44,
   "id": "0c47738f",
   "metadata": {
    "ExecuteTime": {
     "end_time": "2022-12-28T14:24:41.345590Z",
     "start_time": "2022-12-28T14:24:41.340754Z"
    }
   },
   "outputs": [
    {
     "data": {
      "text/plain": [
       "(14119, 23)"
      ]
     },
     "execution_count": 44,
     "metadata": {},
     "output_type": "execute_result"
    }
   ],
   "source": [
    "df_lens.shape"
   ]
  },
  {
   "cell_type": "code",
   "execution_count": 45,
   "id": "f9a8e7c2",
   "metadata": {
    "ExecuteTime": {
     "end_time": "2022-12-28T14:24:41.432590Z",
     "start_time": "2022-12-28T14:24:41.346824Z"
    }
   },
   "outputs": [
    {
     "data": {
      "text/html": [
       "<div>\n",
       "<style scoped>\n",
       "    .dataframe tbody tr th:only-of-type {\n",
       "        vertical-align: middle;\n",
       "    }\n",
       "\n",
       "    .dataframe tbody tr th {\n",
       "        vertical-align: top;\n",
       "    }\n",
       "\n",
       "    .dataframe thead th {\n",
       "        text-align: right;\n",
       "    }\n",
       "</style>\n",
       "<table border=\"1\" class=\"dataframe\">\n",
       "  <thead>\n",
       "    <tr style=\"text-align: right;\">\n",
       "      <th></th>\n",
       "      <th>0</th>\n",
       "      <th>1</th>\n",
       "      <th>2</th>\n",
       "      <th>3</th>\n",
       "      <th>4</th>\n",
       "      <th>5</th>\n",
       "      <th>6</th>\n",
       "      <th>7</th>\n",
       "      <th>8</th>\n",
       "      <th>9</th>\n",
       "      <th>...</th>\n",
       "      <th>13</th>\n",
       "      <th>14</th>\n",
       "      <th>15</th>\n",
       "      <th>16</th>\n",
       "      <th>17</th>\n",
       "      <th>18</th>\n",
       "      <th>19</th>\n",
       "      <th>20</th>\n",
       "      <th>other</th>\n",
       "      <th>id_news</th>\n",
       "    </tr>\n",
       "  </thead>\n",
       "  <tbody>\n",
       "    <tr>\n",
       "      <th>count</th>\n",
       "      <td>14119</td>\n",
       "      <td>14119</td>\n",
       "      <td>14119</td>\n",
       "      <td>14119</td>\n",
       "      <td>14119</td>\n",
       "      <td>14119</td>\n",
       "      <td>14119</td>\n",
       "      <td>14119</td>\n",
       "      <td>14119</td>\n",
       "      <td>14119</td>\n",
       "      <td>...</td>\n",
       "      <td>14119</td>\n",
       "      <td>14119</td>\n",
       "      <td>14119</td>\n",
       "      <td>14119</td>\n",
       "      <td>14119</td>\n",
       "      <td>14119</td>\n",
       "      <td>14119</td>\n",
       "      <td>14119</td>\n",
       "      <td>14119</td>\n",
       "      <td>14119</td>\n",
       "    </tr>\n",
       "    <tr>\n",
       "      <th>unique</th>\n",
       "      <td>148</td>\n",
       "      <td>20</td>\n",
       "      <td>12</td>\n",
       "      <td>9</td>\n",
       "      <td>6</td>\n",
       "      <td>7</td>\n",
       "      <td>4</td>\n",
       "      <td>4</td>\n",
       "      <td>6</td>\n",
       "      <td>4</td>\n",
       "      <td>...</td>\n",
       "      <td>4</td>\n",
       "      <td>4</td>\n",
       "      <td>3</td>\n",
       "      <td>3</td>\n",
       "      <td>5</td>\n",
       "      <td>4</td>\n",
       "      <td>5</td>\n",
       "      <td>3</td>\n",
       "      <td>80</td>\n",
       "      <td>14119</td>\n",
       "    </tr>\n",
       "    <tr>\n",
       "      <th>top</th>\n",
       "      <td>1</td>\n",
       "      <td>0</td>\n",
       "      <td>0</td>\n",
       "      <td>0</td>\n",
       "      <td>0</td>\n",
       "      <td>0</td>\n",
       "      <td>0</td>\n",
       "      <td>0</td>\n",
       "      <td>0</td>\n",
       "      <td>0</td>\n",
       "      <td>...</td>\n",
       "      <td>0</td>\n",
       "      <td>0</td>\n",
       "      <td>0</td>\n",
       "      <td>0</td>\n",
       "      <td>0</td>\n",
       "      <td>0</td>\n",
       "      <td>0</td>\n",
       "      <td>0</td>\n",
       "      <td>0</td>\n",
       "      <td>gossipcop-846866</td>\n",
       "    </tr>\n",
       "    <tr>\n",
       "      <th>freq</th>\n",
       "      <td>1451</td>\n",
       "      <td>12675</td>\n",
       "      <td>13776</td>\n",
       "      <td>13918</td>\n",
       "      <td>13952</td>\n",
       "      <td>13945</td>\n",
       "      <td>13987</td>\n",
       "      <td>13996</td>\n",
       "      <td>14002</td>\n",
       "      <td>14008</td>\n",
       "      <td>...</td>\n",
       "      <td>14061</td>\n",
       "      <td>14057</td>\n",
       "      <td>14077</td>\n",
       "      <td>14069</td>\n",
       "      <td>14070</td>\n",
       "      <td>14077</td>\n",
       "      <td>14089</td>\n",
       "      <td>14088</td>\n",
       "      <td>13704</td>\n",
       "      <td>1</td>\n",
       "    </tr>\n",
       "  </tbody>\n",
       "</table>\n",
       "<p>4 rows × 23 columns</p>\n",
       "</div>"
      ],
      "text/plain": [
       "            0      1      2      3      4      5      6      7      8      9  \\\n",
       "count   14119  14119  14119  14119  14119  14119  14119  14119  14119  14119   \n",
       "unique    148     20     12      9      6      7      4      4      6      4   \n",
       "top         1      0      0      0      0      0      0      0      0      0   \n",
       "freq     1451  12675  13776  13918  13952  13945  13987  13996  14002  14008   \n",
       "\n",
       "        ...     13     14     15     16     17     18     19     20  other  \\\n",
       "count   ...  14119  14119  14119  14119  14119  14119  14119  14119  14119   \n",
       "unique  ...      4      4      3      3      5      4      5      3     80   \n",
       "top     ...      0      0      0      0      0      0      0      0      0   \n",
       "freq    ...  14061  14057  14077  14069  14070  14077  14089  14088  13704   \n",
       "\n",
       "                 id_news  \n",
       "count              14119  \n",
       "unique             14119  \n",
       "top     gossipcop-846866  \n",
       "freq                   1  \n",
       "\n",
       "[4 rows x 23 columns]"
      ]
     },
     "execution_count": 45,
     "metadata": {},
     "output_type": "execute_result"
    }
   ],
   "source": [
    "df_lens.describe()"
   ]
  },
  {
   "cell_type": "code",
   "execution_count": 46,
   "id": "f8a2823a",
   "metadata": {
    "ExecuteTime": {
     "end_time": "2022-12-28T14:24:41.482381Z",
     "start_time": "2022-12-28T14:24:41.434055Z"
    }
   },
   "outputs": [],
   "source": [
    "# storing data in JSON format\n",
    "dataset_name = '{}_{}_lens_counts_{}hours.json'.format(dataset, label_or_class, hours)\n",
    "df_lens.to_json(dataset_name, orient = 'table', index=False, compression = 'infer')"
   ]
  },
  {
   "cell_type": "markdown",
   "id": "5d34ce3f",
   "metadata": {
    "heading_collapsed": true
   },
   "source": [
    "## Creating a new dataset of the previous one by aggregating some last features.\n",
    "\n",
    "<strong>'{}_{}_lens_counts_dic_11_{}hours.json'.format(dataset, label, hours)</strong>"
   ]
  },
  {
   "cell_type": "code",
   "execution_count": 47,
   "id": "922b0a01",
   "metadata": {
    "ExecuteTime": {
     "end_time": "2022-12-28T14:24:41.688086Z",
     "start_time": "2022-12-28T14:24:41.483760Z"
    },
    "hidden": true
   },
   "outputs": [],
   "source": [
    "# Reading the above file\n",
    "dataset_name = '{}_{}_lens_counts_{}hours.json'.format(dataset, label_or_class, hours)\n",
    "df_lens = pd.read_json(dataset_name, orient ='table', compression = 'infer')"
   ]
  },
  {
   "cell_type": "code",
   "execution_count": 48,
   "id": "7b161b7e",
   "metadata": {
    "ExecuteTime": {
     "end_time": "2022-12-28T14:24:41.693835Z",
     "start_time": "2022-12-28T14:24:41.689495Z"
    },
    "hidden": true
   },
   "outputs": [
    {
     "data": {
      "text/plain": [
       "(14119, 23)"
      ]
     },
     "execution_count": 48,
     "metadata": {},
     "output_type": "execute_result"
    }
   ],
   "source": [
    "df_lens.shape"
   ]
  },
  {
   "cell_type": "code",
   "execution_count": 49,
   "id": "051402ee",
   "metadata": {
    "ExecuteTime": {
     "end_time": "2022-12-28T14:24:41.726812Z",
     "start_time": "2022-12-28T14:24:41.695003Z"
    },
    "hidden": true
   },
   "outputs": [
    {
     "data": {
      "text/html": [
       "<div>\n",
       "<style scoped>\n",
       "    .dataframe tbody tr th:only-of-type {\n",
       "        vertical-align: middle;\n",
       "    }\n",
       "\n",
       "    .dataframe tbody tr th {\n",
       "        vertical-align: top;\n",
       "    }\n",
       "\n",
       "    .dataframe thead th {\n",
       "        text-align: right;\n",
       "    }\n",
       "</style>\n",
       "<table border=\"1\" class=\"dataframe\">\n",
       "  <thead>\n",
       "    <tr style=\"text-align: right;\">\n",
       "      <th></th>\n",
       "      <th>0</th>\n",
       "      <th>1</th>\n",
       "      <th>2</th>\n",
       "      <th>3</th>\n",
       "      <th>4</th>\n",
       "      <th>5</th>\n",
       "      <th>6</th>\n",
       "      <th>7</th>\n",
       "      <th>8</th>\n",
       "      <th>9</th>\n",
       "      <th>...</th>\n",
       "      <th>13</th>\n",
       "      <th>14</th>\n",
       "      <th>15</th>\n",
       "      <th>16</th>\n",
       "      <th>17</th>\n",
       "      <th>18</th>\n",
       "      <th>19</th>\n",
       "      <th>20</th>\n",
       "      <th>other</th>\n",
       "      <th>id_news</th>\n",
       "    </tr>\n",
       "  </thead>\n",
       "  <tbody>\n",
       "    <tr>\n",
       "      <th>0</th>\n",
       "      <td>26</td>\n",
       "      <td>0</td>\n",
       "      <td>0</td>\n",
       "      <td>0</td>\n",
       "      <td>0</td>\n",
       "      <td>0</td>\n",
       "      <td>0</td>\n",
       "      <td>0</td>\n",
       "      <td>0</td>\n",
       "      <td>0</td>\n",
       "      <td>...</td>\n",
       "      <td>0</td>\n",
       "      <td>0</td>\n",
       "      <td>0</td>\n",
       "      <td>0</td>\n",
       "      <td>0</td>\n",
       "      <td>0</td>\n",
       "      <td>0</td>\n",
       "      <td>0</td>\n",
       "      <td>0</td>\n",
       "      <td>gossipcop-846866</td>\n",
       "    </tr>\n",
       "    <tr>\n",
       "      <th>1</th>\n",
       "      <td>19</td>\n",
       "      <td>0</td>\n",
       "      <td>0</td>\n",
       "      <td>0</td>\n",
       "      <td>0</td>\n",
       "      <td>0</td>\n",
       "      <td>0</td>\n",
       "      <td>0</td>\n",
       "      <td>0</td>\n",
       "      <td>0</td>\n",
       "      <td>...</td>\n",
       "      <td>0</td>\n",
       "      <td>0</td>\n",
       "      <td>0</td>\n",
       "      <td>0</td>\n",
       "      <td>0</td>\n",
       "      <td>0</td>\n",
       "      <td>0</td>\n",
       "      <td>0</td>\n",
       "      <td>0</td>\n",
       "      <td>gossipcop-873992</td>\n",
       "    </tr>\n",
       "  </tbody>\n",
       "</table>\n",
       "<p>2 rows × 23 columns</p>\n",
       "</div>"
      ],
      "text/plain": [
       "    0  1  2  3  4  5  6  7  8  9  ... 13 14 15 16 17 18 19 20 other  \\\n",
       "0  26  0  0  0  0  0  0  0  0  0  ...  0  0  0  0  0  0  0  0     0   \n",
       "1  19  0  0  0  0  0  0  0  0  0  ...  0  0  0  0  0  0  0  0     0   \n",
       "\n",
       "            id_news  \n",
       "0  gossipcop-846866  \n",
       "1  gossipcop-873992  \n",
       "\n",
       "[2 rows x 23 columns]"
      ]
     },
     "execution_count": 49,
     "metadata": {},
     "output_type": "execute_result"
    }
   ],
   "source": [
    "df_lens.head(2)"
   ]
  },
  {
   "cell_type": "code",
   "execution_count": 50,
   "id": "6bc34d9f",
   "metadata": {
    "ExecuteTime": {
     "end_time": "2022-12-28T14:25:12.870045Z",
     "start_time": "2022-12-28T14:24:41.728018Z"
    },
    "hidden": true
   },
   "outputs": [],
   "source": [
    "news_ids = list(df_lens['id_news'])\n",
    "dic_lens = {}\n",
    "\n",
    "for news in news_ids:\n",
    "    dic_lens[news] = []\n",
    "    news_lens = df_lens[df_lens['id_news'] == news]\n",
    "    for i in range(10):\n",
    "        x = news_lens.iloc[0][i]\n",
    "        dic_lens[news].append(x)\n",
    "        \n",
    "    other = 0\n",
    "    for i in range(10, 21):\n",
    "        x = news_lens.iloc[0][i]\n",
    "        other += x\n",
    "        \n",
    "    x = news_lens.iloc[0]['other']\n",
    "    other += x\n",
    "    dic_lens[news].append(other)"
   ]
  },
  {
   "cell_type": "code",
   "execution_count": 51,
   "id": "d74e0b80",
   "metadata": {
    "ExecuteTime": {
     "end_time": "2022-12-28T14:25:12.876338Z",
     "start_time": "2022-12-28T14:25:12.871516Z"
    },
    "hidden": true
   },
   "outputs": [
    {
     "data": {
      "text/plain": [
       "14119"
      ]
     },
     "execution_count": 51,
     "metadata": {},
     "output_type": "execute_result"
    }
   ],
   "source": [
    "len(dic_lens)"
   ]
  },
  {
   "cell_type": "code",
   "execution_count": 52,
   "id": "946fed23",
   "metadata": {
    "ExecuteTime": {
     "end_time": "2022-12-28T14:25:12.892651Z",
     "start_time": "2022-12-28T14:25:12.877531Z"
    },
    "hidden": true
   },
   "outputs": [
    {
     "data": {
      "text/plain": [
       "11"
      ]
     },
     "execution_count": 52,
     "metadata": {},
     "output_type": "execute_result"
    }
   ],
   "source": [
    "len(dic_lens[news_list[0]])"
   ]
  },
  {
   "cell_type": "code",
   "execution_count": 53,
   "id": "d9cf21fa",
   "metadata": {
    "ExecuteTime": {
     "end_time": "2022-12-28T14:25:12.971423Z",
     "start_time": "2022-12-28T14:25:12.894966Z"
    },
    "hidden": true
   },
   "outputs": [],
   "source": [
    "# storing data in JSON format\n",
    "dic_lens_json = json.dumps(dic_lens)\n",
    "file_name = '{}_{}_lens_counts_dic_11_{}hours.json'.format(dataset, label_or_class, hours)\n",
    "f = open(file_name,\"w\")\n",
    "f.write(dic_lens_json)\n",
    "f.close()"
   ]
  },
  {
   "cell_type": "markdown",
   "id": "48d83d45",
   "metadata": {
    "heading_collapsed": true
   },
   "source": [
    "# Analysing the number of cascades (or the number of tweet)"
   ]
  },
  {
   "cell_type": "code",
   "execution_count": 54,
   "id": "7e40e6bd",
   "metadata": {
    "ExecuteTime": {
     "end_time": "2022-12-28T14:25:12.988032Z",
     "start_time": "2022-12-28T14:25:12.972875Z"
    },
    "hidden": true
   },
   "outputs": [
    {
     "data": {
      "text/plain": [
       "(372059, 9)"
      ]
     },
     "execution_count": 54,
     "metadata": {},
     "output_type": "execute_result"
    }
   ],
   "source": [
    "df_counts.shape"
   ]
  },
  {
   "cell_type": "code",
   "execution_count": 55,
   "id": "4d0a0c00",
   "metadata": {
    "ExecuteTime": {
     "end_time": "2022-12-28T14:25:13.370450Z",
     "start_time": "2022-12-28T14:25:12.989391Z"
    },
    "hidden": true
   },
   "outputs": [],
   "source": [
    "df_casecad_counts = df_counts.drop(['count'], axis=1).drop_duplicates()"
   ]
  },
  {
   "cell_type": "code",
   "execution_count": 56,
   "id": "1800ba93",
   "metadata": {
    "ExecuteTime": {
     "end_time": "2022-12-28T14:25:13.525260Z",
     "start_time": "2022-12-28T14:25:13.371847Z"
    },
    "hidden": true
   },
   "outputs": [],
   "source": [
    "df_casecad_counts['cascade_count'] = df_casecad_counts.groupby(['id_news'])['id_str'].transform('count')"
   ]
  },
  {
   "cell_type": "code",
   "execution_count": 60,
   "id": "079126c3",
   "metadata": {
    "ExecuteTime": {
     "end_time": "2022-12-28T14:25:13.636260Z",
     "start_time": "2022-12-28T14:25:13.555309Z"
    },
    "hidden": true
   },
   "outputs": [
    {
     "data": {
      "text/html": [
       "<div>\n",
       "<style scoped>\n",
       "    .dataframe tbody tr th:only-of-type {\n",
       "        vertical-align: middle;\n",
       "    }\n",
       "\n",
       "    .dataframe tbody tr th {\n",
       "        vertical-align: top;\n",
       "    }\n",
       "\n",
       "    .dataframe thead th {\n",
       "        text-align: right;\n",
       "    }\n",
       "</style>\n",
       "<table border=\"1\" class=\"dataframe\">\n",
       "  <thead>\n",
       "    <tr style=\"text-align: right;\">\n",
       "      <th></th>\n",
       "      <th>new_re_created_at</th>\n",
       "      <th>diff_t</th>\n",
       "      <th>diff_r</th>\n",
       "      <th>diff</th>\n",
       "      <th>cascade_count</th>\n",
       "    </tr>\n",
       "  </thead>\n",
       "  <tbody>\n",
       "    <tr>\n",
       "      <th>count</th>\n",
       "      <td>3.720590e+05</td>\n",
       "      <td>372059.000000</td>\n",
       "      <td>3.720590e+05</td>\n",
       "      <td>3.720590e+05</td>\n",
       "      <td>372059.000000</td>\n",
       "    </tr>\n",
       "    <tr>\n",
       "      <th>mean</th>\n",
       "      <td>1.366711e+08</td>\n",
       "      <td>3379.740538</td>\n",
       "      <td>-1.372018e+09</td>\n",
       "      <td>-1.372022e+09</td>\n",
       "      <td>58.943461</td>\n",
       "    </tr>\n",
       "    <tr>\n",
       "      <th>std</th>\n",
       "      <td>4.333003e+08</td>\n",
       "      <td>3142.698076</td>\n",
       "      <td>4.330078e+08</td>\n",
       "      <td>4.330082e+08</td>\n",
       "      <td>94.544314</td>\n",
       "    </tr>\n",
       "    <tr>\n",
       "      <th>min</th>\n",
       "      <td>-1.000000e+02</td>\n",
       "      <td>0.000000</td>\n",
       "      <td>-1.543719e+09</td>\n",
       "      <td>-1.543728e+09</td>\n",
       "      <td>1.000000</td>\n",
       "    </tr>\n",
       "    <tr>\n",
       "      <th>25%</th>\n",
       "      <td>-1.000000e+02</td>\n",
       "      <td>668.000000</td>\n",
       "      <td>-1.517548e+09</td>\n",
       "      <td>-1.517551e+09</td>\n",
       "      <td>24.000000</td>\n",
       "    </tr>\n",
       "    <tr>\n",
       "      <th>50%</th>\n",
       "      <td>-1.000000e+02</td>\n",
       "      <td>2296.000000</td>\n",
       "      <td>-1.506093e+09</td>\n",
       "      <td>-1.506094e+09</td>\n",
       "      <td>40.000000</td>\n",
       "    </tr>\n",
       "    <tr>\n",
       "      <th>75%</th>\n",
       "      <td>-1.000000e+02</td>\n",
       "      <td>5717.000000</td>\n",
       "      <td>-1.495602e+09</td>\n",
       "      <td>-1.495604e+09</td>\n",
       "      <td>54.000000</td>\n",
       "    </tr>\n",
       "    <tr>\n",
       "      <th>max</th>\n",
       "      <td>1.543725e+09</td>\n",
       "      <td>10799.000000</td>\n",
       "      <td>1.079900e+04</td>\n",
       "      <td>1.079600e+04</td>\n",
       "      <td>1029.000000</td>\n",
       "    </tr>\n",
       "  </tbody>\n",
       "</table>\n",
       "</div>"
      ],
      "text/plain": [
       "       new_re_created_at         diff_t        diff_r          diff  \\\n",
       "count       3.720590e+05  372059.000000  3.720590e+05  3.720590e+05   \n",
       "mean        1.366711e+08    3379.740538 -1.372018e+09 -1.372022e+09   \n",
       "std         4.333003e+08    3142.698076  4.330078e+08  4.330082e+08   \n",
       "min        -1.000000e+02       0.000000 -1.543719e+09 -1.543728e+09   \n",
       "25%        -1.000000e+02     668.000000 -1.517548e+09 -1.517551e+09   \n",
       "50%        -1.000000e+02    2296.000000 -1.506093e+09 -1.506094e+09   \n",
       "75%        -1.000000e+02    5717.000000 -1.495602e+09 -1.495604e+09   \n",
       "max         1.543725e+09   10799.000000  1.079900e+04  1.079600e+04   \n",
       "\n",
       "       cascade_count  \n",
       "count  372059.000000  \n",
       "mean       58.943461  \n",
       "std        94.544314  \n",
       "min         1.000000  \n",
       "25%        24.000000  \n",
       "50%        40.000000  \n",
       "75%        54.000000  \n",
       "max      1029.000000  "
      ]
     },
     "execution_count": 60,
     "metadata": {},
     "output_type": "execute_result"
    }
   ],
   "source": [
    "df_casecad_counts.describe()"
   ]
  },
  {
   "cell_type": "code",
   "execution_count": 61,
   "id": "62cf2085",
   "metadata": {
    "ExecuteTime": {
     "end_time": "2022-12-28T14:25:13.710301Z",
     "start_time": "2022-12-28T14:25:13.637640Z"
    },
    "hidden": true
   },
   "outputs": [
    {
     "data": {
      "text/html": [
       "<div>\n",
       "<style scoped>\n",
       "    .dataframe tbody tr th:only-of-type {\n",
       "        vertical-align: middle;\n",
       "    }\n",
       "\n",
       "    .dataframe tbody tr th {\n",
       "        vertical-align: top;\n",
       "    }\n",
       "\n",
       "    .dataframe thead th {\n",
       "        text-align: right;\n",
       "    }\n",
       "</style>\n",
       "<table border=\"1\" class=\"dataframe\">\n",
       "  <thead>\n",
       "    <tr style=\"text-align: right;\">\n",
       "      <th></th>\n",
       "      <th>new_re_created_at</th>\n",
       "      <th>diff_t</th>\n",
       "      <th>diff_r</th>\n",
       "      <th>diff</th>\n",
       "      <th>cascade_count</th>\n",
       "    </tr>\n",
       "  </thead>\n",
       "  <tbody>\n",
       "    <tr>\n",
       "      <th>count</th>\n",
       "      <td>2.588620e+05</td>\n",
       "      <td>258862.00000</td>\n",
       "      <td>2.588620e+05</td>\n",
       "      <td>2.588620e+05</td>\n",
       "      <td>258862.000000</td>\n",
       "    </tr>\n",
       "    <tr>\n",
       "      <th>mean</th>\n",
       "      <td>1.637090e+08</td>\n",
       "      <td>3703.53700</td>\n",
       "      <td>-1.343315e+09</td>\n",
       "      <td>-1.343319e+09</td>\n",
       "      <td>57.069860</td>\n",
       "    </tr>\n",
       "    <tr>\n",
       "      <th>std</th>\n",
       "      <td>4.695266e+08</td>\n",
       "      <td>3204.68588</td>\n",
       "      <td>4.685748e+08</td>\n",
       "      <td>4.685754e+08</td>\n",
       "      <td>38.619302</td>\n",
       "    </tr>\n",
       "    <tr>\n",
       "      <th>min</th>\n",
       "      <td>-1.000000e+02</td>\n",
       "      <td>0.00000</td>\n",
       "      <td>-1.532996e+09</td>\n",
       "      <td>-1.533005e+09</td>\n",
       "      <td>27.000000</td>\n",
       "    </tr>\n",
       "    <tr>\n",
       "      <th>25%</th>\n",
       "      <td>-1.000000e+02</td>\n",
       "      <td>841.00000</td>\n",
       "      <td>-1.515038e+09</td>\n",
       "      <td>-1.515043e+09</td>\n",
       "      <td>38.000000</td>\n",
       "    </tr>\n",
       "    <tr>\n",
       "      <th>50%</th>\n",
       "      <td>-1.000000e+02</td>\n",
       "      <td>2794.00000</td>\n",
       "      <td>-1.502509e+09</td>\n",
       "      <td>-1.502517e+09</td>\n",
       "      <td>45.000000</td>\n",
       "    </tr>\n",
       "    <tr>\n",
       "      <th>75%</th>\n",
       "      <td>-1.000000e+02</td>\n",
       "      <td>6261.75000</td>\n",
       "      <td>-1.494699e+09</td>\n",
       "      <td>-1.494705e+09</td>\n",
       "      <td>60.000000</td>\n",
       "    </tr>\n",
       "    <tr>\n",
       "      <th>max</th>\n",
       "      <td>1.532967e+09</td>\n",
       "      <td>10799.00000</td>\n",
       "      <td>1.079900e+04</td>\n",
       "      <td>1.079600e+04</td>\n",
       "      <td>291.000000</td>\n",
       "    </tr>\n",
       "  </tbody>\n",
       "</table>\n",
       "</div>"
      ],
      "text/plain": [
       "       new_re_created_at        diff_t        diff_r          diff  \\\n",
       "count       2.588620e+05  258862.00000  2.588620e+05  2.588620e+05   \n",
       "mean        1.637090e+08    3703.53700 -1.343315e+09 -1.343319e+09   \n",
       "std         4.695266e+08    3204.68588  4.685748e+08  4.685754e+08   \n",
       "min        -1.000000e+02       0.00000 -1.532996e+09 -1.533005e+09   \n",
       "25%        -1.000000e+02     841.00000 -1.515038e+09 -1.515043e+09   \n",
       "50%        -1.000000e+02    2794.00000 -1.502509e+09 -1.502517e+09   \n",
       "75%        -1.000000e+02    6261.75000 -1.494699e+09 -1.494705e+09   \n",
       "max         1.532967e+09   10799.00000  1.079900e+04  1.079600e+04   \n",
       "\n",
       "       cascade_count  \n",
       "count  258862.000000  \n",
       "mean       57.069860  \n",
       "std        38.619302  \n",
       "min        27.000000  \n",
       "25%        38.000000  \n",
       "50%        45.000000  \n",
       "75%        60.000000  \n",
       "max       291.000000  "
      ]
     },
     "execution_count": 61,
     "metadata": {},
     "output_type": "execute_result"
    }
   ],
   "source": [
    "# The mean of Q1:Q3 cascade counts has less std than the total mean\n",
    "df_casecad_counts[df_casecad_counts['cascade_count'].between(27,318)].describe()"
   ]
  },
  {
   "cell_type": "markdown",
   "id": "df4037d2",
   "metadata": {
    "hidden": true
   },
   "source": [
    "<strong> The number of cascades per news </strong>\n",
    "\n",
    "According to the percentages above, the average value for cascades count is around 3300, which means each piece of news is <strong>tweeted</strong> (only tweeted without counting retweets) almost 3300 times.\n",
    "\n",
    "<strong> The number of cascades per news in the first 4 hours </strong>\n",
    "According to the percentages above, the average value for cascades count is around 124, which means each piece of news is <strong>tweeted</strong> (only tweeted without counting retweets) almost 124 times."
   ]
  },
  {
   "cell_type": "code",
   "execution_count": null,
   "id": "805baf77",
   "metadata": {
    "hidden": true
   },
   "outputs": [],
   "source": []
  }
 ],
 "metadata": {
  "kernelspec": {
   "display_name": "Python 3 (ipykernel)",
   "language": "python",
   "name": "python3"
  },
  "language_info": {
   "codemirror_mode": {
    "name": "ipython",
    "version": 3
   },
   "file_extension": ".py",
   "mimetype": "text/x-python",
   "name": "python",
   "nbconvert_exporter": "python",
   "pygments_lexer": "ipython3",
   "version": "3.9.12"
  }
 },
 "nbformat": 4,
 "nbformat_minor": 5
}

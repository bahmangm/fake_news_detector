{
 "cells": [
  {
   "cell_type": "code",
   "execution_count": 1,
   "id": "ad418c1c",
   "metadata": {
    "ExecuteTime": {
     "end_time": "2022-12-29T21:35:54.210752Z",
     "start_time": "2022-12-29T21:35:53.549614Z"
    }
   },
   "outputs": [],
   "source": [
    "import pandas as pd\n",
    "import numpy as np\n",
    "import json\n",
    "import os\n",
    "import time\n",
    "import math\n",
    "from vaderSentiment.vaderSentiment import SentimentIntensityAnalyzer\n",
    "import configs"
   ]
  },
  {
   "cell_type": "code",
   "execution_count": 2,
   "id": "ff3d7cb5",
   "metadata": {},
   "outputs": [],
   "source": [
    "# settings from configs.py file\n",
    "\n",
    "dataset = configs.data_source # 'politifact' or 'gossipcop'\n",
    "label_or_class = configs.fake_or_real # 'fake' or 'real'\n",
    "\n",
    "hours = configs.detection_deadline # detection time in hours"
   ]
  },
  {
   "cell_type": "markdown",
   "id": "05f5d374",
   "metadata": {},
   "source": [
    "# Filtering tweets and retweets created in the first above hours considering the time of first tweet as the starting point\n",
    "<strong>'{}_{}_counting_{}hours.json'.format(dataset, label, hours)</strong>"
   ]
  },
  {
   "cell_type": "code",
   "execution_count": 4,
   "id": "7ab6f650",
   "metadata": {
    "ExecuteTime": {
     "end_time": "2022-12-28T14:10:22.088931Z",
     "start_time": "2022-12-28T14:08:26.572281Z"
    }
   },
   "outputs": [],
   "source": [
    "# Reading total nodes table to filter\n",
    "dataset_name = '{}_{}_counting.json'.format(dataset, label_or_class)\n",
    "df = pd.read_json(dataset_name, orient ='table', compression = 'infer')"
   ]
  },
  {
   "cell_type": "code",
   "execution_count": 5,
   "id": "16de8c92",
   "metadata": {
    "ExecuteTime": {
     "end_time": "2022-12-28T14:10:22.099860Z",
     "start_time": "2022-12-28T14:10:22.090835Z"
    }
   },
   "outputs": [
    {
     "data": {
      "text/plain": [
       "(818202, 9)"
      ]
     },
     "execution_count": 5,
     "metadata": {},
     "output_type": "execute_result"
    }
   ],
   "source": [
    "df.shape"
   ]
  },
  {
   "cell_type": "code",
   "execution_count": 6,
   "id": "6c872a38",
   "metadata": {
    "ExecuteTime": {
     "end_time": "2022-12-28T14:10:22.205484Z",
     "start_time": "2022-12-28T14:10:22.100992Z"
    }
   },
   "outputs": [
    {
     "data": {
      "text/plain": [
       "(14119,)"
      ]
     },
     "execution_count": 6,
     "metadata": {},
     "output_type": "execute_result"
    }
   ],
   "source": [
    "df['id_news'].drop_duplicates().shape"
   ]
  },
  {
   "cell_type": "code",
   "execution_count": 7,
   "id": "eba501d1",
   "metadata": {
    "ExecuteTime": {
     "end_time": "2022-12-28T14:10:36.069267Z",
     "start_time": "2022-12-28T14:10:22.210352Z"
    }
   },
   "outputs": [],
   "source": [
    "# generating new time field for each tweet\n",
    "df['new_created_at'] = df.created_at.apply(\n",
    "    lambda x: time.mktime(time.strptime(str(x), \"%Y-%m-%d %H:%M:%S+00:00\")))"
   ]
  },
  {
   "cell_type": "code",
   "execution_count": 8,
   "id": "2e238d1e",
   "metadata": {
    "ExecuteTime": {
     "end_time": "2022-12-28T14:10:39.654484Z",
     "start_time": "2022-12-28T14:10:36.071281Z"
    }
   },
   "outputs": [],
   "source": [
    "# generating new time field for each retweet considering tweet time as zero\n",
    "# if there is no retweets, the value is -100\n",
    "df['new_re_created_at'] = df.re_created_at.apply(\n",
    "    lambda x: -100 if pd.isnull(x) else \n",
    "    time.mktime(time.strptime(str(x), \"%Y-%m-%d %H:%M:%S+00:00\")))"
   ]
  },
  {
   "cell_type": "code",
   "execution_count": 9,
   "id": "75ecfa3b",
   "metadata": {
    "ExecuteTime": {
     "end_time": "2022-12-28T14:10:39.660081Z",
     "start_time": "2022-12-28T14:10:39.656084Z"
    }
   },
   "outputs": [
    {
     "data": {
      "text/plain": [
       "(818202, 11)"
      ]
     },
     "execution_count": 9,
     "metadata": {},
     "output_type": "execute_result"
    }
   ],
   "source": [
    "df.shape"
   ]
  },
  {
   "cell_type": "code",
   "execution_count": 10,
   "id": "a4b4c6c3",
   "metadata": {
    "ExecuteTime": {
     "end_time": "2022-12-28T14:10:39.687239Z",
     "start_time": "2022-12-28T14:10:39.661168Z"
    }
   },
   "outputs": [
    {
     "data": {
      "text/html": [
       "<div>\n",
       "<style scoped>\n",
       "    .dataframe tbody tr th:only-of-type {\n",
       "        vertical-align: middle;\n",
       "    }\n",
       "\n",
       "    .dataframe tbody tr th {\n",
       "        vertical-align: top;\n",
       "    }\n",
       "\n",
       "    .dataframe thead th {\n",
       "        text-align: right;\n",
       "    }\n",
       "</style>\n",
       "<table border=\"1\" class=\"dataframe\">\n",
       "  <thead>\n",
       "    <tr style=\"text-align: right;\">\n",
       "      <th></th>\n",
       "      <th>id_news</th>\n",
       "      <th>created_at</th>\n",
       "      <th>id_str</th>\n",
       "      <th>re_created_at</th>\n",
       "      <th>re_id_str</th>\n",
       "      <th>re_text</th>\n",
       "      <th>re_user_id_str</th>\n",
       "      <th>re_retweet_count</th>\n",
       "      <th>re_favorite_count</th>\n",
       "      <th>new_created_at</th>\n",
       "      <th>new_re_created_at</th>\n",
       "    </tr>\n",
       "  </thead>\n",
       "  <tbody>\n",
       "    <tr>\n",
       "      <th>0</th>\n",
       "      <td>gossipcop-846866</td>\n",
       "      <td>2017-04-28 18:51:43+00:00</td>\n",
       "      <td>858030987837673472</td>\n",
       "      <td>NaT</td>\n",
       "      <td>NaN</td>\n",
       "      <td>NaN</td>\n",
       "      <td>NaN</td>\n",
       "      <td>NaN</td>\n",
       "      <td>NaN</td>\n",
       "      <td>1.493416e+09</td>\n",
       "      <td>-100.0</td>\n",
       "    </tr>\n",
       "    <tr>\n",
       "      <th>1</th>\n",
       "      <td>gossipcop-846866</td>\n",
       "      <td>2017-04-29 01:55:55+00:00</td>\n",
       "      <td>858137740566827008</td>\n",
       "      <td>NaT</td>\n",
       "      <td>NaN</td>\n",
       "      <td>NaN</td>\n",
       "      <td>NaN</td>\n",
       "      <td>NaN</td>\n",
       "      <td>NaN</td>\n",
       "      <td>1.493442e+09</td>\n",
       "      <td>-100.0</td>\n",
       "    </tr>\n",
       "    <tr>\n",
       "      <th>2</th>\n",
       "      <td>gossipcop-846866</td>\n",
       "      <td>2017-04-28 18:56:00+00:00</td>\n",
       "      <td>858032064276377600</td>\n",
       "      <td>NaT</td>\n",
       "      <td>NaN</td>\n",
       "      <td>NaN</td>\n",
       "      <td>NaN</td>\n",
       "      <td>NaN</td>\n",
       "      <td>NaN</td>\n",
       "      <td>1.493417e+09</td>\n",
       "      <td>-100.0</td>\n",
       "    </tr>\n",
       "    <tr>\n",
       "      <th>3</th>\n",
       "      <td>gossipcop-846866</td>\n",
       "      <td>2017-04-28 18:59:27+00:00</td>\n",
       "      <td>858032934699360256</td>\n",
       "      <td>NaT</td>\n",
       "      <td>NaN</td>\n",
       "      <td>NaN</td>\n",
       "      <td>NaN</td>\n",
       "      <td>NaN</td>\n",
       "      <td>NaN</td>\n",
       "      <td>1.493417e+09</td>\n",
       "      <td>-100.0</td>\n",
       "    </tr>\n",
       "    <tr>\n",
       "      <th>4</th>\n",
       "      <td>gossipcop-846866</td>\n",
       "      <td>2017-04-28 21:01:43+00:00</td>\n",
       "      <td>858063704407105537</td>\n",
       "      <td>NaT</td>\n",
       "      <td>NaN</td>\n",
       "      <td>NaN</td>\n",
       "      <td>NaN</td>\n",
       "      <td>NaN</td>\n",
       "      <td>NaN</td>\n",
       "      <td>1.493424e+09</td>\n",
       "      <td>-100.0</td>\n",
       "    </tr>\n",
       "  </tbody>\n",
       "</table>\n",
       "</div>"
      ],
      "text/plain": [
       "            id_news                created_at              id_str  \\\n",
       "0  gossipcop-846866 2017-04-28 18:51:43+00:00  858030987837673472   \n",
       "1  gossipcop-846866 2017-04-29 01:55:55+00:00  858137740566827008   \n",
       "2  gossipcop-846866 2017-04-28 18:56:00+00:00  858032064276377600   \n",
       "3  gossipcop-846866 2017-04-28 18:59:27+00:00  858032934699360256   \n",
       "4  gossipcop-846866 2017-04-28 21:01:43+00:00  858063704407105537   \n",
       "\n",
       "  re_created_at re_id_str re_text re_user_id_str  re_retweet_count  \\\n",
       "0           NaT       NaN     NaN            NaN               NaN   \n",
       "1           NaT       NaN     NaN            NaN               NaN   \n",
       "2           NaT       NaN     NaN            NaN               NaN   \n",
       "3           NaT       NaN     NaN            NaN               NaN   \n",
       "4           NaT       NaN     NaN            NaN               NaN   \n",
       "\n",
       "   re_favorite_count  new_created_at  new_re_created_at  \n",
       "0                NaN    1.493416e+09             -100.0  \n",
       "1                NaN    1.493442e+09             -100.0  \n",
       "2                NaN    1.493417e+09             -100.0  \n",
       "3                NaN    1.493417e+09             -100.0  \n",
       "4                NaN    1.493424e+09             -100.0  "
      ]
     },
     "execution_count": 10,
     "metadata": {},
     "output_type": "execute_result"
    }
   ],
   "source": [
    "df.head()"
   ]
  },
  {
   "cell_type": "code",
   "execution_count": 11,
   "id": "934c0949",
   "metadata": {
    "ExecuteTime": {
     "end_time": "2022-12-28T14:10:39.850618Z",
     "start_time": "2022-12-28T14:10:39.688420Z"
    }
   },
   "outputs": [],
   "source": [
    "df['zero_time'] = df.groupby(['id_news'])['new_created_at'].transform('min')"
   ]
  },
  {
   "cell_type": "code",
   "execution_count": 12,
   "id": "503014e0",
   "metadata": {
    "ExecuteTime": {
     "end_time": "2022-12-28T14:10:39.856641Z",
     "start_time": "2022-12-28T14:10:39.852014Z"
    }
   },
   "outputs": [
    {
     "data": {
      "text/plain": [
       "(818202, 12)"
      ]
     },
     "execution_count": 12,
     "metadata": {},
     "output_type": "execute_result"
    }
   ],
   "source": [
    "df.shape"
   ]
  },
  {
   "cell_type": "code",
   "execution_count": 13,
   "id": "f5ad5b4d",
   "metadata": {
    "ExecuteTime": {
     "end_time": "2022-12-28T14:10:39.871261Z",
     "start_time": "2022-12-28T14:10:39.859412Z"
    }
   },
   "outputs": [],
   "source": [
    "df['diff_t'] = df['new_created_at'] - df['zero_time']"
   ]
  },
  {
   "cell_type": "code",
   "execution_count": 14,
   "id": "0eeccef1",
   "metadata": {
    "ExecuteTime": {
     "end_time": "2022-12-28T14:10:39.881524Z",
     "start_time": "2022-12-28T14:10:39.873704Z"
    }
   },
   "outputs": [
    {
     "data": {
      "text/plain": [
       "(818202, 13)"
      ]
     },
     "execution_count": 14,
     "metadata": {},
     "output_type": "execute_result"
    }
   ],
   "source": [
    "df.shape"
   ]
  },
  {
   "cell_type": "code",
   "execution_count": 15,
   "id": "a5cdd247",
   "metadata": {
    "ExecuteTime": {
     "end_time": "2022-12-28T14:10:39.898438Z",
     "start_time": "2022-12-28T14:10:39.883975Z"
    }
   },
   "outputs": [],
   "source": [
    "df['diff_r'] = df['new_re_created_at'] - df['zero_time']"
   ]
  },
  {
   "cell_type": "code",
   "execution_count": 16,
   "id": "14f9fb5d",
   "metadata": {
    "ExecuteTime": {
     "end_time": "2022-12-28T14:10:39.909117Z",
     "start_time": "2022-12-28T14:10:39.901850Z"
    }
   },
   "outputs": [
    {
     "data": {
      "text/plain": [
       "(818202, 14)"
      ]
     },
     "execution_count": 16,
     "metadata": {},
     "output_type": "execute_result"
    }
   ],
   "source": [
    "df.shape"
   ]
  },
  {
   "cell_type": "code",
   "execution_count": 17,
   "id": "8548f358",
   "metadata": {
    "ExecuteTime": {
     "end_time": "2022-12-28T14:10:40.004434Z",
     "start_time": "2022-12-28T14:10:39.911597Z"
    }
   },
   "outputs": [],
   "source": [
    "# The total number of tweets created in first 5 hours after releasing news\n",
    "df = df[df['diff_t'] < (hours*60*60)]"
   ]
  },
  {
   "cell_type": "code",
   "execution_count": 18,
   "id": "929f5f72",
   "metadata": {
    "ExecuteTime": {
     "end_time": "2022-12-28T14:10:40.010257Z",
     "start_time": "2022-12-28T14:10:40.005885Z"
    }
   },
   "outputs": [
    {
     "data": {
      "text/plain": [
       "(396650, 14)"
      ]
     },
     "execution_count": 18,
     "metadata": {},
     "output_type": "execute_result"
    }
   ],
   "source": [
    "df.shape"
   ]
  },
  {
   "cell_type": "code",
   "execution_count": 19,
   "id": "937f7062",
   "metadata": {
    "ExecuteTime": {
     "end_time": "2022-12-28T14:10:40.087416Z",
     "start_time": "2022-12-28T14:10:40.011374Z"
    }
   },
   "outputs": [],
   "source": [
    "# The total number of retweets created in first 4 hours after releasing news\n",
    "# The field below is -100 for all tweet recoreds\n",
    "df = df[df['diff_r'] < (hours*60*60)]"
   ]
  },
  {
   "cell_type": "code",
   "execution_count": 20,
   "id": "1a5d94fd",
   "metadata": {
    "ExecuteTime": {
     "end_time": "2022-12-28T14:10:40.093604Z",
     "start_time": "2022-12-28T14:10:40.088884Z"
    }
   },
   "outputs": [
    {
     "data": {
      "text/plain": [
       "(372516, 14)"
      ]
     },
     "execution_count": 20,
     "metadata": {},
     "output_type": "execute_result"
    }
   ],
   "source": [
    "df.shape"
   ]
  },
  {
   "cell_type": "code",
   "execution_count": 21,
   "id": "abfd5b63",
   "metadata": {
    "ExecuteTime": {
     "end_time": "2022-12-28T14:10:40.579781Z",
     "start_time": "2022-12-28T14:10:40.094748Z"
    }
   },
   "outputs": [
    {
     "data": {
      "text/plain": [
       "(372516, 14)"
      ]
     },
     "execution_count": 21,
     "metadata": {},
     "output_type": "execute_result"
    }
   ],
   "source": [
    "df.drop_duplicates().shape"
   ]
  },
  {
   "cell_type": "code",
   "execution_count": 22,
   "id": "9eff301d",
   "metadata": {
    "ExecuteTime": {
     "end_time": "2022-12-28T14:10:40.585925Z",
     "start_time": "2022-12-28T14:10:40.581327Z"
    }
   },
   "outputs": [],
   "source": [
    "df['diff'] = df['new_re_created_at'] - df['new_created_at']"
   ]
  },
  {
   "cell_type": "code",
   "execution_count": 23,
   "id": "f418e9f8",
   "metadata": {
    "ExecuteTime": {
     "end_time": "2022-12-28T14:10:41.108677Z",
     "start_time": "2022-12-28T14:10:40.587144Z"
    }
   },
   "outputs": [
    {
     "data": {
      "text/plain": [
       "(372516, 15)"
      ]
     },
     "execution_count": 23,
     "metadata": {},
     "output_type": "execute_result"
    }
   ],
   "source": [
    "df.drop_duplicates().shape"
   ]
  },
  {
   "cell_type": "code",
   "execution_count": 24,
   "id": "98944f9e",
   "metadata": {
    "ExecuteTime": {
     "end_time": "2022-12-28T14:10:41.155085Z",
     "start_time": "2022-12-28T14:10:41.110002Z"
    }
   },
   "outputs": [
    {
     "data": {
      "text/plain": [
       "(14119,)"
      ]
     },
     "execution_count": 24,
     "metadata": {},
     "output_type": "execute_result"
    }
   ],
   "source": [
    "df['id_news'].drop_duplicates().shape"
   ]
  },
  {
   "cell_type": "code",
   "execution_count": 25,
   "id": "611ba8bd",
   "metadata": {
    "ExecuteTime": {
     "end_time": "2022-12-28T14:10:43.197982Z",
     "start_time": "2022-12-28T14:10:41.156416Z"
    }
   },
   "outputs": [],
   "source": [
    "# storing data in JSON format\n",
    "dataset_name = '{}_{}_counting_{}hours.json'.format(dataset, label_or_class, hours)\n",
    "df.to_json(dataset_name, orient = 'table', index=False, compression = 'infer')"
   ]
  },
  {
   "cell_type": "code",
   "execution_count": null,
   "id": "9fd8ccff",
   "metadata": {},
   "outputs": [],
   "source": []
  }
 ],
 "metadata": {
  "kernelspec": {
   "display_name": "Python 3 (ipykernel)",
   "language": "python",
   "name": "python3"
  },
  "language_info": {
   "codemirror_mode": {
    "name": "ipython",
    "version": 3
   },
   "file_extension": ".py",
   "mimetype": "text/x-python",
   "name": "python",
   "nbconvert_exporter": "python",
   "pygments_lexer": "ipython3",
   "version": "3.9.12"
  }
 },
 "nbformat": 4,
 "nbformat_minor": 5
}

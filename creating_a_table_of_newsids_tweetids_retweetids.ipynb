{
 "cells": [
  {
   "cell_type": "markdown",
   "id": "a8c34b1c",
   "metadata": {},
   "source": [
    "# Creating a table of news, corresponding tweets, and their re-tweets\n",
    "\n",
    "This table consists of ids and will be used to create the propagation network of each news article."
   ]
  },
  {
   "cell_type": "code",
   "execution_count": 1,
   "id": "ad418c1c",
   "metadata": {},
   "outputs": [],
   "source": [
    "import pandas as pd\n",
    "import numpy as np\n",
    "import json\n",
    "import os\n",
    "import time\n",
    "import math\n",
    "import configs"
   ]
  },
  {
   "cell_type": "code",
   "execution_count": null,
   "id": "0ed69910",
   "metadata": {},
   "outputs": [],
   "source": [
    "# settings from configs.py file\n",
    "\n",
    "dataset = configs.data_source # 'politifact' or 'gossipcop'\n",
    "label = configs.fake_or_real # 'fake' or 'real'\n",
    "\n",
    "# Directory consisting downloaded dataset and twitter files\n",
    "source = '{}/{}/{}/'.format(configs.dic_source, dataset, label) "
   ]
  },
  {
   "cell_type": "code",
   "execution_count": 2,
   "id": "9f92f6fc",
   "metadata": {},
   "outputs": [],
   "source": [
    "news_list = [f for f in os.listdir(source)\n",
    "             if os.path.exists(os.path.join(source, f, 'news content.json')) and\n",
    "             os.path.exists(os.path.join(source, f, 'tweets')) and\n",
    "             os.path.exists(os.path.join(source, f, 'retweets'))]"
   ]
  },
  {
   "cell_type": "code",
   "execution_count": 24,
   "id": "392805ef",
   "metadata": {
    "code_folding": []
   },
   "outputs": [],
   "source": [
    "df = pd.DataFrame(columns=['id_news', 'created_at', 'id_str', 're_created_at',\n",
    "                           're_id_str', 're_text', 're_user_id_str',\n",
    "                           're_retweet_count', 're_favorite_count'])\n",
    "\n",
    "for news in news_list:\n",
    "    \n",
    "    tweets = [f for f in os.listdir(os.path.join(source, news, 'tweets'))]\n",
    "    for tweet in tweets:\n",
    "        # Extract required features of each tweet\n",
    "        # Opening JSON file\n",
    "        f = open(os.path.join(source, news, 'tweets', tweet))\n",
    "\n",
    "        # returns JSON object as a dictionary\n",
    "        data = json.load(f)\n",
    "        \n",
    "        new_record = {}\n",
    "        new_record['id_news'] = news\n",
    "        new_record['created_at'] = data['created_at']\n",
    "        new_record['id_str'] = data['id_str']\n",
    "\n",
    "        # Closing file\n",
    "        f.close()\n",
    "        \n",
    "        # Append a tweet no matter it has retweets or how many it has\n",
    "        row_df = pd.DataFrame([new_record])\n",
    "        df = pd.concat([df,row_df], ignore_index=True)\n",
    "        \n",
    "        # Extract required features of each retweet\n",
    "        retweets = os.path.join(source, news, 'retweets', tweet)\n",
    "        if os.path.exists(retweets): # This if is always evaluated as TRUE\n",
    "            f = open(retweets)\n",
    "            \n",
    "            data_retweet = json.load(f)\n",
    "            if (len(data_retweet['retweets'])) > 0:\n",
    "                for retweet in data_retweet['retweets']:\n",
    "                    new_record['re_created_at'] = retweet['created_at']\n",
    "                    new_record['re_id_str'] = retweet['id_str']\n",
    "                    new_record['re_text'] = retweet['text']\n",
    "                    new_record['re_user_id_str'] = retweet['user']['id_str']\n",
    "                    new_record['re_retweet_count'] = retweet['retweet_count']\n",
    "                    new_record['re_favorite_count'] = retweet['favorite_count']\n",
    "\n",
    "                    # Append a tweet + one of its retweets\n",
    "                    row_df = pd.DataFrame([new_record])\n",
    "                    df = pd.concat([df,row_df], ignore_index=True)\n",
    "#             else:\n",
    "#                 # Append a tweet which has not any retweets\n",
    "#                 row_df = pd.DataFrame([new_record])\n",
    "#                 df = pd.concat([df,row_df], ignore_index=True)\n",
    "            \n",
    "            f.close()"
   ]
  },
  {
   "cell_type": "markdown",
   "id": "c4a77745",
   "metadata": {},
   "source": [
    "### Storing df in a json file. Set the name of the file."
   ]
  },
  {
   "cell_type": "code",
   "execution_count": 25,
   "id": "43a754bf",
   "metadata": {},
   "outputs": [],
   "source": [
    "# storing data in JSON format\n",
    "dataset_name = '{}_{}_counting.json'.format(dataset, label)\n",
    "df.to_json(dataset_name, orient = 'table', index=False, compression = 'infer')"
   ]
  }
 ],
 "metadata": {
  "kernelspec": {
   "display_name": "Python 3 (ipykernel)",
   "language": "python",
   "name": "python3"
  },
  "language_info": {
   "codemirror_mode": {
    "name": "ipython",
    "version": 3
   },
   "file_extension": ".py",
   "mimetype": "text/x-python",
   "name": "python",
   "nbconvert_exporter": "python",
   "pygments_lexer": "ipython3",
   "version": "3.9.12"
  }
 },
 "nbformat": 4,
 "nbformat_minor": 5
}

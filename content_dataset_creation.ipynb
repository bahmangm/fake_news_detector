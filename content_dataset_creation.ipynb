{
 "cells": [
  {
   "cell_type": "markdown",
   "id": "64a19fae",
   "metadata": {},
   "source": [
    "# Creating a dataset from the news articles' content in each data source (politifact or gossipcop) and class (real or fake)."
   ]
  },
  {
   "cell_type": "code",
   "execution_count": 1,
   "id": "619419fb",
   "metadata": {},
   "outputs": [],
   "source": [
    "import pandas as pd\n",
    "import json\n",
    "import os\n",
    "from vaderSentiment.vaderSentiment import SentimentIntensityAnalyzer\n",
    "import configs"
   ]
  },
  {
   "cell_type": "code",
   "execution_count": 2,
   "id": "4664a3d9",
   "metadata": {},
   "outputs": [],
   "source": [
    "# settings from configs.py file\n",
    "\n",
    "dataset = configs.data_source # 'politifact' or 'gossipcop'\n",
    "label_or_class = configs.fake_or_real # 'fake' or 'real'\n",
    "label = 1 if label_or_class == 'fake' else 0 # for Fake folder 1, for Real folder 0\n",
    "\n",
    "# Directory consisting downloaded dataset and twitter files\n",
    "source = '{}/{}/{}/'.format(configs.dic_source, dataset, label_or_class) "
   ]
  },
  {
   "cell_type": "code",
   "execution_count": 4,
   "id": "e23b6406",
   "metadata": {},
   "outputs": [],
   "source": [
    "f_names = [os.path.join(f, 'news content.json') for f in os.listdir(source)\n",
    "           if os.path.exists(os.path.join(source, f, 'news content.json')) and\n",
    "           os.path.exists(os.path.join(source, f, 'tweets')) and\n",
    "           os.path.exists(os.path.join(source, f, 'retweets'))]"
   ]
  },
  {
   "cell_type": "code",
   "execution_count": null,
   "id": "1ce27490",
   "metadata": {},
   "outputs": [],
   "source": [
    "print(\"All news: \", len(os.listdir(source)))\n",
    "print(\"The news with social context:\", len(f_names))"
   ]
  },
  {
   "cell_type": "code",
   "execution_count": 7,
   "id": "1b299f4b",
   "metadata": {},
   "outputs": [],
   "source": [
    "# Creating an empty Dataframe with column names only\n",
    "df = pd.DataFrame(columns=['F_name', 'Title', 'Text', 'Label'])\n",
    "\n",
    "for f_name in f_names:\n",
    "    # Opening JSON file\n",
    "    f = open(os.path.join(source, f_name))\n",
    "    \n",
    "    # returns JSON object as a dictionary\n",
    "    data = json.load(f)\n",
    "    \n",
    "    # Append rows in Empty Dataframe by adding dictionaries\n",
    "    row_df = pd.DataFrame([{'F_name': f_name,\n",
    "                            'Title': data['title'].replace('\\n', ' ').replace('\\r', ''),\n",
    "                            'Text': data['text'].replace('\\n', ' ').replace('\\r', ''),\n",
    "                            'Label': label}])\n",
    "    \n",
    "    df = pd.concat([df,row_df], ignore_index=True)\n",
    "\n",
    "    # Closing file\n",
    "    f.close()"
   ]
  },
  {
   "cell_type": "code",
   "execution_count": null,
   "id": "a3ca39d8",
   "metadata": {},
   "outputs": [],
   "source": [
    "df.shape"
   ]
  },
  {
   "cell_type": "code",
   "execution_count": 9,
   "id": "8aab80f9",
   "metadata": {},
   "outputs": [
    {
     "data": {
      "text/html": [
       "<div>\n",
       "<style scoped>\n",
       "    .dataframe tbody tr th:only-of-type {\n",
       "        vertical-align: middle;\n",
       "    }\n",
       "\n",
       "    .dataframe tbody tr th {\n",
       "        vertical-align: top;\n",
       "    }\n",
       "\n",
       "    .dataframe thead th {\n",
       "        text-align: right;\n",
       "    }\n",
       "</style>\n",
       "<table border=\"1\" class=\"dataframe\">\n",
       "  <thead>\n",
       "    <tr style=\"text-align: right;\">\n",
       "      <th></th>\n",
       "      <th>F_name</th>\n",
       "      <th>Title</th>\n",
       "      <th>Text</th>\n",
       "      <th>Label</th>\n",
       "    </tr>\n",
       "  </thead>\n",
       "  <tbody>\n",
       "    <tr>\n",
       "      <th>0</th>\n",
       "      <td>gossipcop-846866/news content.json</td>\n",
       "      <td>Who is the most exceptional singer in One Dire...</td>\n",
       "      <td>Something went wrong. Wait a moment and try ag...</td>\n",
       "      <td>1</td>\n",
       "    </tr>\n",
       "    <tr>\n",
       "      <th>1</th>\n",
       "      <td>gossipcop-873992/news content.json</td>\n",
       "      <td>Ellen DeGeneres Wrote The Sweetest Message To ...</td>\n",
       "      <td>Ellen DeGeneres is a talk show host, comedienn...</td>\n",
       "      <td>1</td>\n",
       "    </tr>\n",
       "    <tr>\n",
       "      <th>2</th>\n",
       "      <td>gossipcop-924229/news content.json</td>\n",
       "      <td>Corey Feldman Shares ‘Smallest Knife Wound’ Af...</td>\n",
       "      <td>Corey Feldman shared a photo of his scar to up...</td>\n",
       "      <td>1</td>\n",
       "    </tr>\n",
       "    <tr>\n",
       "      <th>3</th>\n",
       "      <td>gossipcop-913272/news content.json</td>\n",
       "      <td>Nextdivas.com Is For Sale</td>\n",
       "      <td>The domain nextdivas.com is for sale. To purch...</td>\n",
       "      <td>1</td>\n",
       "    </tr>\n",
       "    <tr>\n",
       "      <th>4</th>\n",
       "      <td>gossipcop-896283/news content.json</td>\n",
       "      <td>Tiffany Haddish Teaches Barbra Streisand About...</td>\n",
       "      <td>If Barbra Streisand drops a cover of “Bodak Ye...</td>\n",
       "      <td>1</td>\n",
       "    </tr>\n",
       "  </tbody>\n",
       "</table>\n",
       "</div>"
      ],
      "text/plain": [
       "                               F_name  \\\n",
       "0  gossipcop-846866/news content.json   \n",
       "1  gossipcop-873992/news content.json   \n",
       "2  gossipcop-924229/news content.json   \n",
       "3  gossipcop-913272/news content.json   \n",
       "4  gossipcop-896283/news content.json   \n",
       "\n",
       "                                               Title  \\\n",
       "0  Who is the most exceptional singer in One Dire...   \n",
       "1  Ellen DeGeneres Wrote The Sweetest Message To ...   \n",
       "2  Corey Feldman Shares ‘Smallest Knife Wound’ Af...   \n",
       "3                          Nextdivas.com Is For Sale   \n",
       "4  Tiffany Haddish Teaches Barbra Streisand About...   \n",
       "\n",
       "                                                Text Label  \n",
       "0  Something went wrong. Wait a moment and try ag...     1  \n",
       "1  Ellen DeGeneres is a talk show host, comedienn...     1  \n",
       "2  Corey Feldman shared a photo of his scar to up...     1  \n",
       "3  The domain nextdivas.com is for sale. To purch...     1  \n",
       "4  If Barbra Streisand drops a cover of “Bodak Ye...     1  "
      ]
     },
     "execution_count": 9,
     "metadata": {},
     "output_type": "execute_result"
    }
   ],
   "source": [
    "df.head()"
   ]
  },
  {
   "cell_type": "markdown",
   "id": "82b1a305",
   "metadata": {},
   "source": [
    "## Adding the length of text and length of the title to the features"
   ]
  },
  {
   "cell_type": "code",
   "execution_count": 10,
   "id": "34f5b4c7",
   "metadata": {},
   "outputs": [],
   "source": [
    "df['Title_len'] = df.Title.apply(lambda x: len(x))"
   ]
  },
  {
   "cell_type": "code",
   "execution_count": 11,
   "id": "3699602e",
   "metadata": {},
   "outputs": [],
   "source": [
    "df['Text_len'] = df.Text.apply(lambda x: len(x))"
   ]
  },
  {
   "cell_type": "code",
   "execution_count": 12,
   "id": "4a895766",
   "metadata": {},
   "outputs": [
    {
     "data": {
      "text/html": [
       "<div>\n",
       "<style scoped>\n",
       "    .dataframe tbody tr th:only-of-type {\n",
       "        vertical-align: middle;\n",
       "    }\n",
       "\n",
       "    .dataframe tbody tr th {\n",
       "        vertical-align: top;\n",
       "    }\n",
       "\n",
       "    .dataframe thead th {\n",
       "        text-align: right;\n",
       "    }\n",
       "</style>\n",
       "<table border=\"1\" class=\"dataframe\">\n",
       "  <thead>\n",
       "    <tr style=\"text-align: right;\">\n",
       "      <th></th>\n",
       "      <th>F_name</th>\n",
       "      <th>Title</th>\n",
       "      <th>Text</th>\n",
       "      <th>Label</th>\n",
       "      <th>Title_len</th>\n",
       "      <th>Text_len</th>\n",
       "    </tr>\n",
       "  </thead>\n",
       "  <tbody>\n",
       "    <tr>\n",
       "      <th>0</th>\n",
       "      <td>gossipcop-846866/news content.json</td>\n",
       "      <td>Who is the most exceptional singer in One Dire...</td>\n",
       "      <td>Something went wrong. Wait a moment and try ag...</td>\n",
       "      <td>1</td>\n",
       "      <td>52</td>\n",
       "      <td>61</td>\n",
       "    </tr>\n",
       "    <tr>\n",
       "      <th>1</th>\n",
       "      <td>gossipcop-873992/news content.json</td>\n",
       "      <td>Ellen DeGeneres Wrote The Sweetest Message To ...</td>\n",
       "      <td>Ellen DeGeneres is a talk show host, comedienn...</td>\n",
       "      <td>1</td>\n",
       "      <td>96</td>\n",
       "      <td>2162</td>\n",
       "    </tr>\n",
       "    <tr>\n",
       "      <th>2</th>\n",
       "      <td>gossipcop-924229/news content.json</td>\n",
       "      <td>Corey Feldman Shares ‘Smallest Knife Wound’ Af...</td>\n",
       "      <td>Corey Feldman shared a photo of his scar to up...</td>\n",
       "      <td>1</td>\n",
       "      <td>66</td>\n",
       "      <td>2335</td>\n",
       "    </tr>\n",
       "    <tr>\n",
       "      <th>3</th>\n",
       "      <td>gossipcop-913272/news content.json</td>\n",
       "      <td>Nextdivas.com Is For Sale</td>\n",
       "      <td>The domain nextdivas.com is for sale. To purch...</td>\n",
       "      <td>1</td>\n",
       "      <td>25</td>\n",
       "      <td>132</td>\n",
       "    </tr>\n",
       "    <tr>\n",
       "      <th>4</th>\n",
       "      <td>gossipcop-896283/news content.json</td>\n",
       "      <td>Tiffany Haddish Teaches Barbra Streisand About...</td>\n",
       "      <td>If Barbra Streisand drops a cover of “Bodak Ye...</td>\n",
       "      <td>1</td>\n",
       "      <td>54</td>\n",
       "      <td>1999</td>\n",
       "    </tr>\n",
       "  </tbody>\n",
       "</table>\n",
       "</div>"
      ],
      "text/plain": [
       "                               F_name  \\\n",
       "0  gossipcop-846866/news content.json   \n",
       "1  gossipcop-873992/news content.json   \n",
       "2  gossipcop-924229/news content.json   \n",
       "3  gossipcop-913272/news content.json   \n",
       "4  gossipcop-896283/news content.json   \n",
       "\n",
       "                                               Title  \\\n",
       "0  Who is the most exceptional singer in One Dire...   \n",
       "1  Ellen DeGeneres Wrote The Sweetest Message To ...   \n",
       "2  Corey Feldman Shares ‘Smallest Knife Wound’ Af...   \n",
       "3                          Nextdivas.com Is For Sale   \n",
       "4  Tiffany Haddish Teaches Barbra Streisand About...   \n",
       "\n",
       "                                                Text Label  Title_len  \\\n",
       "0  Something went wrong. Wait a moment and try ag...     1         52   \n",
       "1  Ellen DeGeneres is a talk show host, comedienn...     1         96   \n",
       "2  Corey Feldman shared a photo of his scar to up...     1         66   \n",
       "3  The domain nextdivas.com is for sale. To purch...     1         25   \n",
       "4  If Barbra Streisand drops a cover of “Bodak Ye...     1         54   \n",
       "\n",
       "   Text_len  \n",
       "0        61  \n",
       "1      2162  \n",
       "2      2335  \n",
       "3       132  \n",
       "4      1999  "
      ]
     },
     "execution_count": 12,
     "metadata": {},
     "output_type": "execute_result"
    }
   ],
   "source": [
    "df.head()"
   ]
  },
  {
   "cell_type": "code",
   "execution_count": 13,
   "id": "35fff30d",
   "metadata": {},
   "outputs": [],
   "source": [
    "df['Content'] = df['Title'] + \" \" + df['Text']"
   ]
  },
  {
   "cell_type": "code",
   "execution_count": 14,
   "id": "58c50a85",
   "metadata": {},
   "outputs": [],
   "source": [
    "df = df.drop(['Title', 'Text'], axis=1)"
   ]
  },
  {
   "cell_type": "code",
   "execution_count": 15,
   "id": "3a45cd27",
   "metadata": {},
   "outputs": [
    {
     "data": {
      "text/html": [
       "<div>\n",
       "<style scoped>\n",
       "    .dataframe tbody tr th:only-of-type {\n",
       "        vertical-align: middle;\n",
       "    }\n",
       "\n",
       "    .dataframe tbody tr th {\n",
       "        vertical-align: top;\n",
       "    }\n",
       "\n",
       "    .dataframe thead th {\n",
       "        text-align: right;\n",
       "    }\n",
       "</style>\n",
       "<table border=\"1\" class=\"dataframe\">\n",
       "  <thead>\n",
       "    <tr style=\"text-align: right;\">\n",
       "      <th></th>\n",
       "      <th>F_name</th>\n",
       "      <th>Label</th>\n",
       "      <th>Title_len</th>\n",
       "      <th>Text_len</th>\n",
       "      <th>Content</th>\n",
       "    </tr>\n",
       "  </thead>\n",
       "  <tbody>\n",
       "    <tr>\n",
       "      <th>0</th>\n",
       "      <td>gossipcop-846866/news content.json</td>\n",
       "      <td>1</td>\n",
       "      <td>52</td>\n",
       "      <td>61</td>\n",
       "      <td>Who is the most exceptional singer in One Dire...</td>\n",
       "    </tr>\n",
       "    <tr>\n",
       "      <th>1</th>\n",
       "      <td>gossipcop-873992/news content.json</td>\n",
       "      <td>1</td>\n",
       "      <td>96</td>\n",
       "      <td>2162</td>\n",
       "      <td>Ellen DeGeneres Wrote The Sweetest Message To ...</td>\n",
       "    </tr>\n",
       "    <tr>\n",
       "      <th>2</th>\n",
       "      <td>gossipcop-924229/news content.json</td>\n",
       "      <td>1</td>\n",
       "      <td>66</td>\n",
       "      <td>2335</td>\n",
       "      <td>Corey Feldman Shares ‘Smallest Knife Wound’ Af...</td>\n",
       "    </tr>\n",
       "    <tr>\n",
       "      <th>3</th>\n",
       "      <td>gossipcop-913272/news content.json</td>\n",
       "      <td>1</td>\n",
       "      <td>25</td>\n",
       "      <td>132</td>\n",
       "      <td>Nextdivas.com Is For Sale The domain nextdivas...</td>\n",
       "    </tr>\n",
       "    <tr>\n",
       "      <th>4</th>\n",
       "      <td>gossipcop-896283/news content.json</td>\n",
       "      <td>1</td>\n",
       "      <td>54</td>\n",
       "      <td>1999</td>\n",
       "      <td>Tiffany Haddish Teaches Barbra Streisand About...</td>\n",
       "    </tr>\n",
       "  </tbody>\n",
       "</table>\n",
       "</div>"
      ],
      "text/plain": [
       "                               F_name Label  Title_len  Text_len  \\\n",
       "0  gossipcop-846866/news content.json     1         52        61   \n",
       "1  gossipcop-873992/news content.json     1         96      2162   \n",
       "2  gossipcop-924229/news content.json     1         66      2335   \n",
       "3  gossipcop-913272/news content.json     1         25       132   \n",
       "4  gossipcop-896283/news content.json     1         54      1999   \n",
       "\n",
       "                                             Content  \n",
       "0  Who is the most exceptional singer in One Dire...  \n",
       "1  Ellen DeGeneres Wrote The Sweetest Message To ...  \n",
       "2  Corey Feldman Shares ‘Smallest Knife Wound’ Af...  \n",
       "3  Nextdivas.com Is For Sale The domain nextdivas...  \n",
       "4  Tiffany Haddish Teaches Barbra Streisand About...  "
      ]
     },
     "execution_count": 15,
     "metadata": {},
     "output_type": "execute_result"
    }
   ],
   "source": [
    "df.head()"
   ]
  },
  {
   "cell_type": "markdown",
   "id": "b0bcd198",
   "metadata": {},
   "source": [
    "## Adding the number of positive and negative and sentiment score to the features"
   ]
  },
  {
   "cell_type": "code",
   "execution_count": 16,
   "id": "072a376d",
   "metadata": {},
   "outputs": [],
   "source": [
    "def pos_counting(text_input):\n",
    "    file_positives = open(\"positive.txt\",'r')\n",
    "    positives = file_positives.read().replace(\"\\n\",\" \").lower().split()\n",
    "    \n",
    "    # Count the frequency of positive and negative words in each tweet\n",
    "    tokens = text_input.split()\n",
    "    pos_count = 0\n",
    "    for token in tokens:\n",
    "        if token.strip().lower() in positives:\n",
    "            pos_count += 1\n",
    "    return pos_count"
   ]
  },
  {
   "cell_type": "code",
   "execution_count": 17,
   "id": "2ad6af02",
   "metadata": {},
   "outputs": [],
   "source": [
    "def neg_counting(text_input):\n",
    "    file_negatives = open(\"negative.txt\",'r')\n",
    "    negatives = file_negatives.read().replace(\"\\n\",\" \").lower().split()\n",
    "    \n",
    "    # Count the frequency of positive and negative words in each tweet\n",
    "    tokens = text_input.split()\n",
    "    neg_count = 0\n",
    "    for token in tokens:\n",
    "        if token.strip().lower() in negatives:\n",
    "            neg_count += 1\n",
    "    return neg_count"
   ]
  },
  {
   "cell_type": "code",
   "execution_count": 18,
   "id": "30ac77d1",
   "metadata": {},
   "outputs": [],
   "source": [
    "def sentiment_score(text_input):\n",
    "    sid_obj = SentimentIntensityAnalyzer()\n",
    "    \n",
    "    # Calculate the sentiment value of the tweet\n",
    "    sentiment_dict = sid_obj.polarity_scores(text_input)\n",
    "    return sentiment_dict['compound']"
   ]
  },
  {
   "cell_type": "code",
   "execution_count": 19,
   "id": "01a2e4ee",
   "metadata": {},
   "outputs": [],
   "source": [
    "df['pos_count'] = df.Content.apply(pos_counting)"
   ]
  },
  {
   "cell_type": "code",
   "execution_count": 20,
   "id": "659bf26c",
   "metadata": {},
   "outputs": [],
   "source": [
    "df['neg_count'] = df.Content.apply(neg_counting)"
   ]
  },
  {
   "cell_type": "code",
   "execution_count": 21,
   "id": "daedcfec",
   "metadata": {},
   "outputs": [],
   "source": [
    "df['sentiment_score'] = df.Content.apply(sentiment_score)"
   ]
  },
  {
   "cell_type": "code",
   "execution_count": 22,
   "id": "afd48dcc",
   "metadata": {},
   "outputs": [
    {
     "data": {
      "text/html": [
       "<div>\n",
       "<style scoped>\n",
       "    .dataframe tbody tr th:only-of-type {\n",
       "        vertical-align: middle;\n",
       "    }\n",
       "\n",
       "    .dataframe tbody tr th {\n",
       "        vertical-align: top;\n",
       "    }\n",
       "\n",
       "    .dataframe thead th {\n",
       "        text-align: right;\n",
       "    }\n",
       "</style>\n",
       "<table border=\"1\" class=\"dataframe\">\n",
       "  <thead>\n",
       "    <tr style=\"text-align: right;\">\n",
       "      <th></th>\n",
       "      <th>F_name</th>\n",
       "      <th>Label</th>\n",
       "      <th>Title_len</th>\n",
       "      <th>Text_len</th>\n",
       "      <th>Content</th>\n",
       "      <th>pos_count</th>\n",
       "      <th>neg_count</th>\n",
       "      <th>sentiment_score</th>\n",
       "    </tr>\n",
       "  </thead>\n",
       "  <tbody>\n",
       "    <tr>\n",
       "      <th>0</th>\n",
       "      <td>gossipcop-846866/news content.json</td>\n",
       "      <td>1</td>\n",
       "      <td>52</td>\n",
       "      <td>61</td>\n",
       "      <td>Who is the most exceptional singer in One Dire...</td>\n",
       "      <td>1</td>\n",
       "      <td>0</td>\n",
       "      <td>-0.4767</td>\n",
       "    </tr>\n",
       "    <tr>\n",
       "      <th>1</th>\n",
       "      <td>gossipcop-873992/news content.json</td>\n",
       "      <td>1</td>\n",
       "      <td>96</td>\n",
       "      <td>2162</td>\n",
       "      <td>Ellen DeGeneres Wrote The Sweetest Message To ...</td>\n",
       "      <td>15</td>\n",
       "      <td>3</td>\n",
       "      <td>0.9984</td>\n",
       "    </tr>\n",
       "    <tr>\n",
       "      <th>2</th>\n",
       "      <td>gossipcop-924229/news content.json</td>\n",
       "      <td>1</td>\n",
       "      <td>66</td>\n",
       "      <td>2335</td>\n",
       "      <td>Corey Feldman Shares ‘Smallest Knife Wound’ Af...</td>\n",
       "      <td>6</td>\n",
       "      <td>15</td>\n",
       "      <td>-0.8664</td>\n",
       "    </tr>\n",
       "    <tr>\n",
       "      <th>3</th>\n",
       "      <td>gossipcop-913272/news content.json</td>\n",
       "      <td>1</td>\n",
       "      <td>25</td>\n",
       "      <td>132</td>\n",
       "      <td>Nextdivas.com Is For Sale The domain nextdivas...</td>\n",
       "      <td>0</td>\n",
       "      <td>0</td>\n",
       "      <td>0.0000</td>\n",
       "    </tr>\n",
       "    <tr>\n",
       "      <th>4</th>\n",
       "      <td>gossipcop-896283/news content.json</td>\n",
       "      <td>1</td>\n",
       "      <td>54</td>\n",
       "      <td>1999</td>\n",
       "      <td>Tiffany Haddish Teaches Barbra Streisand About...</td>\n",
       "      <td>13</td>\n",
       "      <td>7</td>\n",
       "      <td>0.9911</td>\n",
       "    </tr>\n",
       "  </tbody>\n",
       "</table>\n",
       "</div>"
      ],
      "text/plain": [
       "                               F_name Label  Title_len  Text_len  \\\n",
       "0  gossipcop-846866/news content.json     1         52        61   \n",
       "1  gossipcop-873992/news content.json     1         96      2162   \n",
       "2  gossipcop-924229/news content.json     1         66      2335   \n",
       "3  gossipcop-913272/news content.json     1         25       132   \n",
       "4  gossipcop-896283/news content.json     1         54      1999   \n",
       "\n",
       "                                             Content  pos_count  neg_count  \\\n",
       "0  Who is the most exceptional singer in One Dire...          1          0   \n",
       "1  Ellen DeGeneres Wrote The Sweetest Message To ...         15          3   \n",
       "2  Corey Feldman Shares ‘Smallest Knife Wound’ Af...          6         15   \n",
       "3  Nextdivas.com Is For Sale The domain nextdivas...          0          0   \n",
       "4  Tiffany Haddish Teaches Barbra Streisand About...         13          7   \n",
       "\n",
       "   sentiment_score  \n",
       "0          -0.4767  \n",
       "1           0.9984  \n",
       "2          -0.8664  \n",
       "3           0.0000  \n",
       "4           0.9911  "
      ]
     },
     "execution_count": 22,
     "metadata": {},
     "output_type": "execute_result"
    }
   ],
   "source": [
    "df.head()"
   ]
  },
  {
   "cell_type": "code",
   "execution_count": null,
   "id": "5ef40108",
   "metadata": {},
   "outputs": [],
   "source": [
    "df.shape"
   ]
  },
  {
   "cell_type": "code",
   "execution_count": null,
   "id": "7fcc130e",
   "metadata": {},
   "outputs": [],
   "source": [
    "#Fixing F_name feature\n",
    "df_fake['F_name'] = df_fake.F_name.apply(lambda x: x.split('/')[0])\n",
    "df_real['F_name'] = df_real.F_name.apply(lambda x: x.split('/')[0])"
   ]
  },
  {
   "cell_type": "markdown",
   "id": "a84bf7f1",
   "metadata": {},
   "source": [
    "## Storing df in a json file. "
   ]
  },
  {
   "cell_type": "code",
   "execution_count": 25,
   "id": "34c69c85",
   "metadata": {},
   "outputs": [],
   "source": [
    "# storing data in JSON format\n",
    "dataset_name = '{}_{}_new.json'.format(dataset, label_or_class)\n",
    "df.to_json(dataset_name, orient = 'table', index=False, compression = 'infer')"
   ]
  },
  {
   "cell_type": "code",
   "execution_count": 26,
   "id": "2e9ec13e",
   "metadata": {},
   "outputs": [],
   "source": [
    "f = open(dataset_name)\n",
    "t = json.load(f)\n",
    "f.close()"
   ]
  },
  {
   "cell_type": "code",
   "execution_count": null,
   "id": "653b2f83",
   "metadata": {},
   "outputs": [],
   "source": [
    "len(t['data'])"
   ]
  },
  {
   "cell_type": "markdown",
   "id": "5d38d892",
   "metadata": {},
   "source": [
    "## Making the dataset cleaned and balanced"
   ]
  },
  {
   "cell_type": "code",
   "execution_count": 24,
   "id": "ee8fe0b6",
   "metadata": {},
   "outputs": [],
   "source": [
    "# reading the JSON file\n",
    "dataset_fake = '{}_fake_new.json'.format(dataset)\n",
    "dataset_real = '{}_real_new.json'.format(dataset)\n",
    "df_fake = pd.read_json(dataset_fake, orient ='table', compression = 'infer')\n",
    "df_real = pd.read_json(dataset_real, orient ='table', compression = 'infer')"
   ]
  },
  {
   "cell_type": "code",
   "execution_count": null,
   "id": "6c263773",
   "metadata": {},
   "outputs": [],
   "source": [
    "df_fake.shape, df_real.shape"
   ]
  },
  {
   "cell_type": "code",
   "execution_count": null,
   "id": "20647446",
   "metadata": {},
   "outputs": [],
   "source": [
    "df_real[(df_real.Content == ' ')].shape"
   ]
  },
  {
   "cell_type": "code",
   "execution_count": 328,
   "id": "251e4bbd",
   "metadata": {},
   "outputs": [],
   "source": [
    "df_real = df_real[~(df_real.Content == ' ')]"
   ]
  },
  {
   "cell_type": "code",
   "execution_count": null,
   "id": "e3d90506",
   "metadata": {},
   "outputs": [],
   "source": [
    "df_real.shape"
   ]
  },
  {
   "cell_type": "code",
   "execution_count": 330,
   "id": "4808c09c",
   "metadata": {},
   "outputs": [],
   "source": [
    "df_fake = df_fake[~(df_fake.Content == ' ')]"
   ]
  },
  {
   "cell_type": "code",
   "execution_count": null,
   "id": "108b993f",
   "metadata": {},
   "outputs": [],
   "source": [
    "df_fake.shape"
   ]
  },
  {
   "cell_type": "code",
   "execution_count": 332,
   "id": "596b0deb",
   "metadata": {},
   "outputs": [],
   "source": [
    "df_real = df_real[~(df_real.Text_len < 70)]"
   ]
  },
  {
   "cell_type": "code",
   "execution_count": null,
   "id": "27b70c08",
   "metadata": {},
   "outputs": [],
   "source": [
    "df_real.shape"
   ]
  },
  {
   "cell_type": "code",
   "execution_count": 334,
   "id": "c4ddb9de",
   "metadata": {},
   "outputs": [],
   "source": [
    "df_fake = df_fake[~(df_fake.Text_len < 70)]"
   ]
  },
  {
   "cell_type": "code",
   "execution_count": null,
   "id": "6bcc4f27",
   "metadata": {},
   "outputs": [],
   "source": [
    "df_fake.shape"
   ]
  },
  {
   "cell_type": "code",
   "execution_count": 341,
   "id": "99431991",
   "metadata": {},
   "outputs": [],
   "source": [
    "# storing data in JSON format\n",
    "dataset_name = '{}_real_balanced.json'.format(dataset)\n",
    "df_real.to_json(dataset_name, orient = 'table', index=False, compression = 'infer')\n",
    "dataset_name = '{}_fake_balanced.json'.format(dataset)\n",
    "df_fake.to_json(dataset_name, orient = 'table', index=False, compression = 'infer')"
   ]
  }
 ],
 "metadata": {
  "kernelspec": {
   "display_name": "Python 3 (ipykernel)",
   "language": "python",
   "name": "python3"
  },
  "language_info": {
   "codemirror_mode": {
    "name": "ipython",
    "version": 3
   },
   "file_extension": ".py",
   "mimetype": "text/x-python",
   "name": "python",
   "nbconvert_exporter": "python",
   "pygments_lexer": "ipython3",
   "version": "3.9.12"
  }
 },
 "nbformat": 4,
 "nbformat_minor": 5
}

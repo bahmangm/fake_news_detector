{
 "cells": [
  {
   "cell_type": "code",
   "execution_count": 1,
   "id": "ad418c1c",
   "metadata": {
    "ExecuteTime": {
     "end_time": "2023-01-02T20:39:26.241152Z",
     "start_time": "2023-01-02T20:39:25.632108Z"
    }
   },
   "outputs": [],
   "source": [
    "import pandas as pd\n",
    "import numpy as np\n",
    "import json\n",
    "import os\n",
    "import time\n",
    "import math\n",
    "from vaderSentiment.vaderSentiment import SentimentIntensityAnalyzer\n",
    "import configs"
   ]
  },
  {
   "cell_type": "code",
   "execution_count": null,
   "id": "568a304d",
   "metadata": {},
   "outputs": [],
   "source": [
    "# settings from configs.py file\n",
    "\n",
    "dataset = configs.data_source # 'politifact' or 'gossipcop'\n",
    "label_or_class = configs.fake_or_real # 'fake' or 'real'\n",
    "\n",
    "hours = configs.detection_deadline # detection time in hours"
   ]
  },
  {
   "cell_type": "markdown",
   "id": "76dc104d",
   "metadata": {
    "heading_collapsed": true
   },
   "source": [
    "# Extracted features for each node in propagation network"
   ]
  },
  {
   "cell_type": "markdown",
   "id": "f68ec225",
   "metadata": {
    "hidden": true
   },
   "source": [
    "<ol>\n",
    "<li>The creation time of the tweet or retweet</li>\n",
    "<li>The number of retweets - is the same value for all nodes in a cascade</li>\n",
    "<li>The number of favorites - the value of all nodes in each cascade is zero except for first</li>\n",
    "<li>The length of tweet or retweet - the value of all nodes in each cascade is the same except for first</li>\n",
    "<li>-The sentiment_compound of the tweet's text</li>\n",
    "<li>-The frequency of positive words</li>\n",
    "<li>-The frequency of negative words</li>\n",
    "<li>-The number of hashtags</li>\n",
    "<li>-The number of mentions</li>\n",
    "<li>1:verified, 0:unverified</li>\n",
    "<li>The number of followers</li>\n",
    "<li>The number of followings or friends</li>\n",
    "<li>The number of lists</li>\n",
    "<li>The creation time of the user</li>\n",
    "<li>The number of favourites of the user in hand</li>\n",
    "<li>The number of tweets of the user in hand</li>\n",
    "</ol>"
   ]
  },
  {
   "cell_type": "markdown",
   "id": "9bbc38fa",
   "metadata": {},
   "source": [
    "# Extracting important features for each tweet_id in the propagation tree"
   ]
  },
  {
   "cell_type": "code",
   "execution_count": 4,
   "id": "c6cd6eb7",
   "metadata": {
    "ExecuteTime": {
     "end_time": "2023-01-02T20:40:51.648046Z",
     "start_time": "2023-01-02T20:40:34.444428Z"
    }
   },
   "outputs": [],
   "source": [
    "# load the propagation trees from a json file\n",
    "file_name = '{}_{}_propagation_{}hours_free_len_shortest_first.json'.format(dataset, label_or_class, hours)\n",
    "with open(file_name) as json_file:\n",
    "    propagation_trees = json.load(json_file)"
   ]
  },
  {
   "cell_type": "code",
   "execution_count": 5,
   "id": "59823dc2",
   "metadata": {
    "ExecuteTime": {
     "end_time": "2023-01-02T20:42:17.596128Z",
     "start_time": "2023-01-02T20:40:51.650031Z"
    }
   },
   "outputs": [],
   "source": [
    "# Reading tweet table\n",
    "dataset_name = '{}_{}_tweets.json'.format(dataset, label_or_class)\n",
    "df_tweets = pd.read_json(dataset_name, orient ='table', compression = 'infer')"
   ]
  },
  {
   "cell_type": "code",
   "execution_count": 6,
   "id": "58040825",
   "metadata": {
    "ExecuteTime": {
     "end_time": "2023-01-02T20:42:34.018333Z",
     "start_time": "2023-01-02T20:42:17.597724Z"
    }
   },
   "outputs": [],
   "source": [
    "# Reading retweet table\n",
    "dataset_name = '{}_{}_retweets.json'.format(dataset, label_or_class)\n",
    "df_retweets = pd.read_json(dataset_name, orient ='table', compression = 'infer')"
   ]
  },
  {
   "cell_type": "code",
   "execution_count": 7,
   "id": "18cef8d0",
   "metadata": {
    "ExecuteTime": {
     "end_time": "2023-01-02T20:42:56.305809Z",
     "start_time": "2023-01-02T20:42:34.020719Z"
    }
   },
   "outputs": [],
   "source": [
    "# Reading user table\n",
    "dataset_name = '{}_{}_users.json'.format(dataset, label_or_class)\n",
    "df_users = pd.read_json(dataset_name, orient ='table', compression = 'infer')"
   ]
  },
  {
   "cell_type": "code",
   "execution_count": 12,
   "id": "b3768c1d",
   "metadata": {
    "ExecuteTime": {
     "end_time": "2023-01-03T15:15:01.261136Z",
     "start_time": "2023-01-02T20:42:56.356734Z"
    },
    "code_folding": []
   },
   "outputs": [],
   "source": [
    "main_propagation_trees = {}\n",
    "# The dic below is filled to be used in the next cells\n",
    "propagation_tree_features = {}\n",
    "# The dic below is filled to be used in the next cells\n",
    "propagation_tree_leader_users = {}\n",
    "\n",
    "cascade_len = 16   # 2^3\n",
    "cascade_num = 256 # 2^7\n",
    "feature_num = 11\n",
    "cascade_len *= feature_num\n",
    "#first_mins = 4 * 60\n",
    "for news in propagation_trees.keys():\n",
    "    main_propagation_trees[news] = []\n",
    "    # The eight below features are computed and appended to \n",
    "    # the below list for each news\n",
    "    propagation_tree_features[news] = []\n",
    "    hash_count = 0\n",
    "    mention_count = 0\n",
    "    pos_count = 0\n",
    "    neg_count = 0\n",
    "    \n",
    "    original_tweet_count = 0\n",
    "    retweet_count = 0\n",
    "    quote_tweet_count = 0\n",
    "    reply_tweet_count = 0\n",
    "    total_nodes = 0\n",
    "    \n",
    "    leader_user_count = 0\n",
    "    #print('news: ', news)\n",
    "    for cascade in propagation_trees[news]:\n",
    "        # To do: check the creation time of the tweet (cascade[0])\n",
    "        new_cascade = []\n",
    "        # When a tweet does not have any retweets, the first retweet\n",
    "        # becomes nan (I didn't handle this issue when I was retriving retweets for\n",
    "        # each tweet) and the rest retweets become 'pad'\n",
    "        cascade = ['pad' if str(i) == 'nan' else i for i in cascade]\n",
    "        if cascade[0] != 'pad':\n",
    "            # ------------------------------\n",
    "            # Retrieving tweet fields and adding the important ones\n",
    "            tweet_fields = df_tweets[df_tweets['tweet_id_str'] == cascade[0]]\n",
    "\n",
    "            # Getting the creation time and converting itno UTC\n",
    "            x = tweet_fields.iloc[0]['created_at']\n",
    "            tweet_created_at = time.mktime(time.strptime(str(x), \n",
    "                                                         \"%Y-%m-%d %H:%M:%S+00:00\"))\n",
    "            \n",
    "#             #Check to see if the tweet has been created in the wanted period\n",
    "#             if (tweet_created_at - first_tweet_time[news]) <= (first_mins * 60):#True\n",
    "                \n",
    "            # 0- Adding created_at feature of the tweet to the node\n",
    "            new_cascade.append(tweet_created_at)\n",
    "\n",
    "            # 1- Adding retweet_count feature of the tweet to the node\n",
    "            retweet_count = tweet_fields.iloc[0]['retweet_count']\n",
    "            new_cascade.append(retweet_count)\n",
    "\n",
    "            # 2- Adding favorite_count feature of the tweet to the node\n",
    "            favorite_count = tweet_fields.iloc[0]['favorite_count']\n",
    "            new_cascade.append(favorite_count)\n",
    "\n",
    "            # 3- Adding tweet_length feature to the node\n",
    "            tweet_len = len(tweet_fields.iloc[0]['text'])\n",
    "            new_cascade.append(tweet_len)\n",
    "\n",
    "#             # 4- Adding sentiment_compound feature to the node\n",
    "#             tweet_sentiment_compound = tweet_fields.iloc[0]['sentiment_compound']\n",
    "#             new_cascade.append(tweet_sentiment_compound)\n",
    "\n",
    "#             # 5- Adding pos_count feature to the node\n",
    "#             tweet_pos_count = tweet_fields.iloc[0]['pos_count']\n",
    "#             new_cascade.append(tweet_pos_count)\n",
    "\n",
    "#             # 6- Adding neg_count feature to the node\n",
    "#             tweet_neg_count = tweet_fields.iloc[0]['neg_count']\n",
    "#             new_cascade.append(tweet_neg_count)\n",
    "\n",
    "#             # 7- Adding hashtag_count feature to the node\n",
    "#             tweet_hash_count = tweet_fields.iloc[0]['hashtag_count']\n",
    "#             new_cascade.append(tweet_hash_count)\n",
    "\n",
    "#             # 8- Adding mention_count feature to the node\n",
    "#             tweet_mention_count = tweet_fields.iloc[0]['mention_count']\n",
    "#             new_cascade.append(tweet_mention_count)\n",
    "            \n",
    "            \n",
    "            hash_count += tweet_fields.iloc[0]['hashtag_count']\n",
    "            mention_count += tweet_fields.iloc[0]['mention_count']\n",
    "            pos_count += tweet_fields.iloc[0]['pos_count']\n",
    "            neg_count += tweet_fields.iloc[0]['neg_count']\n",
    "            \n",
    "            if tweet_fields.iloc[0]['tweet_type'] == 'Original Tweet':\n",
    "                original_tweet_count += 1\n",
    "            elif tweet_fields.iloc[0]['tweet_type'] == 'Retweet':\n",
    "                retweet_count += 1\n",
    "            elif tweet_fields.iloc[0]['tweet_type'] == 'Quote Tweet':\n",
    "                quote_tweet_count += 1\n",
    "            elif tweet_fields.iloc[0]['tweet_type'] == 'Reply Tweet':\n",
    "                reply_tweet_count += 1\n",
    "            else:\n",
    "                print('errorrrrrrr')\n",
    "\n",
    "            # ------------------------------\n",
    "            # Retrieving tweet's user fields and adding the important ones\n",
    "            tweet_user_id = tweet_fields.iloc[0]['user_id_str']\n",
    "            # The result dataframe might have multiple rows\n",
    "            user_fields = df_users[df_users['user_id_str'] == tweet_user_id]\n",
    "\n",
    "            # 9- Adding user_verified feature to the node (1:verified, 0:unverified)\n",
    "            user_verified = int(user_fields.iloc[0]['user_verified'])\n",
    "            new_cascade.append(user_verified)\n",
    "\n",
    "            # 10- Adding user_followers_count feature to the node\n",
    "            user_followers_count = round(sum(user_fields['user_followers_count'])/\\\n",
    "                                         len(user_fields['user_followers_count']))\n",
    "            new_cascade.append(user_followers_count)\n",
    "\n",
    "            # 11- Adding user_friends_count feature to the node\n",
    "            user_friends_count = round(sum(user_fields['user_friends_count'])/\\\n",
    "                                       len(user_fields['user_friends_count']))\n",
    "            new_cascade.append(user_friends_count)\n",
    "\n",
    "            # 12- Adding user_listed_count feature to the node\n",
    "            user_listed_count = round(sum(user_fields['user_listed_count'])/\\\n",
    "                                      len(user_fields['user_listed_count']))\n",
    "            new_cascade.append(user_listed_count)\n",
    "\n",
    "            # 13- Adding created_at feature of the tweet's user to the node\n",
    "            x = user_fields.iloc[0]['user_created_at']\n",
    "            user_created_at = time.mktime(time.strptime(str(x), \n",
    "                                                        \"%Y-%m-%d %H:%M:%S+00:00\"))\n",
    "            new_cascade.append(user_created_at)\n",
    "\n",
    "            # 14- Adding user_favourites_count feature to the node\n",
    "            user_favourites_count = round(sum(user_fields['user_favourites_count'])/\\\n",
    "                                          len(user_fields['user_favourites_count']))\n",
    "            new_cascade.append(user_favourites_count)\n",
    "\n",
    "            # 15- Adding user_statuses_count feature to the node\n",
    "            user_statuses_count = round(sum(user_fields['user_statuses_count'])/\\\n",
    "                                        len(user_fields['user_statuses_count']))\n",
    "            new_cascade.append(user_statuses_count)\n",
    "\n",
    "            # Counting the number of leader users\n",
    "            if (user_friends_count>0) and ((user_followers_count/user_friends_count)>1) and (user_followers_count>1000):\n",
    "                leader_user_count += 1\n",
    "            \n",
    "            #print('tweet: ', cascade[0])\n",
    "            for retweet in cascade[1:]:\n",
    "                #To do: check the creation time of the retweets (cascade[1:])\n",
    "                if retweet != 'pad':\n",
    "                    # ------------------------------\n",
    "                    # Retrieving retweet fields and adding the important ones\n",
    "                    retweet_fields = df_retweets[df_retweets['re_id_str'] == retweet]\n",
    "\n",
    "                    # Getting the creation time and converting itno UTC\n",
    "                    x = retweet_fields.iloc[0]['re_created_at']\n",
    "                    retweet_created_at = time.mktime(time.strptime(str(x), \n",
    "                                                                   \"%Y-%m-%d %H:%M:%S+00:00\"))\n",
    "#                     #Check to see if the tweet has been created in the wanted period\n",
    "#                     if (retweet_created_at - first_tweet_time[news]) <= (first_mins * 60):#True\n",
    "\n",
    "                    # 0- Adding created_at feature of the retweet to the node\n",
    "                    new_cascade.append(retweet_created_at)\n",
    "\n",
    "                    # 1- Adding retweet_count feature of the retweet to the node\n",
    "                    re_retweet_count = retweet_fields.iloc[0]['re_retweet_count']\n",
    "\n",
    "                    new_cascade.append(re_retweet_count)\n",
    "\n",
    "                    # 2- Adding favorite_count feature of the retweet to the node\n",
    "                    re_favorite_count = retweet_fields.iloc[0]['re_favorite_count']\n",
    "\n",
    "                    new_cascade.append(re_favorite_count)\n",
    "\n",
    "                    # 3- Adding retweet_length feature to the node\n",
    "                    retweet_len = len(retweet_fields.iloc[0]['re_text'])\n",
    "                    new_cascade.append(retweet_len)\n",
    "\n",
    "#                     # 4- Adding sentiment_compound feature to the node\n",
    "#                     retweet_sentiment_compound = retweet_fields.iloc[0]['re_sentiment_compound']\n",
    "#                     new_cascade.append(retweet_sentiment_compound)\n",
    "\n",
    "#                     # 5- Adding pos_count feature to the node\n",
    "#                     retweet_pos_count = retweet_fields.iloc[0]['re_pos_count']\n",
    "#                     new_cascade.append(retweet_pos_count)\n",
    "\n",
    "#                     # 6- Adding neg_count feature to the node\n",
    "#                     retweet_neg_count = retweet_fields.iloc[0]['re_neg_count']\n",
    "#                     new_cascade.append(retweet_neg_count)\n",
    "\n",
    "#                     # 7- Adding re_hashtag_count feature to the node\n",
    "#                     retweet_hash_count = retweet_fields.iloc[0]['re_hashtag_count']\n",
    "#                     new_cascade.append(retweet_hash_count)\n",
    "\n",
    "#                     # 8- Adding re_mention_count feature to the node\n",
    "#                     retweet_mention_count = retweet_fields.iloc[0]['re_mention_count']\n",
    "#                     new_cascade.append(retweet_mention_count)\n",
    "\n",
    "\n",
    "                    hash_count += retweet_fields.iloc[0]['re_hashtag_count']\n",
    "                    mention_count += retweet_fields.iloc[0]['re_mention_count']\n",
    "                    pos_count += retweet_fields.iloc[0]['re_pos_count']\n",
    "                    neg_count += retweet_fields.iloc[0]['re_neg_count']\n",
    "                \n",
    "                    if retweet_fields.iloc[0]['retweet_type'] == 'Original Tweet':\n",
    "                        original_tweet_count += 1\n",
    "                    elif retweet_fields.iloc[0]['retweet_type'] == 'Retweet':\n",
    "                        retweet_count += 1\n",
    "                    elif retweet_fields.iloc[0]['retweet_type'] == 'Quote Tweet':\n",
    "                        quote_tweet_count += 1\n",
    "                    elif retweet_fields.iloc[0]['retweet_type'] == 'Reply Tweet':\n",
    "                        reply_tweet_count += 1\n",
    "                    else:\n",
    "                        print('errorrrrrrr')\n",
    "\n",
    "                    # ------------------------------\n",
    "                    # Retrieving retweet's user fields and adding the important ones\n",
    "                    retweet_user_id = retweet_fields.iloc[0]['re_user_id_str']\n",
    "                    # The result dataframe might have multiple rows\n",
    "                    user_fields = df_users[df_users['user_id_str'] == retweet_user_id]\n",
    "\n",
    "                    # 9- Adding user_verified feature to the node (1:verified, 0:unverified)\n",
    "                    user_verified = int(user_fields.iloc[0]['user_verified'])\n",
    "                    new_cascade.append(user_verified)\n",
    "\n",
    "                    # 10- Adding user_followers_count feature to the node\n",
    "                    user_followers_count = round(sum(user_fields['user_followers_count'])/\\\n",
    "                                                 len(user_fields['user_followers_count']))\n",
    "                    new_cascade.append(user_followers_count)\n",
    "\n",
    "                    # 11- Adding user_friends_count feature to the node\n",
    "                    user_friends_count = round(sum(user_fields['user_friends_count'])/\\\n",
    "                                               len(user_fields['user_friends_count']))\n",
    "                    new_cascade.append(user_friends_count)\n",
    "\n",
    "                    # 12- Adding user_listed_count feature to the node\n",
    "                    user_listed_count = round(sum(user_fields['user_listed_count'])/\\\n",
    "                                              len(user_fields['user_listed_count']))\n",
    "\n",
    "                    new_cascade.append(user_listed_count)\n",
    "\n",
    "                    # 13- Adding created_at feature of the tweet's user to the node\n",
    "                    x = user_fields.iloc[0]['user_created_at']\n",
    "                    user_created_at = time.mktime(time.strptime(str(x), \n",
    "                                                                \"%Y-%m-%d %H:%M:%S+00:00\"))\n",
    "                    new_cascade.append(user_created_at)\n",
    "\n",
    "                    # 14- Adding user_favourites_count feature to the node\n",
    "                    user_favourites_count = round(sum(user_fields['user_favourites_count'])/\\\n",
    "                                                  len(user_fields['user_favourites_count']))\n",
    "                    new_cascade.append(user_favourites_count)\n",
    "\n",
    "                    # 15- Adding user_statuses_count feature to the node\n",
    "                    user_statuses_count = round(sum(user_fields['user_statuses_count'])/\\\n",
    "                                                len(user_fields['user_statuses_count']))\n",
    "                    new_cascade.append(user_statuses_count)\n",
    "                    \n",
    "                    # Counting the number of leader users\n",
    "                    if (user_friends_count>0) and ((user_followers_count/user_friends_count)>1) and (user_followers_count>1000):\n",
    "                        leader_user_count += 1\n",
    "                    \n",
    "\n",
    "        # add 'pad' ids to the short cascades untill their length becomes cascade_len\n",
    "        #print(new_cascade, len(new_cascade))\n",
    "        new_cascade += ['pad'] * (cascade_len - len(new_cascade))\n",
    "        #print(new_cascade, len(new_cascade))\n",
    "        main_propagation_trees[news].append(new_cascade)\n",
    "\n",
    "        #break\n",
    "    # add ['pad', ..., 'pad'] cascades to the trees untill their \n",
    "    # cascade number become cascade_num\n",
    "    cascade_pad = cascade_num - len(main_propagation_trees[news])\n",
    "    main_propagation_trees[news] += [['pad'] * cascade_len] * cascade_pad\n",
    "    \n",
    "    total_nodes = original_tweet_count + retweet_count + quote_tweet_count + reply_tweet_count\n",
    "    propagation_tree_features[news].extend([hash_count, mention_count, pos_count, \n",
    "                                            neg_count, original_tweet_count, \n",
    "                                            retweet_count, quote_tweet_count, \n",
    "                                            reply_tweet_count, total_nodes])\n",
    "    \n",
    "    propagation_tree_leader_users[news] = leader_user_count\n",
    "\n",
    "#     break"
   ]
  },
  {
   "cell_type": "code",
   "execution_count": 24,
   "id": "b594c389",
   "metadata": {
    "ExecuteTime": {
     "end_time": "2023-01-03T15:15:02.115191Z",
     "start_time": "2023-01-03T15:15:02.062056Z"
    }
   },
   "outputs": [],
   "source": [
    "# save the propagation trees to a json file\n",
    "propagation_tree_leader_users_json = json.dumps(propagation_tree_leader_users)\n",
    "file_name = '{}_{}_propagation_tree_leader_users_{}min.json'.format(dataset, label_or_class, hours * 60)\n",
    "f = open(file_name,\"w\")\n",
    "f.write(propagation_tree_leader_users_json)\n",
    "f.close()"
   ]
  },
  {
   "cell_type": "code",
   "execution_count": 25,
   "id": "60285d53",
   "metadata": {
    "ExecuteTime": {
     "end_time": "2023-01-03T15:15:02.160154Z",
     "start_time": "2023-01-03T15:15:02.116647Z"
    }
   },
   "outputs": [],
   "source": [
    "# save the propagation trees to a json file\n",
    "propagation_tree_features_json = json.dumps(propagation_tree_features)\n",
    "file_name = '{}_{}_propagation_tree_features_{}min.json'.format(dataset, label_or_class, hours * 60)\n",
    "f = open(file_name,\"w\")\n",
    "f.write(propagation_tree_features_json)\n",
    "f.close()"
   ]
  },
  {
   "cell_type": "code",
   "execution_count": 27,
   "id": "2d614cff",
   "metadata": {
    "ExecuteTime": {
     "end_time": "2023-01-03T15:16:14.645245Z",
     "start_time": "2023-01-03T15:15:02.180284Z"
    }
   },
   "outputs": [],
   "source": [
    "# save the propagation trees to a json file\n",
    "propagation_trees_json = json.dumps(main_propagation_trees)\n",
    "file_name = '{}_{}_propagation_11features_{}min_new256_free_len_shortest_first.json'.format(dataset, label_or_class, hours * 60)\n",
    "f = open(file_name,\"w\")\n",
    "f.write(propagation_trees_json)\n",
    "f.close()"
   ]
  },
  {
   "cell_type": "markdown",
   "id": "fd30146f",
   "metadata": {},
   "source": [
    "# Extracted cumulative features for each propagation network"
   ]
  },
  {
   "cell_type": "markdown",
   "id": "d70aa3a3",
   "metadata": {
    "heading_collapsed": true
   },
   "source": [
    "## Node with the index of (-1)\n",
    "<ol>\n",
    "<li>The number of cascades with the length of 0</li>\n",
    "<li>The number of cascades with the length of 1</li>\n",
    "<li>The number of cascades with the length of 2</li>\n",
    "<li>The number of cascades with the length of 3</li>\n",
    "<li>The number of cascades with the length of 4</li>\n",
    "<li>The number of cascades with the length of 5</li>\n",
    "<li>The number of cascades with the length of 6</li>\n",
    "<li>The number of cascades with the length of 7</li>\n",
    "<li>The number of cascades with the length of 8</li>\n",
    "<li>The number of cascades with the length of 9</li>\n",
    "<li>The number of cascades with the length of greater than 9</li>\n",
    "</ol>"
   ]
  },
  {
   "cell_type": "markdown",
   "id": "7b284e41",
   "metadata": {},
   "source": [
    "## Node with the index of (-2)\n",
    "<ol>\n",
    "<li>The average time difference of user creation time (after sorting from the oldest to the newest)</li>\n",
    "<li>The average time difference of Tweet posting time (after sorting from the earliest to the latest)</li>\n",
    "<li>The average time difference of all kind of Tweet posting time (after sorting from the earliest to the latest)</li>\n",
    "<li>The number of verified users</li>\n",
    "<li>The number of not-verified users</li>\n",
    "<li>The number of leader users</li>\n",
    "<li>The length of news title</li>\n",
    "<li>The length of news text</li>\n",
    "<li>The frequency of positive words in title+text</li>\n",
    "<li>The frequency of negative words in title+text</li>\n",
    "<li>The sentiment score computed using VADER for title+text</li>\n",
    "</ol>"
   ]
  },
  {
   "cell_type": "markdown",
   "id": "0702a3ad",
   "metadata": {},
   "source": [
    "## Node with the index of (-3)\n",
    "<ol>\n",
    "<li>The number of hashtags</li>\n",
    "<li>The number of mentions</li>\n",
    "<li>Frequency of positive words</li>\n",
    "<li>Frequency of negative words</li>\n",
    "<li>The number of original tweets</li>\n",
    "<li>The number of retweets</li>\n",
    "<li>The number of quote tweets</li>\n",
    "<li>The number of reply tweets</li>\n",
    "<li>The number of all nodes</li>\n",
    "<li>The number of cascades</li>\n",
    "<li>The length of the longest cascade</li>\n",
    "</ol>"
   ]
  },
  {
   "cell_type": "markdown",
   "id": "b7992352",
   "metadata": {},
   "source": [
    "# Creating a dictionary of the full tree features for the node with index -3\n"
   ]
  },
  {
   "cell_type": "code",
   "execution_count": null,
   "id": "9a2df28d",
   "metadata": {
    "ExecuteTime": {
     "start_time": "2023-01-02T20:40:41.840Z"
    }
   },
   "outputs": [],
   "source": [
    "# load the propagation trees from a json file\n",
    "file_name = '{}_{}_propagation_11features_{}min_new256_free_len_shortest_first.json'.format(dataset, label_or_class, hours * 60)\n",
    "with open(file_name) as json_file:\n",
    "    propagation_trees = json.load(json_file)"
   ]
  },
  {
   "cell_type": "code",
   "execution_count": null,
   "id": "38ac6910",
   "metadata": {
    "ExecuteTime": {
     "start_time": "2023-01-02T20:40:42.133Z"
    }
   },
   "outputs": [],
   "source": [
    "news_list = (list(propagation_trees.keys()))"
   ]
  },
  {
   "cell_type": "code",
   "execution_count": null,
   "id": "54b2b476",
   "metadata": {
    "ExecuteTime": {
     "start_time": "2023-01-02T20:40:42.357Z"
    }
   },
   "outputs": [],
   "source": [
    "len(news_list)"
   ]
  },
  {
   "cell_type": "code",
   "execution_count": null,
   "id": "696cd0ea",
   "metadata": {
    "ExecuteTime": {
     "start_time": "2023-01-02T20:40:42.621Z"
    }
   },
   "outputs": [],
   "source": [
    "for news in news_list:\n",
    "    cascades_num = 0\n",
    "    depth_max = []\n",
    "    for cas in propagation_trees[news]:\n",
    "\n",
    "        # Counting the number of cascades\n",
    "        if cas[0] != 'pad':\n",
    "            cascades_num += 1\n",
    "            \n",
    "        # Creating a list of cascades length and then finding the longest\n",
    "        depth_max.append(round((len(cas) - cas.count('pad'))/11))\n",
    "    \n",
    "    propagation_tree_features[news].append(cascades_num)\n",
    "    propagation_tree_features[news].append(max(depth_max))\n"
   ]
  },
  {
   "cell_type": "code",
   "execution_count": null,
   "id": "5abd6a8b",
   "metadata": {
    "ExecuteTime": {
     "start_time": "2023-01-02T20:40:42.893Z"
    }
   },
   "outputs": [],
   "source": [
    "# save the propagation trees to a json file\n",
    "propagation_trees_json = json.dumps(propagation_tree_features)\n",
    "file_name = '{}_{}_tree_third_node_features_{}hours.json'.format(dataset, label_or_class, hours)\n",
    "f = open(file_name,\"w\")\n",
    "f.write(propagation_trees_json)\n",
    "f.close()"
   ]
  },
  {
   "cell_type": "markdown",
   "id": "07d949b4",
   "metadata": {},
   "source": [
    "# Creating a dataset of the full tree features\n"
   ]
  },
  {
   "cell_type": "code",
   "execution_count": null,
   "id": "426479ac",
   "metadata": {
    "ExecuteTime": {
     "start_time": "2023-01-02T20:40:43.949Z"
    }
   },
   "outputs": [],
   "source": [
    "# load the propagation trees from a json file\n",
    "file_name = '{}_{}_propagation_11features_{}min_new256_free_len_shortest_first.json'.format(dataset, label_or_class, hours * 60)\n",
    "with open(file_name) as json_file:\n",
    "    propagation_trees = json.load(json_file)"
   ]
  },
  {
   "cell_type": "code",
   "execution_count": null,
   "id": "aaed21db",
   "metadata": {
    "ExecuteTime": {
     "start_time": "2023-01-02T20:40:44.238Z"
    }
   },
   "outputs": [],
   "source": [
    "news_list = (list(propagation_trees.keys()))"
   ]
  },
  {
   "cell_type": "code",
   "execution_count": null,
   "id": "c9f0a1e1",
   "metadata": {
    "ExecuteTime": {
     "start_time": "2023-01-02T20:40:44.525Z"
    }
   },
   "outputs": [],
   "source": [
    "len(news_list)"
   ]
  },
  {
   "cell_type": "code",
   "execution_count": null,
   "id": "74526833",
   "metadata": {
    "ExecuteTime": {
     "start_time": "2023-01-02T20:40:44.795Z"
    }
   },
   "outputs": [],
   "source": [
    "df_full = pd.DataFrame(columns=['dif_user_time', 'dif_only_tweet_time', \n",
    "                                'dif_tweet_time', 'verified', 'unverified', \n",
    "                                'leader_user_count'])\n",
    "\n",
    "for news in news_list:\n",
    "    # A new recored for current news\n",
    "    new_record = {}\n",
    "    new_record['id_news'] = news\n",
    "    \n",
    "    unverified = 0\n",
    "    verified = 0\n",
    "    user_creations = []\n",
    "    tweet_creations = []\n",
    "    only_tweet_creations = []\n",
    "\n",
    "    for cas in propagation_trees[news]:\n",
    "\n",
    "        # Extract verified and not verified users\n",
    "        for node in cas[4::11]:\n",
    "            if node == 0:\n",
    "                unverified += 1\n",
    "            elif node == 1:\n",
    "                verified += 1\n",
    "\n",
    "        # Extract created_at for users\n",
    "        for node in cas[8::11]:\n",
    "            if node != 'pad':\n",
    "                user_creations.append(node)\n",
    "\n",
    "        # Extract created_at for tweets and retweets\n",
    "        for node in cas[::11]:\n",
    "            if node != 'pad':\n",
    "                tweet_creations.append(node)\n",
    "\n",
    "\n",
    "        # Extract created_at for tweets\n",
    "        if cas[0] != 'pad':\n",
    "            only_tweet_creations.append(cas[0])\n",
    "\n",
    "    # Average of user_creation times\n",
    "    user_creations.sort()\n",
    "    dif_user_time = 0\n",
    "    for i in range(len(user_creations)-1):\n",
    "        dif_user_time += (user_creations[i+1] - user_creations[i])\n",
    "    if len(user_creations) in [0,1]:\n",
    "        dif_user_time = 0\n",
    "    else:\n",
    "        dif_user_time /= (len(user_creations)-1)\n",
    "\n",
    "    # Average of tweet and retweet creation times\n",
    "    tweet_creations.sort()\n",
    "    dif_tweet_time = 0\n",
    "    for i in range(len(tweet_creations)-1):\n",
    "        dif_tweet_time += (tweet_creations[i+1] - tweet_creations[i])\n",
    "    if len(tweet_creations) in [0,1]:\n",
    "        dif_tweet_time = 0\n",
    "    else:\n",
    "        dif_tweet_time /= (len(tweet_creations)-1)\n",
    "\n",
    "    # Average of only tweet creation times\n",
    "    only_tweet_creations.sort()\n",
    "    dif_only_tweet_time = 0\n",
    "    for i in range(len(only_tweet_creations)-1):\n",
    "        dif_only_tweet_time += (only_tweet_creations[i+1] - only_tweet_creations[i])\n",
    "    if len(only_tweet_creations) in [0,1]:\n",
    "        dif_only_tweet_time = 0\n",
    "    else: \n",
    "        dif_only_tweet_time /= (len(only_tweet_creations)-1)\n",
    "\n",
    "\n",
    "    new_record['dif_user_time'] = dif_user_time\n",
    "    new_record['dif_only_tweet_time'] = dif_only_tweet_time\n",
    "    new_record['dif_tweet_time'] = dif_tweet_time\n",
    "    new_record['verified'] = verified\n",
    "    new_record['unverified'] = unverified\n",
    "    new_record['leader_user_count'] = propagation_tree_leader_users[news]\n",
    "    \n",
    "    row_df = pd.DataFrame([new_record])\n",
    "    df_full = pd.concat([df_full, row_df], ignore_index=True)"
   ]
  },
  {
   "cell_type": "code",
   "execution_count": null,
   "id": "2c7f1ced",
   "metadata": {
    "ExecuteTime": {
     "start_time": "2023-01-02T20:40:45.511Z"
    }
   },
   "outputs": [],
   "source": [
    "df_full.shape"
   ]
  },
  {
   "cell_type": "code",
   "execution_count": null,
   "id": "c05453fa",
   "metadata": {
    "ExecuteTime": {
     "start_time": "2023-01-02T20:40:46.021Z"
    },
    "scrolled": true
   },
   "outputs": [],
   "source": [
    "df_full.describe()"
   ]
  },
  {
   "cell_type": "code",
   "execution_count": null,
   "id": "706fcb8f",
   "metadata": {
    "ExecuteTime": {
     "start_time": "2023-01-02T20:40:46.357Z"
    },
    "scrolled": true
   },
   "outputs": [],
   "source": [
    "df_full.head()"
   ]
  },
  {
   "cell_type": "code",
   "execution_count": null,
   "id": "fd7ac17d",
   "metadata": {
    "ExecuteTime": {
     "start_time": "2023-01-02T20:40:46.620Z"
    }
   },
   "outputs": [],
   "source": [
    "# storing data in JSON format\n",
    "dataset_name = '{}_{}_tree_full_{}hours.json'.format(dataset, label_or_class, hours)\n",
    "df_full.to_json(dataset_name, orient = 'table', index=False, compression = 'infer')"
   ]
  },
  {
   "cell_type": "code",
   "execution_count": null,
   "id": "2ba339b0",
   "metadata": {
    "ExecuteTime": {
     "start_time": "2023-01-02T20:40:46.884Z"
    }
   },
   "outputs": [],
   "source": [
    "# Reading tweet table\n",
    "dataset_name = '{}_{}_tree_full_{}hours.json'.format(dataset, label_or_class, hours)\n",
    "df_full = pd.read_json(dataset_name, orient ='table', compression = 'infer')"
   ]
  },
  {
   "cell_type": "code",
   "execution_count": null,
   "id": "6a4f4b86",
   "metadata": {
    "ExecuteTime": {
     "start_time": "2023-01-02T20:40:47.172Z"
    }
   },
   "outputs": [],
   "source": [
    "df_full.shape"
   ]
  },
  {
   "cell_type": "markdown",
   "id": "e8f1b9d5",
   "metadata": {
    "heading_collapsed": true
   },
   "source": [
    "# Sorting the instances based on the number of cascades and selecting the one in the middle to draw a graph for the paper\n"
   ]
  },
  {
   "cell_type": "code",
   "execution_count": 167,
   "id": "011e65af",
   "metadata": {
    "ExecuteTime": {
     "end_time": "2022-11-12T02:37:41.181121Z",
     "start_time": "2022-11-12T02:37:41.168424Z"
    },
    "hidden": true
   },
   "outputs": [],
   "source": [
    "file_name = '{}_{}_tree_third_node_features_{}hours.json'.format(dataset, 'fake', hours)\n",
    "with open(file_name) as json_file:\n",
    "    propagation_fake = json.load(json_file)\n",
    "    \n",
    "file_name = '{}_{}_tree_third_node_features_{}hours.json'.format(dataset, 'real', hours)\n",
    "with open(file_name) as json_file:\n",
    "    propagation_real = json.load(json_file)"
   ]
  },
  {
   "cell_type": "code",
   "execution_count": 206,
   "id": "dbad438f",
   "metadata": {
    "ExecuteTime": {
     "end_time": "2022-11-12T03:19:22.588613Z",
     "start_time": "2022-11-12T03:19:22.581916Z"
    },
    "hidden": true
   },
   "outputs": [],
   "source": [
    "news_list_fake = (list(propagation_fake.keys()))\n",
    "news_list_real = (list(propagation_real.keys()))"
   ]
  },
  {
   "cell_type": "code",
   "execution_count": 207,
   "id": "d3b7f328",
   "metadata": {
    "ExecuteTime": {
     "end_time": "2022-11-12T03:19:37.169952Z",
     "start_time": "2022-11-12T03:19:37.160458Z"
    },
    "hidden": true
   },
   "outputs": [
    {
     "data": {
      "text/plain": [
       "(342, 357)"
      ]
     },
     "execution_count": 207,
     "metadata": {},
     "output_type": "execute_result"
    }
   ],
   "source": [
    "len(news_list_fake), len(news_list_real)"
   ]
  },
  {
   "cell_type": "code",
   "execution_count": 208,
   "id": "48a9b540",
   "metadata": {
    "ExecuteTime": {
     "end_time": "2022-11-12T03:19:25.770327Z",
     "start_time": "2022-11-12T03:19:25.763541Z"
    },
    "hidden": true
   },
   "outputs": [],
   "source": [
    "news_list_fake.remove('politifact14940')\n",
    "news_list_fake.remove('politifact14920')\n",
    "news_list_real.remove('politifact14940')\n",
    "news_list_real.remove('politifact14920')"
   ]
  },
  {
   "cell_type": "code",
   "execution_count": 209,
   "id": "395bb348",
   "metadata": {
    "ExecuteTime": {
     "end_time": "2022-11-12T03:19:32.628862Z",
     "start_time": "2022-11-12T03:19:32.619683Z"
    },
    "hidden": true
   },
   "outputs": [
    {
     "data": {
      "text/plain": [
       "(340, 355)"
      ]
     },
     "execution_count": 209,
     "metadata": {},
     "output_type": "execute_result"
    }
   ],
   "source": [
    "len(news_list_fake), len(news_list_real)"
   ]
  },
  {
   "cell_type": "code",
   "execution_count": 210,
   "id": "6c3ecd37",
   "metadata": {
    "ExecuteTime": {
     "end_time": "2022-11-12T03:19:37.169952Z",
     "start_time": "2022-11-12T03:19:37.160458Z"
    },
    "hidden": true
   },
   "outputs": [],
   "source": [
    "ids_cascades_fake = []\n",
    "for news in news_list_fake:\n",
    "    # a list of tubles like (id, cascade_count)\n",
    "    ids_cascades_fake.append((news, propagation_fake[news][-2]))\n",
    "    \n",
    "ids_cascades_real = []\n",
    "for news in news_list_real:\n",
    "    # a list of tubles like (id, cascade_count)\n",
    "    ids_cascades_real.append((news, propagation_real[news][-2]))"
   ]
  },
  {
   "cell_type": "code",
   "execution_count": 255,
   "id": "2c4a0863",
   "metadata": {
    "ExecuteTime": {
     "end_time": "2022-11-13T03:15:21.391650Z",
     "start_time": "2022-11-13T03:15:21.384553Z"
    },
    "hidden": true
   },
   "outputs": [],
   "source": [
    "ids_cascades_fake.sort(key=lambda x:x[1])"
   ]
  },
  {
   "cell_type": "code",
   "execution_count": 259,
   "id": "e3574fd3",
   "metadata": {
    "ExecuteTime": {
     "end_time": "2022-11-13T03:16:59.934665Z",
     "start_time": "2022-11-13T03:16:59.924607Z"
    },
    "hidden": true
   },
   "outputs": [
    {
     "data": {
      "text/plain": [
       "316.2"
      ]
     },
     "execution_count": 259,
     "metadata": {},
     "output_type": "execute_result"
    }
   ],
   "source": []
  },
  {
   "cell_type": "code",
   "execution_count": 211,
   "id": "ecc6cfc7",
   "metadata": {
    "ExecuteTime": {
     "end_time": "2022-11-12T03:19:40.266699Z",
     "start_time": "2022-11-12T03:19:40.260535Z"
    },
    "hidden": true
   },
   "outputs": [],
   "source": [
    "import seaborn as sns\n",
    "import numpy as np\n",
    "import pandas as pd"
   ]
  },
  {
   "cell_type": "code",
   "execution_count": 212,
   "id": "1244f8d9",
   "metadata": {
    "ExecuteTime": {
     "end_time": "2022-11-12T03:19:42.575760Z",
     "start_time": "2022-11-12T03:19:42.567535Z"
    },
    "hidden": true
   },
   "outputs": [],
   "source": [
    "temp = [(i[1], 1) for i in ids_cascades_fake]\n",
    "temp.extend([(i[1], 0) for i in ids_cascades_real])"
   ]
  },
  {
   "cell_type": "code",
   "execution_count": 213,
   "id": "4c94bb72",
   "metadata": {
    "ExecuteTime": {
     "end_time": "2022-11-12T03:19:45.005867Z",
     "start_time": "2022-11-12T03:19:44.997281Z"
    },
    "hidden": true
   },
   "outputs": [],
   "source": [
    "df = pd.DataFrame(temp,\n",
    "               columns =['count', 'label'])"
   ]
  },
  {
   "cell_type": "code",
   "execution_count": 214,
   "id": "fc23b9d7",
   "metadata": {
    "ExecuteTime": {
     "end_time": "2022-11-12T03:19:45.931474Z",
     "start_time": "2022-11-12T03:19:45.806693Z"
    },
    "hidden": true
   },
   "outputs": [
    {
     "data": {
      "image/png": "[encoded data removed]",
      "text/plain": [
       "<Figure size 432x288 with 1 Axes>"
      ]
     },
     "metadata": {
      "needs_background": "light"
     },
     "output_type": "display_data"
    }
   ],
   "source": [
    "sns.boxplot(data=df, x='label', y='count');"
   ]
  },
  {
   "cell_type": "code",
   "execution_count": 220,
   "id": "467433cf",
   "metadata": {
    "ExecuteTime": {
     "end_time": "2022-11-12T23:36:50.197572Z",
     "start_time": "2022-11-12T23:36:49.862846Z"
    },
    "hidden": true
   },
   "outputs": [
    {
     "data": {
      "image/png": "[encoded data removed]",
      "text/plain": [
       "<Figure size 432x288 with 1 Axes>"
      ]
     },
     "metadata": {
      "needs_background": "light"
     },
     "output_type": "display_data"
    }
   ],
   "source": [
    "sns.histplot(data=df, x='count', hue='label', bins=50);"
   ]
  },
  {
   "cell_type": "code",
   "execution_count": 221,
   "id": "1a488478",
   "metadata": {
    "ExecuteTime": {
     "end_time": "2022-11-12T23:58:04.983830Z",
     "start_time": "2022-11-12T23:58:04.497039Z"
    },
    "hidden": true
   },
   "outputs": [
    {
     "data": {
      "image/png": "[encoded data removed]",
      "text/plain": [
       "<Figure size 432x288 with 1 Axes>"
      ]
     },
     "metadata": {
      "needs_background": "light"
     },
     "output_type": "display_data"
    }
   ],
   "source": [
    "sns.histplot(data=df, x='count', hue='label', bins=50, stat='density', common_norm=False);"
   ]
  },
  {
   "cell_type": "code",
   "execution_count": 222,
   "id": "7b684ae0",
   "metadata": {
    "ExecuteTime": {
     "end_time": "2022-11-13T00:05:46.717874Z",
     "start_time": "2022-11-13T00:05:46.564862Z"
    },
    "hidden": true
   },
   "outputs": [
    {
     "data": {
      "image/png": "[encoded data removed]",
      "text/plain": [
       "<Figure size 432x288 with 1 Axes>"
      ]
     },
     "metadata": {
      "needs_background": "light"
     },
     "output_type": "display_data"
    }
   ],
   "source": [
    "sns.kdeplot(x='count', data=df, hue='label', common_norm=False);"
   ]
  },
  {
   "cell_type": "code",
   "execution_count": 229,
   "id": "95da6782",
   "metadata": {
    "ExecuteTime": {
     "end_time": "2022-11-13T00:37:00.479251Z",
     "start_time": "2022-11-13T00:37:00.304255Z"
    },
    "hidden": true
   },
   "outputs": [
    {
     "data": {
      "image/png": "[encoded data removed]",
      "text/plain": [
       "<Figure size 432x288 with 1 Axes>"
      ]
     },
     "metadata": {
      "needs_background": "light"
     },
     "output_type": "display_data"
    }
   ],
   "source": [
    "sns.histplot(x='count', data=df, hue='label', bins=len(df), stat=\"density\",\n",
    "             element=\"step\", fill=False, cumulative=True, common_norm=False);"
   ]
  },
  {
   "cell_type": "code",
   "execution_count": 230,
   "id": "a94b04e0",
   "metadata": {
    "ExecuteTime": {
     "end_time": "2022-11-13T00:56:29.505997Z",
     "start_time": "2022-11-13T00:56:29.335125Z"
    },
    "hidden": true
   },
   "outputs": [
    {
     "data": {
      "image/png": "[encoded data removed]",
      "text/plain": [
       "<Figure size 432x288 with 1 Axes>"
      ]
     },
     "metadata": {
      "needs_background": "light"
     },
     "output_type": "display_data"
    }
   ],
   "source": [
    "# Considering instances which their cascades count is less than 150\n",
    "sns.histplot(x='count', data=df[df['count']<150], hue='label', bins=len(df), \n",
    "             stat=\"density\", element=\"step\", fill=False, cumulative=True, \n",
    "             common_norm=False);"
   ]
  },
  {
   "cell_type": "code",
   "execution_count": 227,
   "id": "77844dff",
   "metadata": {
    "ExecuteTime": {
     "end_time": "2022-11-13T00:33:10.841218Z",
     "start_time": "2022-11-13T00:33:10.832311Z"
    },
    "hidden": true
   },
   "outputs": [
    {
     "data": {
      "text/plain": [
       "((695, 2), (683, 2), (678, 2))"
      ]
     },
     "execution_count": 227,
     "metadata": {},
     "output_type": "execute_result"
    }
   ],
   "source": [
    "df.shape, df[df['count']<200].shape, df[df['count']<150].shape"
   ]
  },
  {
   "cell_type": "markdown",
   "id": "1d660e12",
   "metadata": {
    "hidden": true
   },
   "source": [
    "According to the graph above, if we sort both classes from the smallest propagation network to the largest, a pattern can be detected. In the first 93 percent of propagation networks, real news has a larger network, while in the last 7 percent, the propagation networks of fake instances are wider."
   ]
  },
  {
   "cell_type": "code",
   "execution_count": null,
   "id": "805baf77",
   "metadata": {
    "hidden": true
   },
   "outputs": [],
   "source": []
  }
 ],
 "metadata": {
  "kernelspec": {
   "display_name": "Python 3 (ipykernel)",
   "language": "python",
   "name": "python3"
  },
  "language_info": {
   "codemirror_mode": {
    "name": "ipython",
    "version": 3
   },
   "file_extension": ".py",
   "mimetype": "text/x-python",
   "name": "python",
   "nbconvert_exporter": "python",
   "pygments_lexer": "ipython3",
   "version": "3.9.12"
  }
 },
 "nbformat": 4,
 "nbformat_minor": 5
}

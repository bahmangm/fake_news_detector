{
 "cells": [
  {
   "cell_type": "markdown",
   "id": "b2329033",
   "metadata": {},
   "source": [
    "# The number of downloaded tweet files and retweet list files for both classes in both data sources.\n",
    "\n",
    "The statistics of the retrieved tweets and retweets."
   ]
  },
  {
   "cell_type": "code",
   "execution_count": 1,
   "id": "ad418c1c",
   "metadata": {},
   "outputs": [],
   "source": [
    "import pandas as pd\n",
    "import numpy as np\n",
    "import json\n",
    "import os\n",
    "import time\n",
    "import math\n",
    "import configs"
   ]
  },
  {
   "cell_type": "code",
   "execution_count": 846,
   "id": "9e29225a",
   "metadata": {},
   "outputs": [],
   "source": [
    "for dataset in ['politifact', 'gossipcop']:\n",
    "    for label in ['fake', 'real']:\n",
    "        source = '{}/{}/{}/'.format(configs.dic_source, dataset, label)\n",
    "        \n",
    "        f_names_tweets = [os.path.join(f, 'news content.json') for f in os.listdir(source)\n",
    "                   if os.path.exists(os.path.join(source, f, 'news content.json')) and\n",
    "                   os.path.exists(os.path.join(source, f, 'tweets'))]\n",
    "\n",
    "        f_names_retweets = [os.path.join(f, 'news content.json') for f in os.listdir(source)\n",
    "                   if os.path.exists(os.path.join(source, f, 'news content.json')) and\n",
    "                   os.path.exists(os.path.join(source, f, 'retweets'))]\n",
    "        \n",
    "        print(source)\n",
    "        print(len(f_names_tweets), len(f_names_retweets))"
   ]
  },
  {
   "cell_type": "code",
   "execution_count": 612,
   "id": "3692cd77",
   "metadata": {
    "scrolled": false
   },
   "outputs": [
    {
     "name": "stdout",
     "output_type": "stream",
     "text": [
      "FakeNewsNet/code/fakenewsnet_dataset/politifact/fake/\n",
      "342 350\n"
     ]
    }
   ],
   "source": [
    "print(source)\n",
    "print(len(f_names_tweets), len(f_names_retweets))"
   ]
  },
  {
   "cell_type": "code",
   "execution_count": 614,
   "id": "e127d26b",
   "metadata": {},
   "outputs": [
    {
     "name": "stdout",
     "output_type": "stream",
     "text": [
      "FakeNewsNet/code/fakenewsnet_dataset/politifact/real/\n",
      "357 362\n"
     ]
    }
   ],
   "source": [
    "print(source)\n",
    "print(len(f_names_tweets), len(f_names_retweets))"
   ]
  },
  {
   "cell_type": "code",
   "execution_count": 814,
   "id": "ba9c9d38",
   "metadata": {},
   "outputs": [
    {
     "name": "stdout",
     "output_type": "stream",
     "text": [
      "FakeNewsNet/code/fakenewsnet_dataset/gossipcop/fake/\n",
      "4615 4688\n"
     ]
    }
   ],
   "source": [
    "print(source)\n",
    "print(len(f_names_tweets), len(f_names_retweets))"
   ]
  },
  {
   "cell_type": "code",
   "execution_count": 816,
   "id": "afdaff89",
   "metadata": {},
   "outputs": [
    {
     "name": "stdout",
     "output_type": "stream",
     "text": [
      "FakeNewsNet/code/fakenewsnet_dataset/gossipcop/real/\n",
      "14119 14218\n"
     ]
    }
   ],
   "source": [
    "print(source)\n",
    "print(len(f_names_tweets), len(f_names_retweets))"
   ]
  }
 ],
 "metadata": {
  "kernelspec": {
   "display_name": "Python 3 (ipykernel)",
   "language": "python",
   "name": "python3"
  },
  "language_info": {
   "codemirror_mode": {
    "name": "ipython",
    "version": 3
   },
   "file_extension": ".py",
   "mimetype": "text/x-python",
   "name": "python",
   "nbconvert_exporter": "python",
   "pygments_lexer": "ipython3",
   "version": "3.9.12"
  }
 },
 "nbformat": 4,
 "nbformat_minor": 5
}

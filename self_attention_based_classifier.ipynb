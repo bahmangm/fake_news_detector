{
 "cells": [
  {
   "cell_type": "markdown",
   "metadata": {
    "id": "tdofkf1BG_WJ"
   },
   "source": [
    "# Self-attention based classifier"
   ]
  },
  {
   "cell_type": "markdown",
   "metadata": {
    "id": "cQ5r2Ks6OUGN"
   },
   "source": [
    "### imports & constants"
   ]
  },
  {
   "cell_type": "code",
   "execution_count": 2,
   "metadata": {
    "ExecuteTime": {
     "end_time": "2022-12-07T03:12:28.583474Z",
     "start_time": "2022-12-07T03:12:26.817067Z"
    }
   },
   "outputs": [],
   "source": [
    "import json\n",
    "import numpy as np\n",
    "import pandas as pd\n",
    "import random\n",
    "import torch\n",
    "import torch.nn as nn\n",
    "from sklearn.metrics import accuracy_score, precision_score, recall_score, f1_score\n",
    "from torch.utils.data import DataLoader, TensorDataset\n",
    "import copy\n",
    "from copy import deepcopy\n",
    "import torch.optim as optim\n",
    "import torch.nn.functional as F\n",
    "from collections import defaultdict\n",
    "from statistics import mean, stdev\n",
    "import configs\n",
    "\n",
    "from model_organizer import ModelOrganizer"
   ]
  },
  {
   "cell_type": "code",
   "execution_count": null,
   "metadata": {},
   "outputs": [],
   "source": [
    "# settings from configs.py file\n",
    "\n",
    "dataset = configs.data_source # 'politifact' or 'gossipcop'\n",
    "\n",
    "hours = configs.detection_deadline # detection time in hours"
   ]
  },
  {
   "cell_type": "markdown",
   "metadata": {
    "heading_collapsed": true,
    "id": "JIw2i7IyObvq"
   },
   "source": [
    "### Multiheaded Attention"
   ]
  },
  {
   "cell_type": "code",
   "execution_count": 3,
   "metadata": {
    "ExecuteTime": {
     "end_time": "2022-12-07T03:12:28.596976Z",
     "start_time": "2022-12-07T03:12:28.585663Z"
    },
    "hidden": true,
    "id": "s_nNv-aIOckb"
   },
   "outputs": [],
   "source": [
    "class MultiHeadedAttention(nn.Module):\n",
    "    def __init__(self, n_heads, d_model, dropout=0.1):\n",
    "        super(MultiHeadedAttention, self).__init__()\n",
    "        self.n_heads = n_heads\n",
    "        self.d_model = d_model\n",
    "        self.d_k = int(d_model / n_heads)\n",
    "        self.linear_query = nn.Linear(d_model, d_model)\n",
    "        self.linear_key = nn.Linear(d_model, d_model)\n",
    "        self.linear_value = nn.Linear(d_model, d_model)\n",
    "        self.linear_out = nn.Linear(d_model, d_model)\n",
    "        self.dropout = nn.Dropout(p=dropout)\n",
    "        self.alphas = None\n",
    "\n",
    "    def make_chunks(self, x):\n",
    "        batch_size, seq_len = x.size(0), x.size(1)\n",
    "        # N, L, D -> N, L, n_heads * d_k\n",
    "        x = x.view(batch_size, seq_len, self.n_heads, self.d_k) \n",
    "        # N, n_heads, L, d_k\n",
    "        x = x.transpose(1, 2)  \n",
    "        return x\n",
    "\n",
    "    def init_keys(self, key):\n",
    "        # N, n_heads, L, d_k\n",
    "        self.proj_key = self.make_chunks(self.linear_key(key))\n",
    "        self.proj_value = self.make_chunks(self.linear_value(key))\n",
    "        \n",
    "    def score_function(self, query):\n",
    "        # scaled dot product\n",
    "        # N, n_heads, L, d_k x # N, n_heads, d_k, L -> N, n_heads, L, L\n",
    "        proj_query = self.make_chunks(self.linear_query(query))\n",
    "        dot_products = torch.matmul(proj_query, \n",
    "                                    self.proj_key.transpose(-2, -1))\n",
    "        scores =  dot_products / np.sqrt(self.d_k)\n",
    "        return scores\n",
    "            \n",
    "    def attn(self, query, mask=None):\n",
    "        # Query is batch-first: N, L, D\n",
    "        # Score function will generate scores for each head\n",
    "        scores = self.score_function(query) # N, n_heads, L, L\n",
    "\n",
    "        if mask is not None:\n",
    "            scores = scores.masked_fill(mask == 0, -1e9)\n",
    "        alphas = F.softmax(scores, dim=-1) # N, n_heads, L, L\n",
    "        alphas = self.dropout(alphas)\n",
    "        self.alphas = alphas.detach()\n",
    "\n",
    "        # N, n_heads, L, L x N, n_heads, L, d_k -> N, n_heads, L, d_k\n",
    "        context = torch.matmul(alphas, self.proj_value)\n",
    "        return context        \n",
    "                                \n",
    "    def output_function(self, contexts):\n",
    "        # N, L, D\n",
    "        out = self.linear_out(contexts) # N, L, D\n",
    "        return out\n",
    "        \n",
    "    def forward(self, query, mask=None):\n",
    "        if mask is not None:\n",
    "            # N, 1, L, L - every head uses the same mask\n",
    "            mask = mask.unsqueeze(1)\n",
    "\n",
    "        # N, n_heads, L, d_k\n",
    "        context = self.attn(query, mask=mask)\n",
    "        # N, L, n_heads, d_k\n",
    "        context = context.transpose(1, 2).contiguous()\n",
    "        # N, L, n_heads * d_k = N, L, d_model\n",
    "        context = context.view(query.size(0), -1, self.d_model)        \n",
    "        # N, L, d_model\n",
    "        out = self.output_function(context)\n",
    "        return out"
   ]
  },
  {
   "cell_type": "markdown",
   "metadata": {
    "heading_collapsed": true,
    "id": "8_yT26rFOllX"
   },
   "source": [
    "### Transformer EncoderLayer"
   ]
  },
  {
   "cell_type": "code",
   "execution_count": 4,
   "metadata": {
    "ExecuteTime": {
     "end_time": "2022-12-07T03:12:28.615515Z",
     "start_time": "2022-12-07T03:12:28.598208Z"
    },
    "hidden": true,
    "id": "tIYnxubhOhFN"
   },
   "outputs": [],
   "source": [
    "class EncoderLayer(nn.Module):\n",
    "    def __init__(self, n_heads, d_model, ff_units, dropout=0.1):\n",
    "        super().__init__()\n",
    "        self.n_heads = n_heads\n",
    "        self.d_model = d_model\n",
    "        self.ff_units = ff_units\n",
    "        self.self_attn_heads = MultiHeadedAttention(n_heads, d_model, \n",
    "                                                    dropout=dropout)\n",
    "        self.ffn = nn.Sequential(\n",
    "            nn.Linear(d_model, ff_units),\n",
    "            nn.ReLU(),\n",
    "            nn.Dropout(dropout),\n",
    "            nn.Linear(ff_units, d_model),\n",
    "        )\n",
    "        \n",
    "        self.norm1 = nn.LayerNorm(d_model)\n",
    "        self.norm2 = nn.LayerNorm(d_model)\n",
    "        self.drop1 = nn.Dropout(dropout)\n",
    "        self.drop2 = nn.Dropout(dropout)\n",
    "         \n",
    "    def forward(self, query, mask=None):\n",
    "        # Sublayer #0\n",
    "        # Norm\n",
    "        norm_query = self.norm1(query)\n",
    "        # Multi-headed Attention\n",
    "        self.self_attn_heads.init_keys(norm_query)\n",
    "        states = self.self_attn_heads(norm_query, mask)\n",
    "        # Add\n",
    "        att = query + self.drop1(states)\n",
    "        \n",
    "        # Sublayer #1\n",
    "        # Norm\n",
    "        norm_att = self.norm2(att)\n",
    "        # Feed Forward\n",
    "        out = self.ffn(norm_att)\n",
    "        # Add\n",
    "        out = att + self.drop2(out)\n",
    "        return out"
   ]
  },
  {
   "cell_type": "markdown",
   "metadata": {
    "heading_collapsed": true,
    "id": "xJqFydZAOq1Q"
   },
   "source": [
    "### PositionalEncoding2"
   ]
  },
  {
   "cell_type": "markdown",
   "metadata": {
    "hidden": true,
    "id": "nIMFGgi2TVoE"
   },
   "source": [
    "My way of positional encoding improves the validation and training accuracy by 2 percent. But it needs to be checked further."
   ]
  },
  {
   "cell_type": "code",
   "execution_count": 5,
   "metadata": {
    "ExecuteTime": {
     "end_time": "2022-12-07T03:12:28.631538Z",
     "start_time": "2022-12-07T03:12:28.617654Z"
    },
    "hidden": true,
    "id": "tP8-e1lDOug3"
   },
   "outputs": [],
   "source": [
    "class PositionalEncoding2(nn.Module):\n",
    "    def __init__(self, max_len, d_model):\n",
    "        super().__init__()\n",
    "        cascade_len = 5\n",
    "        self.d_model = d_model\n",
    "        pe = torch.zeros(max_len, d_model)\n",
    "        for i in range(int(max_len/cascade_len)):\n",
    "            position = torch.arange(0, cascade_len).float().unsqueeze(1)\n",
    "\n",
    "            angular_speed = torch.exp(torch.arange(0, d_model, 2).float() * (-np.log(10000.0) / d_model))\n",
    "            pe[(i*cascade_len):((i+1)*cascade_len), 0::2] = torch.sin(position * angular_speed) # even dimensions\n",
    "            pe[(i*cascade_len):((i+1)*cascade_len), 1::2] = torch.cos(position * angular_speed) # odd dimensions\n",
    "        self.register_buffer('pe', pe.unsqueeze(0))\n",
    "        \n",
    "        \n",
    "    def forward(self, x):\n",
    "        # x is N, L, D\n",
    "        # pe is 1, maxlen, D\n",
    "        scaled_x = x * np.sqrt(self.d_model)\n",
    "        encoded = scaled_x + self.pe[:, :x.size(1), :]\n",
    "        return encoded"
   ]
  },
  {
   "cell_type": "markdown",
   "metadata": {
    "heading_collapsed": true,
    "id": "wj8cZ93FOxhx"
   },
   "source": [
    "### EncoderTransf"
   ]
  },
  {
   "cell_type": "code",
   "execution_count": 8,
   "metadata": {
    "ExecuteTime": {
     "end_time": "2022-12-07T03:12:29.157752Z",
     "start_time": "2022-12-07T03:12:29.138257Z"
    },
    "hidden": true
   },
   "outputs": [],
   "source": [
    "class EncoderTransf(nn.Module):\n",
    "    def __init__(self, encoder_layer, n_layers=2, max_len=500, n_features=9, n_outputs=1):\n",
    "        super().__init__()\n",
    "        \n",
    "        self.d_model = encoder_layer.d_model\n",
    "        self.n_outputs = n_outputs\n",
    "        self.n_features= n_features\n",
    "        self.pe = PositionalEncoding2(max_len, self.d_model)\n",
    "        self.norm = nn.LayerNorm(self.d_model)\n",
    "        self.layers = nn.ModuleList([copy.deepcopy(encoder_layer)\n",
    "                                     for _ in range(n_layers)])\n",
    "        \n",
    "        # Classifier to produce logits as many as outputs(Fake or Real)\n",
    "        self.classifier = nn.Linear(2 * self.d_model, \n",
    "                                    self.n_outputs)\n",
    "\n",
    "        self.proj = nn.Linear(n_features, self.d_model)\n",
    "    \n",
    "    def forward(self, query, mask=None):\n",
    "        # Projection\n",
    "        query_proj = self.proj(query)\n",
    "\n",
    "        mask = (query != -1).all(axis=2).unsqueeze(1)\n",
    "\n",
    "        # Positional Encoding\n",
    "        x = self.pe(query_proj)\n",
    "        for layer in self.layers:\n",
    "            x = layer(x, mask)\n",
    "\n",
    "        out = self.norm(x)\n",
    "\n",
    "        # only the first and last items of cascades in sequence (N, L(cascade_n*cascade_l), D) \n",
    "        first_output = out[:, ::out.size()[1] - 1, :].reshape(out.size()[0], \n",
    "                                                              2 * out.size()[2])\n",
    "\n",
    "        # classifier will output (N, 1, n_outputs)\n",
    "        out = self.classifier(first_output)\n",
    "        \n",
    "        # final output is (N, n_outputs)\n",
    "        return out.view(-1, self.n_outputs)\n"
   ]
  },
  {
   "cell_type": "markdown",
   "metadata": {
    "heading_collapsed": true,
    "id": "7ev-fXxeO446"
   },
   "source": [
    "### Helper methods for preparing the input data"
   ]
  },
  {
   "cell_type": "markdown",
   "metadata": {
    "hidden": true,
    "id": "ecEQEkF3Qm5j"
   },
   "source": [
    "#### Convert the list of instances to two lists of features and labels"
   ]
  },
  {
   "cell_type": "code",
   "execution_count": 9,
   "metadata": {
    "ExecuteTime": {
     "end_time": "2022-12-07T03:12:35.026218Z",
     "start_time": "2022-12-07T03:12:35.016131Z"
    },
    "hidden": true,
    "id": "mc7qpA_OO75w"
   },
   "outputs": [],
   "source": [
    "def generate_sequences3(instances, news_ids):\n",
    "    sequences = []\n",
    "    labels = []\n",
    "    \n",
    "    for news_id in news_ids:\n",
    "        for t in instances:\n",
    "            if t[0] == news_id:\n",
    "                sequences.append(deepcopy(t[1]))\n",
    "                labels.append(deepcopy(t[2]))\n",
    "                                \n",
    "    labels = np.array(labels)\n",
    "    return sequences, labels"
   ]
  },
  {
   "cell_type": "markdown",
   "metadata": {
    "hidden": true,
    "id": "YD-R8iZGPHzI"
   },
   "source": [
    "#### Creating a list of tuples of both classes, replacing pad tokens and changing the shape of cascades such that can be given to the model"
   ]
  },
  {
   "cell_type": "markdown",
   "metadata": {
    "heading_collapsed": true,
    "hidden": true
   },
   "source": [
    "##### Changing the shape of input from a dic to list"
   ]
  },
  {
   "cell_type": "code",
   "execution_count": 10,
   "metadata": {
    "ExecuteTime": {
     "end_time": "2022-12-07T03:12:37.843324Z",
     "start_time": "2022-12-07T03:12:37.826274Z"
    },
    "hidden": true
   },
   "outputs": [],
   "source": [
    "# This version selects the first 100 cascades. They can be the shortest ones or the longest, depending \n",
    "# on the used type of sorting in the propagation tree construction step\n",
    "def change_shape(node_len, pad_num):\n",
    "    def tree_to_list(propagation_trees, label):\n",
    "        \n",
    "        cascade_len = 5\n",
    "        cascade_num = 100\n",
    "        \n",
    "        # The list of instances for passing to the model\n",
    "        instances = []\n",
    "        \n",
    "        final_propagation_trees = {}        \n",
    "        for news in propagation_trees.keys():\n",
    "            new_cascade = []\n",
    "            cascade_count = 0\n",
    "            for a in propagation_trees[news]:\n",
    "                # replace pad with -1 in the current cascade of features \n",
    "                # with the length of cascade_len * node_len\n",
    "                a = [pad_num if i=='pad' else i for i in a]\n",
    "\n",
    "                # convert a list of ints to a numpy.array of floats\n",
    "                a = np.array(a)\n",
    "                a = a.astype(float)\n",
    "\n",
    "                # change the shape of current cascade from cascade_len * node_len\n",
    "                # to (cascade_len, node_len)\n",
    "                a = [a[i * node_len:(i + 1) * node_len] for i \\\n",
    "                     in range((len(a) + node_len - 1) // node_len )]\n",
    "                # The length of cascade is cascade_len(8), but in the line below \n",
    "                # the first 5 nodes are considered as a new cascade\n",
    "                new_cascade.extend(a[:cascade_len])\n",
    "\n",
    "                # The counts of cascades is 128, but in the lines below the first 100\n",
    "                # cascades are considered\n",
    "                cascade_count += 1\n",
    "                if cascade_count == cascade_num:\n",
    "                    break\n",
    "\n",
    "            new_cascade = np.array(new_cascade)\n",
    "\n",
    "            final_propagation_trees[news] = new_cascade\n",
    "\n",
    "\n",
    "        for news in final_propagation_trees.keys():\n",
    "            # (news_id, news_propagation, news_label)\n",
    "            instances.append([news, final_propagation_trees[news], label])\n",
    "            \n",
    "        return instances\n",
    "            \n",
    "    return tree_to_list\n",
    "   "
   ]
  },
  {
   "cell_type": "code",
   "execution_count": 7,
   "metadata": {
    "ExecuteTime": {
     "end_time": "2022-11-09T00:29:24.384731Z",
     "start_time": "2022-11-09T00:29:24.355298Z"
    },
    "hidden": true
   },
   "outputs": [],
   "source": [
    "# # This version selects the first 50 cascades and the last 50. So, They would be both \n",
    "# # the shortest and longest no matter which sorting type is used in the propagation tree construction step\n",
    "# def change_shape(node_len, pad_num):\n",
    "#     def tree_to_list(propagation_trees, label):\n",
    "        \n",
    "#         cascade_len = 5\n",
    "#         cascade_num = 100\n",
    "        \n",
    "#         # The list of instances for passing to the model\n",
    "#         instances = []\n",
    "        \n",
    "#         final_propagation_trees = {}        \n",
    "#         for news in propagation_trees.keys():\n",
    "#             new_cascade = []\n",
    "#             cascade_count = 0\n",
    "#             if propagation_trees[news][100] == 'pad': # number_of_cascades <= 100\n",
    "#                 for a in propagation_trees[news]:\n",
    "#                     # replace pad with -1 in the current cascade of features \n",
    "#                     # with the length of cascade_len * node_len\n",
    "#                     a = [pad_num if i=='pad' else i for i in a]\n",
    "\n",
    "#                     # convert a list of ints to a numpy.array of floats\n",
    "#                     a = np.array(a)\n",
    "#                     a = a.astype(float)\n",
    "\n",
    "#                     # change the shape of current cascade from cascade_len * node_len\n",
    "#                     # to (cascade_len, node_len)\n",
    "#                     a = [a[i * node_len:(i + 1) * node_len] for i \\\n",
    "#                          in range((len(a) + node_len - 1) // node_len )]\n",
    "#                     # The length of cascade is cascade_len(8), but in line below \n",
    "#                     # the first 5 nodes are considered as a new cascade\n",
    "#                     new_cascade.extend(a[:cascade_len])\n",
    "# #                   new_cascade.extend(a)\n",
    "\n",
    "#                     # The counts of cascades is 128, but in lines below the first 100\n",
    "#                     # cascades are considered\n",
    "#                     cascade_count += 1\n",
    "#                     if cascade_count == cascade_num:\n",
    "#                         break\n",
    "#             else: # number_of_cascades > 100\n",
    "#                 # 50 first cascades (shortests)\n",
    "#                 for a in propagation_trees[news]:\n",
    "#                     # replace pad with -1 in the current cascade of features \n",
    "#                     # with the length of cascade_len * node_len\n",
    "#                     a = [pad_num if i=='pad' else i for i in a]\n",
    "\n",
    "#                     # convert a list of ints to a numpy.array of floats\n",
    "#                     a = np.array(a)\n",
    "#                     a = a.astype(float)\n",
    "\n",
    "#                     # change the shape of current cascade from cascade_len * node_len\n",
    "#                     # to (cascade_len, node_len)\n",
    "#                     a = [a[i * node_len:(i + 1) * node_len] for i \\\n",
    "#                          in range((len(a) + node_len - 1) // node_len )]\n",
    "#                     # The length of cascade is cascade_len(8), but in line below \n",
    "#                     # the first 5 nodes are considered as a new cascade\n",
    "#                     new_cascade.extend(a[:cascade_len])\n",
    "# #                   new_cascade.extend(a)\n",
    "\n",
    "#                     # The counts of cascades is 128, but in lines below the first 100\n",
    "#                     # cascades are considered\n",
    "#                     cascade_count += 1\n",
    "#                     if cascade_count == round(cascade_num/2):\n",
    "#                         break\n",
    "#                 # 50 last cascades (longests)\n",
    "#                 length = len(propagation_trees[news])\n",
    "#                 for counter in range(length):\n",
    "#                     # replace pad with -1 in the current cascade of features \n",
    "#                     # with the length of cascade_len * node_len \n",
    "#                     if propagation_trees[news][length-1-counter] == 'pad':\n",
    "#                         continue\n",
    "#                     a = [pad_num if i=='pad' else i for i in propagation_trees[news][length-1-counter]]\n",
    "\n",
    "#                     # convert a list of ints to a numpy.array of floats\n",
    "#                     a = np.array(a)\n",
    "#                     a = a.astype(float)\n",
    "\n",
    "#                     # change the shape of current cascade from cascade_len * node_len\n",
    "#                     # to (cascade_len, node_len)\n",
    "#                     a = [a[i * node_len:(i + 1) * node_len] for i \\\n",
    "#                          in range((len(a) + node_len - 1) // node_len )]\n",
    "#                     # The length of cascade is cascade_len(8), but in line below \n",
    "#                     # the first 5 nodes are considered as a new cascade\n",
    "#                     new_cascade.extend(a[:cascade_len])\n",
    "# #                   new_cascade.extend(a)\n",
    "\n",
    "#                     # The counts of cascades is 128, but in lines below the first 100\n",
    "#                     # cascades are considered\n",
    "#                     cascade_count += 1\n",
    "#                     if cascade_count == cascade_num:\n",
    "#                         break\n",
    "\n",
    "                \n",
    "            \n",
    "#             new_cascade = np.array(new_cascade)\n",
    "\n",
    "#             final_propagation_trees[news] = new_cascade\n",
    "\n",
    "\n",
    "#         for news in final_propagation_trees.keys():\n",
    "#             # (news_id, news_propagation, news_label)\n",
    "#             instances.append([news, final_propagation_trees[news], label])\n",
    "            \n",
    "#         return instances\n",
    "            \n",
    "#     return tree_to_list\n",
    "   "
   ]
  },
  {
   "cell_type": "markdown",
   "metadata": {
    "heading_collapsed": true,
    "hidden": true
   },
   "source": [
    "##### Normalization or Min-Max Scaling of the some features"
   ]
  },
  {
   "cell_type": "code",
   "execution_count": 11,
   "metadata": {
    "ExecuteTime": {
     "end_time": "2022-12-07T03:12:42.530487Z",
     "start_time": "2022-12-07T03:12:42.507199Z"
    },
    "hidden": true
   },
   "outputs": [],
   "source": [
    "# There are different types of features (node-level, content-based, cumulative), and they are \n",
    "# placed in different parts of the sequence. 'node' parameter indicates the location.\n",
    "def mins_maxs_finder(instances, node = 0):\n",
    "    features_mins = [10000000000] * node_len\n",
    "    # All features values are greater than zero, so considering zero as the smallest value makes sense\n",
    "    features_maxs = [0] * node_len\n",
    "    \n",
    "    if node == 0:\n",
    "        for instance in instances:\n",
    "            for index, features in enumerate(instance):\n",
    "                # The second part of the 'if' below prevents the last node, which is \n",
    "                # the lens of branches, from being normalized. Also, the node before \n",
    "                # the last one as it contains new information now.\n",
    "                if (features[0] != pad_num) and (index < (len(instance)-2)): # 2 or 3\n",
    "                    for i in range(node_len):\n",
    "                        # Feature number 4 is user_verified which \n",
    "                        # does not need to be normalized\n",
    "                        if i == 4:\n",
    "                            continue\n",
    "                        if features[i] < features_mins[i]:\n",
    "                            features_mins[i] = features[i]\n",
    "                        elif features[i] > features_maxs[i]:\n",
    "                            features_maxs[i] = features[i]\n",
    "    elif node == -1:\n",
    "        for instance in instances:\n",
    "            for index, features in enumerate(instance):\n",
    "                # Information embedded in the node with index -1 differs from the rest nodes, so \n",
    "                # it is normalized differently. \n",
    "                if index == (len(instance)-1):\n",
    "                    for i in range(node_len):\n",
    "                        if features[i] < features_mins[i]:\n",
    "                            features_mins[i] = features[i]\n",
    "                        elif features[i] > features_maxs[i]:\n",
    "                            features_maxs[i] = features[i]\n",
    "    elif node == -2:\n",
    "        for instance in instances:\n",
    "            for index, features in enumerate(instance):\n",
    "                # Information embedded in the node with index -2 differs from the rest nodes, so \n",
    "                # it is normalized differently. \n",
    "                if index == (len(instance)-2):\n",
    "                    for i in range(node_len):\n",
    "                        if features[i] < features_mins[i]:\n",
    "                            features_mins[i] = features[i]\n",
    "                        elif features[i] > features_maxs[i]:\n",
    "                            features_maxs[i] = features[i]\n",
    "    elif node == -3:\n",
    "        for instance in instances:\n",
    "            for index, features in enumerate(instance):\n",
    "                # Information embedded in the node with index -3 differs from the rest nodes, so \n",
    "                # it is normalized differently. \n",
    "                if index == (len(instance)-3):\n",
    "                    for i in range(node_len):\n",
    "                        if features[i] < features_mins[i]:\n",
    "                            features_mins[i] = features[i]\n",
    "                        elif features[i] > features_maxs[i]:\n",
    "                            features_maxs[i] = features[i]\n",
    "                            \n",
    "    return features_mins, features_maxs"
   ]
  },
  {
   "cell_type": "code",
   "execution_count": 12,
   "metadata": {
    "ExecuteTime": {
     "end_time": "2022-12-07T03:12:44.112951Z",
     "start_time": "2022-12-07T03:12:44.089634Z"
    },
    "hidden": true
   },
   "outputs": [],
   "source": [
    "def min_max_scalling(instances, features_mins, features_maxs, node = 0):\n",
    "    if node == 0:\n",
    "        for instance in instances:\n",
    "            for index, features in enumerate(instance):\n",
    "                # The second part of the 'if' below prevents the last node, which is \n",
    "                # the lens of branches, from being normalized. Also, the node before \n",
    "                # the last one as it contains new information now.\n",
    "                if (features[0] != pad_num) and (index < (len(instance)-2)):\n",
    "                    # X_new = (X - X_min)/(X_max - X_min)\n",
    "                    for i in range(node_len):\n",
    "                        # Feature number 4 is user_verified which \n",
    "                        # does not need to be normalized\n",
    "                        if i == 4:\n",
    "                            continue\n",
    "                        features[i] = (features[i] - \n",
    "                                       features_mins[i])/(features_maxs[i] - \n",
    "                                                          features_mins[i])\n",
    "    elif node == -1:\n",
    "        for instance in instances:\n",
    "            for index, features in enumerate(instance):\n",
    "                # Information embedded in the node with index -1 differs from the rest nodes, so \n",
    "                # it is normalized differently. \n",
    "                if index == (len(instance)-1):\n",
    "                    # X_new = (X - X_min)/(X_max - X_min)\n",
    "                    for i in range(node_len):\n",
    "                        if (features_maxs[i] - features_mins[i]) != 0:\n",
    "                            features[i] = (features[i] - \n",
    "                                           features_mins[i])/(features_maxs[i] - \n",
    "                                                              features_mins[i])\n",
    "    elif node == -2:\n",
    "        for instance in instances:\n",
    "            for index, features in enumerate(instance):\n",
    "                # Information embedded in the node with index -2 differs from the rest nodes, so \n",
    "                # it is normalized differently. \n",
    "                if index == (len(instance)-2):\n",
    "                    # X_new = (X - X_min)/(X_max - X_min)\n",
    "                    for i in range(node_len):\n",
    "                        if (features_maxs[i] - features_mins[i]) != 0:\n",
    "                            features[i] = (features[i] - \n",
    "                                           features_mins[i])/(features_maxs[i] - \n",
    "                                                              features_mins[i])\n",
    "    elif node == -3:\n",
    "        for instance in instances:\n",
    "            for index, features in enumerate(instance):\n",
    "                # Information embedded in the node with index -3 differs from the rest nodes, so \n",
    "                # it is normalized differently. \n",
    "                if index == (len(instance)-3):\n",
    "                    # X_new = (X - X_min)/(X_max - X_min)\n",
    "                    for i in range(node_len):\n",
    "                        if (features_maxs[i] - features_mins[i]) != 0:\n",
    "                            features[i] = (features[i] - \n",
    "                                           features_mins[i])/(features_maxs[i] - \n",
    "                                                              features_mins[i])\n",
    "\n",
    "             \n",
    "    return instances"
   ]
  },
  {
   "cell_type": "markdown",
   "metadata": {
    "heading_collapsed": true
   },
   "source": [
    "# preparing the input data"
   ]
  },
  {
   "cell_type": "code",
   "execution_count": 13,
   "metadata": {
    "ExecuteTime": {
     "end_time": "2022-12-07T03:12:47.651286Z",
     "start_time": "2022-12-07T03:12:47.564017Z"
    },
    "hidden": true
   },
   "outputs": [],
   "source": [
    "# The count of each node's features\n",
    "node_len = 11\n",
    "\n",
    "# 'pad' will be replaced with -1 for the model's input\n",
    "pad_num = -1\n",
    "\n",
    "device = 'cuda' if torch.cuda.is_available() else 'cpu'"
   ]
  },
  {
   "cell_type": "code",
   "execution_count": 13,
   "metadata": {
    "ExecuteTime": {
     "end_time": "2022-12-07T01:35:39.537830Z",
     "start_time": "2022-12-07T01:35:39.530950Z"
    },
    "hidden": true
   },
   "outputs": [],
   "source": [
    "# The list of instances for passing to the model\n",
    "instances = []\n",
    "\n",
    "file_names_labels = [('{}_fake_propagation_11features_{}min_new256_free_len_shortest_first.json'.format(dataset, hours*60,), 1),\n",
    "                     ('{}_real_propagation_11features_{}min_new256_free_len_shortest_first.json'.format(dataset, hours*60,), 0)]\n",
    "\n",
    "for i in file_names_labels:\n",
    "    file_name, label = 'texts/'+i[0], i[1]\n",
    "\n",
    "    with open(file_name) as json_file:\n",
    "        propagation_trees = json.load(json_file)\n",
    "    \n",
    "    # To change each instance from a tree of cascades to a sequence of cascades\n",
    "    tree_to_list = change_shape(node_len, pad_num)\n",
    "    instances.extend(tree_to_list(propagation_trees, label))\n"
   ]
  },
  {
   "cell_type": "code",
   "execution_count": 19,
   "metadata": {
    "ExecuteTime": {
     "end_time": "2022-12-07T03:13:07.802812Z",
     "start_time": "2022-12-07T03:13:07.792884Z"
    },
    "hidden": true
   },
   "outputs": [
    {
     "data": {
      "text/plain": [
       "(18734, 500, 11)"
      ]
     },
     "execution_count": 19,
     "metadata": {},
     "output_type": "execute_result"
    }
   ],
   "source": [
    "len(instances), len(instances[-1][1]), len(instances[-1][1][0])"
   ]
  },
  {
   "cell_type": "code",
   "execution_count": 20,
   "metadata": {
    "ExecuteTime": {
     "end_time": "2022-12-07T03:13:11.352614Z",
     "start_time": "2022-12-07T03:13:11.315192Z"
    },
    "hidden": true
   },
   "outputs": [
    {
     "data": {
      "text/plain": [
       "18732"
      ]
     },
     "execution_count": 20,
     "metadata": {},
     "output_type": "execute_result"
    }
   ],
   "source": [
    "#The number of instances which their last node is empty\n",
    "c = 0\n",
    "for i in instances:\n",
    "    if ((i[1][-1][0]) == -1.0):\n",
    "        c += 1\n",
    "c"
   ]
  },
  {
   "cell_type": "code",
   "execution_count": 21,
   "metadata": {
    "ExecuteTime": {
     "end_time": "2022-12-07T03:13:14.732579Z",
     "start_time": "2022-12-07T03:13:14.697494Z"
    },
    "hidden": true
   },
   "outputs": [
    {
     "data": {
      "text/plain": [
       "18732"
      ]
     },
     "execution_count": 21,
     "metadata": {},
     "output_type": "execute_result"
    }
   ],
   "source": [
    "#The number of instances which their three last nodes are empty\n",
    "c = 0\n",
    "for i in instances:\n",
    "    if ((i[1][-3][0]) == -1.0):\n",
    "        c += 1\n",
    "c"
   ]
  },
  {
   "cell_type": "code",
   "execution_count": 22,
   "metadata": {
    "ExecuteTime": {
     "end_time": "2022-12-07T03:13:17.824347Z",
     "start_time": "2022-12-07T03:13:17.811903Z"
    },
    "hidden": true
   },
   "outputs": [
    {
     "data": {
      "text/plain": [
       "(array([-1., -1., -1., -1., -1., -1., -1., -1., -1., -1., -1.]),\n",
       " array([-1., -1., -1., -1., -1., -1., -1., -1., -1., -1., -1.]),\n",
       " array([-1., -1., -1., -1., -1., -1., -1., -1., -1., -1., -1.]))"
      ]
     },
     "execution_count": 22,
     "metadata": {},
     "output_type": "execute_result"
    }
   ],
   "source": [
    "instances[0][1][-1], instances[0][1][-2], instances[0][1][-3]"
   ]
  },
  {
   "cell_type": "code",
   "execution_count": 26,
   "metadata": {
    "ExecuteTime": {
     "end_time": "2022-12-05T22:27:04.968614Z",
     "start_time": "2022-12-05T22:26:03.232641Z"
    },
    "hidden": true
   },
   "outputs": [],
   "source": [
    "file_names_fulls = ['{}_fake_tree_full_{}hours.json'.format(dataset, hours), \n",
    "                    '{}_real_tree_full_{}hours.json'.format(dataset, hours)]\n",
    "file_names_new = ['{}_fake_new.json'.format(dataset),\n",
    "                  '{}_real_new.json'.format(dataset)]\n",
    "\n",
    "dic_fulls = {}\n",
    "for i,j in zip(file_names_fulls, file_names_new):\n",
    "    file_name = 'texts/'+i\n",
    "    df_full = pd.read_json(file_name, orient ='table', compression = 'infer')\n",
    "    \n",
    "    file_name = 'texts/'+j\n",
    "    df_new = pd.read_json(file_name, orient ='table', compression = 'infer')\n",
    "    df_new['id_news'] = df_new.F_name.apply(lambda x: x.split('/')[0])\n",
    "    \n",
    "    news_ids = list(df_full['id_news'])\n",
    "\n",
    "    for news in news_ids:\n",
    "        dic_fulls[news] = []\n",
    "\n",
    "        news_fulls = df_full[df_full['id_news'] == news]\n",
    "        dic_fulls[news].append(news_fulls.iloc[0]['dif_user_time'])\n",
    "        dic_fulls[news].append(news_fulls.iloc[0]['dif_only_tweet_time'])\n",
    "        dic_fulls[news].append(news_fulls.iloc[0]['dif_tweet_time'])\n",
    "        dic_fulls[news].append(news_fulls.iloc[0]['verified'])\n",
    "        dic_fulls[news].append(news_fulls.iloc[0]['unverified'])\n",
    "        dic_fulls[news].append(news_fulls.iloc[0]['leader_user_count'])\n",
    "\n",
    "        news_new = df_new[df_new['id_news'] == news]\n",
    "        dic_fulls[news].append(news_new.iloc[0]['Title_len'])\n",
    "        dic_fulls[news].append(news_new.iloc[0]['Text_len'])\n",
    "        dic_fulls[news].append(news_new.iloc[0]['pos_count'])\n",
    "        dic_fulls[news].append(news_new.iloc[0]['neg_count'])\n",
    "        dic_fulls[news].append(news_new.iloc[0]['sentiment_score'])"
   ]
  },
  {
   "cell_type": "code",
   "execution_count": 27,
   "metadata": {
    "ExecuteTime": {
     "end_time": "2022-12-07T03:16:21.693795Z",
     "start_time": "2022-12-07T03:16:21.630879Z"
    },
    "hidden": true
   },
   "outputs": [],
   "source": [
    "# To append the list of each instance's lens\n",
    "for instance in instances:\n",
    "    if instance[0] in dic_fulls.keys():\n",
    "#             instance.append(dic_lens[instance[0]])\n",
    "        instance[1][-1] = dic_fulls[instance[0]]"
   ]
  },
  {
   "cell_type": "code",
   "execution_count": 29,
   "metadata": {
    "ExecuteTime": {
     "end_time": "2022-12-07T03:16:44.556298Z",
     "start_time": "2022-12-07T03:16:44.467803Z"
    },
    "hidden": true
   },
   "outputs": [],
   "source": [
    "file_names_node3 = ['{}_fake_tree_third_node_features_{}hours.json'.format(dataset, hours), \n",
    "                    '{}_real_tree_third_node_features_{}hours.json'.format(dataset, hours)]\n",
    "for i in file_names_node3:\n",
    "    file_name = 'texts/'+i\n",
    "    \n",
    "    with open(file_name) as json_file:\n",
    "        dic_node3 = json.load(json_file)\n",
    "    \n",
    "    # To append the list of each instance's node3\n",
    "    for instance in instances:\n",
    "        if instance[0] in dic_node3.keys():\n",
    "#             instance.append(dic_lens[instance[0]])\n",
    "            instance[1][-2] = dic_node3[instance[0]]\n",
    "    "
   ]
  },
  {
   "cell_type": "code",
   "execution_count": 32,
   "metadata": {
    "ExecuteTime": {
     "end_time": "2022-12-07T01:39:28.908127Z",
     "start_time": "2022-12-07T01:39:28.898442Z"
    },
    "hidden": true
   },
   "outputs": [],
   "source": [
    "only_ids = [i[0] for i in instances]"
   ]
  },
  {
   "cell_type": "code",
   "execution_count": 33,
   "metadata": {
    "ExecuteTime": {
     "end_time": "2022-12-07T01:39:36.255782Z",
     "start_time": "2022-12-07T01:39:30.329994Z"
    },
    "hidden": true
   },
   "outputs": [],
   "source": [
    "# Check to see if there are any repeated instances.\n",
    "removed_ids = [i for i in only_ids if only_ids.count(i)>1]"
   ]
  },
  {
   "cell_type": "code",
   "execution_count": 35,
   "metadata": {
    "ExecuteTime": {
     "end_time": "2022-12-07T01:39:38.598105Z",
     "start_time": "2022-12-07T01:39:38.585775Z"
    },
    "hidden": true
   },
   "outputs": [],
   "source": [
    "for i in instances:\n",
    "    if i[0] in removed_ids:\n",
    "        instances.remove(i)"
   ]
  },
  {
   "cell_type": "code",
   "execution_count": 33,
   "metadata": {
    "ExecuteTime": {
     "end_time": "2022-12-07T03:17:06.415250Z",
     "start_time": "2022-12-07T03:17:06.398123Z"
    },
    "hidden": true
   },
   "outputs": [
    {
     "data": {
      "text/plain": [
       "(4615, 14119)"
      ]
     },
     "execution_count": 33,
     "metadata": {},
     "output_type": "execute_result"
    }
   ],
   "source": [
    "# Count the instances in each class.\n",
    "len([i for i in instances if i[2] == 1]), len([i for i in instances if i[2] == 0])"
   ]
  },
  {
   "cell_type": "code",
   "execution_count": 34,
   "metadata": {
    "ExecuteTime": {
     "end_time": "2022-12-07T03:17:09.745295Z",
     "start_time": "2022-12-07T03:17:09.709840Z"
    },
    "hidden": true
   },
   "outputs": [
    {
     "data": {
      "text/plain": [
       "2803"
      ]
     },
     "execution_count": 34,
     "metadata": {},
     "output_type": "execute_result"
    }
   ],
   "source": [
    "#The number of instances with only one tweet and zero retweets when the\n",
    "# length of cascade is 5 \n",
    "c = 0\n",
    "for i in instances:\n",
    "    if ((i[1][5][0]) == -1.0) and ((i[1][1][0]) == -1.0):\n",
    "        c += 1\n",
    "c"
   ]
  },
  {
   "cell_type": "markdown",
   "metadata": {},
   "source": [
    "# Train and Test the model for three iterations and with five-folds."
   ]
  },
  {
   "cell_type": "code",
   "execution_count": 35,
   "metadata": {
    "ExecuteTime": {
     "end_time": "2022-12-07T03:17:14.266965Z",
     "start_time": "2022-12-07T03:17:14.250875Z"
    }
   },
   "outputs": [],
   "source": [
    "def measurements(y_true, y_pred, results):\n",
    "    print('-'*50)\n",
    "    results['accuracy'].append(accuracy_score(y_true, y_pred))\n",
    "    print('accuracy: ', accuracy_score(y_true, y_pred))\n",
    "\n",
    "    results['precision_macro'].append(precision_score(y_true, y_pred, average='macro'))\n",
    "    print('precision macro: ', precision_score(y_true, y_pred, average='macro'))\n",
    "    \n",
    "    results['precision_micro'].append(precision_score(y_true, y_pred, average='micro'))\n",
    "    print('precision micro: ', precision_score(y_true, y_pred, average='micro'))\n",
    "\n",
    "    results['recall_macro'].append(recall_score(y_true, y_pred, average='macro'))\n",
    "    print('recall macro: ', recall_score(y_true, y_pred, average='macro'))\n",
    "    \n",
    "    results['recall_micro'].append(recall_score(y_true, y_pred, average='micro'))\n",
    "    print('recall micro: ', recall_score(y_true, y_pred, average='micro'))\n",
    "\n",
    "    results['f1_macro'].append(f1_score(y_true, y_pred, average='macro'))\n",
    "    print('f1 macro: ', f1_score(y_true, y_pred, average='macro'))\n",
    "    \n",
    "    results['f1_micro'].append(f1_score(y_true, y_pred, average='micro'))\n",
    "    print('f1 micro: ', f1_score(y_true, y_pred, average='micro'))\n",
    "    print('-'*50)\n",
    "    "
   ]
  },
  {
   "cell_type": "code",
   "execution_count": 36,
   "metadata": {
    "ExecuteTime": {
     "end_time": "2022-12-07T03:17:17.367009Z",
     "start_time": "2022-12-07T03:17:17.261910Z"
    }
   },
   "outputs": [],
   "source": [
    "# 3 copies of the data are built for 3 iterations. Otherwise, the data are not shuffled in each iteration.\n",
    "f = {}\n",
    "t = {}\n",
    "for iteration in range(3):\n",
    "    f[iteration] = deepcopy([deepcopy(i[0]) for i in instances if i[2] == 1])\n",
    "    t[iteration] = deepcopy([deepcopy(i[0]) for i in instances if i[2] == 0])\n",
    "    f[iteration] = random.sample(f[iteration], len(f[iteration]))\n",
    "    t[iteration] = random.sample(t[iteration], len(t[iteration]))"
   ]
  },
  {
   "cell_type": "code",
   "execution_count": 37,
   "metadata": {
    "ExecuteTime": {
     "end_time": "2022-12-07T04:33:46.944376Z",
     "start_time": "2022-12-07T03:17:21.582634Z"
    }
   },
   "outputs": [
    {
     "name": "stdout",
     "output_type": "stream",
     "text": [
      "Iteration 0:\n",
      "Fold 0:\n"
     ]
    },
    {
     "name": "stderr",
     "output_type": "stream",
     "text": [
      "/tmp/ipykernel_27616/3136210879.py:92: UserWarning: Creating a tensor from a list of numpy.ndarrays is extremely slow. Please consider converting the list to a single numpy.ndarray with numpy.array() before converting to a tensor. (Triggered internally at  ../torch/csrc/utils/tensor_new.cpp:204.)\n",
      "  train_data = TensorDataset(torch.as_tensor(train_points).float(),\n"
     ]
    },
    {
     "name": "stdout",
     "output_type": "stream",
     "text": [
      "--------------------------------------------------\n",
      "train acc:  tensor(91.7862)\n",
      "test acc:  tensor(91.2196)\n",
      "++++++++++++++++++++++++++++++++++++++++++++++++++\n",
      "--------------------------------------------------\n",
      "accuracy:  0.9121964238057112\n",
      "precision macro:  0.8749252089987953\n",
      "precision micro:  0.9121964238057112\n",
      "recall macro:  0.8976256756051673\n",
      "recall micro:  0.9121964238057112\n",
      "f1 macro:  0.8853181099284213\n",
      "f1 micro:  0.9121964238057112\n",
      "--------------------------------------------------\n",
      "Fold 1:\n",
      "--------------------------------------------------\n",
      "train acc:  tensor(91.4192)\n",
      "test acc:  tensor(90.8727)\n",
      "++++++++++++++++++++++++++++++++++++++++++++++++++\n",
      "--------------------------------------------------\n",
      "accuracy:  0.9087269815852682\n",
      "precision macro:  0.8709452909493096\n",
      "precision micro:  0.9087269815852682\n",
      "recall macro:  0.8916773960389051\n",
      "recall micro:  0.9087269815852682\n",
      "f1 macro:  0.8805037463744763\n",
      "f1 micro:  0.9087269815852682\n",
      "--------------------------------------------------\n",
      "Fold 2:\n",
      "--------------------------------------------------\n",
      "train acc:  tensor(92.4334)\n",
      "test acc:  tensor(92.7942)\n",
      "++++++++++++++++++++++++++++++++++++++++++++++++++\n",
      "--------------------------------------------------\n",
      "accuracy:  0.9279423538831065\n",
      "precision macro:  0.8934297813438774\n",
      "precision micro:  0.9279423538831065\n",
      "recall macro:  0.9226581706407545\n",
      "recall micro:  0.9279423538831065\n",
      "f1 macro:  0.9065427208466204\n",
      "f1 micro:  0.9279423538831065\n",
      "--------------------------------------------------\n",
      "Fold 3:\n",
      "--------------------------------------------------\n",
      "train acc:  tensor(92.4868)\n",
      "test acc:  tensor(91.3531)\n",
      "++++++++++++++++++++++++++++++++++++++++++++++++++\n",
      "--------------------------------------------------\n",
      "accuracy:  0.9135308246597278\n",
      "precision macro:  0.8806601509173555\n",
      "precision micro:  0.9135308246597278\n",
      "recall macro:  0.8893944951031094\n",
      "recall micro:  0.9135308246597278\n",
      "f1 macro:  0.8848918653231753\n",
      "f1 micro:  0.9135308246597278\n",
      "--------------------------------------------------\n",
      "Fold 4:\n",
      "--------------------------------------------------\n",
      "train acc:  tensor(90.8994)\n",
      "test acc:  tensor(89.4287)\n",
      "++++++++++++++++++++++++++++++++++++++++++++++++++\n",
      "--------------------------------------------------\n",
      "accuracy:  0.8942872397223706\n",
      "precision macro:  0.8609462536310444\n",
      "precision micro:  0.8942872397223706\n",
      "recall macro:  0.8507446762374843\n",
      "recall micro:  0.8942872397223706\n",
      "f1 macro:  0.8556521021591426\n",
      "f1 micro:  0.8942872397223706\n",
      "--------------------------------------------------\n",
      "**************************************************\n",
      "                   avg_test acc: tensor(91.1337) 4\n",
      "                   avg_train acc: tensor(91.8050) 4\n",
      "**************************************************\n",
      "**************************************************\n",
      "++++++++++++++++++++++++++++++++++++++++++++++++++\n",
      "Iteration 0 Avg accuracy : 0.9113\n",
      "Iteration 0 Avg precision_macro : 0.8762\n",
      "Iteration 0 Avg precision_micro : 0.9113\n",
      "Iteration 0 Avg recall_macro : 0.8904\n",
      "Iteration 0 Avg recall_micro : 0.9113\n",
      "Iteration 0 Avg f1_macro : 0.8826\n",
      "Iteration 0 Avg f1_micro : 0.9113\n",
      "==================================================\n",
      "Total Avg accuracy : 0.9113\n",
      "Total Avg precision_macro : 0.8762\n",
      "Total Avg precision_micro : 0.9113\n",
      "Total Avg recall_macro : 0.8904\n",
      "Total Avg recall_micro : 0.9113\n",
      "Total Avg f1_macro : 0.8826\n",
      "Total Avg f1_micro : 0.9113\n"
     ]
    }
   ],
   "source": [
    "results = defaultdict(list)\n",
    "difficults = []\n",
    "\n",
    "for iteration in range(1):\n",
    "    print('Iteration {0}:'.format(iteration))\n",
    "    avg_test = 0\n",
    "    avg_train = 0\n",
    "    \n",
    "    f[iteration] = random.sample(f[iteration], len(f[iteration]))\n",
    "    t[iteration] = random.sample(t[iteration], len(t[iteration]))\n",
    "\n",
    "    # Creating 5-folds of each class and then combining them to make 5-folds of both classes\n",
    "    f_index = round(len(f[iteration])/5)\n",
    "    t_index = round(len(t[iteration])/5)\n",
    "\n",
    "    test_folds = {}\n",
    "    train_folds = {}\n",
    "    for i in range(5):\n",
    "        test_folds[i] = (f[iteration][i*f_index:(i+1)*f_index]) + (t[iteration][i*t_index:(i+1)*t_index])\n",
    "        train_folds[i] = (f[iteration][:i*f_index] + f[iteration][(i+1)*f_index:]) + (t[iteration][:i*t_index] + t[iteration][(i+1)*t_index:])\n",
    "\n",
    "        test_folds[i] = random.sample(test_folds[i], len(test_folds[i]))\n",
    "        train_folds[i] = random.sample(train_folds[i], len(train_folds[i]))\n",
    "    \n",
    "    for i in range(5):\n",
    "        print('Fold {0}:'.format(i))\n",
    "\n",
    "        test_news_ids = test_folds[i]\n",
    "        train_news_ids = train_folds[i]\n",
    "\n",
    "        # Training a model on all validation parts and predecting \n",
    "        # the labels for test part in order to stacking learning later\n",
    "        preds_test_propagation = torch.tensor([]).to(device)\n",
    "        preds_test_propagation_prob = []\n",
    "\n",
    "        train_points, train_directions = generate_sequences3(instances, \n",
    "                                                            train_news_ids)\n",
    "        \n",
    "        test_points, test_directions = generate_sequences3(instances,\n",
    "                                                          test_news_ids)\n",
    "\n",
    "        # Normalization or Min-Max Scaling of the features\n",
    "        # X_new = (X - X_min)/(X_max - X_min)\n",
    "\n",
    "        features_mins, features_maxs = mins_maxs_finder(train_points, node=0)\n",
    "\n",
    "        train_points = min_max_scalling(train_points, features_mins, features_maxs, \n",
    "                                        node=0)\n",
    "        test_points = min_max_scalling(test_points, features_mins, features_maxs, \n",
    "                                       node=0)\n",
    "        \n",
    "        features_mins, features_maxs = mins_maxs_finder(train_points, node=-1)\n",
    "        train_points = min_max_scalling(train_points, features_mins, features_maxs, \n",
    "                                        node=-1)\n",
    "        test_points = min_max_scalling(test_points, features_mins, features_maxs, \n",
    "                                       node=-1)\n",
    "\n",
    "        features_mins, features_maxs = mins_maxs_finder(train_points, node=-2)\n",
    "        train_points = min_max_scalling(train_points, features_mins, features_maxs, \n",
    "                                        node=-2)\n",
    "        test_points = min_max_scalling(test_points, features_mins, features_maxs, \n",
    "                                       node=-2)\n",
    "\n",
    "\n",
    "        train_data = TensorDataset(torch.as_tensor(train_points).float(), \n",
    "                                  torch.as_tensor(train_directions).view(-1, 1).float())\n",
    "        test_data = TensorDataset(torch.as_tensor(test_points).float(),\n",
    "                                  torch.as_tensor(test_directions).view(-1, 1).float())\n",
    "\n",
    "        train_loader = DataLoader(train_data, batch_size=64, shuffle=True)\n",
    "        test_loader = DataLoader(test_data, batch_size=64)\n",
    "\n",
    "\n",
    "        encoder_layer = EncoderLayer(n_heads=2, d_model=32, ff_units=32, dropout=0.4)\n",
    "        model = EncoderTransf(encoder_layer, n_layers=3, max_len=500, \n",
    "                              n_features=node_len, n_outputs=1)\n",
    "        loss = nn.BCEWithLogitsLoss()\n",
    "        optimizer = optim.Adam(model.parameters(), lr=0.001)\n",
    "\n",
    "        FN_detector = ModelOrganizer(model, loss, optimizer)\n",
    "        FN_detector.set_loaders(train_loader, test_loader)\n",
    "        FN_detector.train(100)\n",
    "\n",
    "        train_correct=ModelOrganizer.loader_apply(train_loader, FN_detector.correct).sum(axis=0)\n",
    "        test_correct=ModelOrganizer.loader_apply(test_loader, FN_detector.correct).sum(axis=0)\n",
    "        print(50*'-')\n",
    "        print('train acc: ', train_correct[0]/train_correct[1]*100)\n",
    "        print('test acc: ', test_correct[0]/test_correct[1]*100)\n",
    "        print(50*'+')\n",
    "        avg_test += (test_correct[0]/test_correct[1]*100)\n",
    "        avg_train += (train_correct[0]/train_correct[1]*100)\n",
    "\n",
    "        # Measuring the test accuracy manually\n",
    "        temp_preds = torch.tensor([]).to(device)\n",
    "        temp_preds_prob = []\n",
    "        temp_labels = torch.tensor([]).to(device)\n",
    "        for batch in test_loader:\n",
    "            logits = FN_detector.predict(batch[0])\n",
    "            # Our data was in Numpy arrays, but we need to transform them\n",
    "            # into PyTorch's Tensors and then we send them to the\n",
    "            # chosen device\n",
    "            logits_tensor = torch.as_tensor(logits).to(device)\n",
    "            threshold = 0.5\n",
    "            predicted = (torch.sigmoid(logits_tensor) > threshold).long()\n",
    "            predicted_prob = torch.sigmoid(logits_tensor).cpu().numpy()\n",
    "            temp_preds = torch.cat((temp_preds, predicted), 0)\n",
    "            temp_preds_prob.extend([i[0] for i in predicted_prob])\n",
    "            temp_labels = torch.cat((temp_labels, batch[1].to(device)), 0)\n",
    "\n",
    "        y_true = temp_labels.cpu().numpy()\n",
    "        y_pred = temp_preds.cpu().numpy()\n",
    "        \n",
    "        measurements(y_true, y_pred, results)\n",
    "        \n",
    "    \n",
    "    print('*'*50)    \n",
    "    print('                   avg_test acc:', avg_test/5, 4)\n",
    "    print('                   avg_train acc:', avg_train/5, 4)\n",
    "    print('*'*50)\n",
    "    print('*'*50)\n",
    "    \n",
    "    print('+'*50)\n",
    "    for key, value in results.items():\n",
    "        print('Iteration {0} Avg {1} : {2}'.format(iteration, \n",
    "                                                   key, \n",
    "                                                   round(mean(value[iteration*5:(iteration+1)*5]), 4)))\n",
    "                \n",
    "print('='*50)\n",
    "for key, value in results.items():\n",
    "    print('Total Avg {0} : {1}'.format(key, round(mean(value), 4)))"
   ]
  },
  {
   "cell_type": "code",
   "execution_count": 44,
   "metadata": {
    "ExecuteTime": {
     "end_time": "2022-12-02T15:54:17.537478Z",
     "start_time": "2022-12-02T15:54:16.968301Z"
    }
   },
   "outputs": [
    {
     "data": {
      "image/png": "[encoded data removed]",
      "text/plain": [
       "<Figure size 720x288 with 1 Axes>"
      ]
     },
     "metadata": {},
     "output_type": "display_data"
    }
   ],
   "source": [
    "fig = FN_detector.plot_losses()"
   ]
  },
  {
   "cell_type": "markdown",
   "metadata": {
    "id": "vu7tIE5H-Sza"
   },
   "source": [
    "### Calculating the number of trainable parameters of the model"
   ]
  },
  {
   "cell_type": "code",
   "execution_count": null,
   "metadata": {
    "id": "QB3LeQOZp19K"
   },
   "outputs": [],
   "source": [
    "pytorch_total_params = sum(p.numel() for p in model.parameters())\n",
    "pytorch_total_trainable_params = sum(p.numel() for p in model.parameters() if p.requires_grad)\n",
    "print('pytorch_total_params: ', pytorch_total_params)\n",
    "print('pytorch_total_trainable_params: ', pytorch_total_trainable_params)"
   ]
  },
  {
   "cell_type": "code",
   "execution_count": null,
   "metadata": {
    "id": "7iDgqu4a9GPx"
   },
   "outputs": [],
   "source": [
    "from prettytable import PrettyTable\n",
    "\n",
    "def count_parameters(model):\n",
    "    table = PrettyTable([\"Modules\", \"Parameters\"])\n",
    "    total_params = 0\n",
    "    for name, parameter in model.named_parameters():\n",
    "        if not parameter.requires_grad: continue\n",
    "        params = parameter.numel()\n",
    "        table.add_row([name, params])\n",
    "        total_params+=params\n",
    "    print(table)\n",
    "    print(f\"Total Trainable Params: {total_params}\")\n",
    "    return total_params\n",
    "    \n",
    "count_parameters(model)"
   ]
  }
 ],
 "metadata": {
  "colab": {
   "collapsed_sections": [
    "JALeNyjIE9tp",
    "rU-8VNCrE9tq",
    "3Yd_d_QfE9t8",
    "rwHRwws7E9t9",
    "0-9-fuglE9vU",
    "ivQSECpjE9vU",
    "cQ5r2Ks6OUGN",
    "xJqFydZAOq1Q",
    "wj8cZ93FOxhx",
    "ecEQEkF3Qm5j",
    "h5r41rxnJ1Yd"
   ],
   "provenance": []
  },
  "gpuClass": "standard",
  "kernelspec": {
   "display_name": "Python 3 (ipykernel)",
   "language": "python",
   "name": "python3"
  },
  "language_info": {
   "codemirror_mode": {
    "name": "ipython",
    "version": 3
   },
   "file_extension": ".py",
   "mimetype": "text/x-python",
   "name": "python",
   "nbconvert_exporter": "python",
   "pygments_lexer": "ipython3",
   "version": "3.9.12"
  }
 },
 "nbformat": 4,
 "nbformat_minor": 1
}

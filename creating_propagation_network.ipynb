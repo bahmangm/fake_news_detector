{
 "cells": [
  {
   "cell_type": "code",
   "execution_count": 1,
   "id": "ad418c1c",
   "metadata": {
    "ExecuteTime": {
     "end_time": "2023-01-02T20:39:26.241152Z",
     "start_time": "2023-01-02T20:39:25.632108Z"
    }
   },
   "outputs": [],
   "source": [
    "import pandas as pd\n",
    "import numpy as np\n",
    "import json\n",
    "import os\n",
    "import time\n",
    "import math\n",
    "from vaderSentiment.vaderSentiment import SentimentIntensityAnalyzer\n",
    "import configs"
   ]
  },
  {
   "cell_type": "code",
   "execution_count": null,
   "id": "cff39e8d",
   "metadata": {},
   "outputs": [],
   "source": [
    "# settings from configs.py file\n",
    "\n",
    "dataset = configs.data_source # 'politifact' or 'gossipcop'\n",
    "label_or_class = configs.fake_or_real # 'fake' or 'real'\n",
    "\n",
    "hours = configs.detection_deadline # detection time in hours"
   ]
  },
  {
   "cell_type": "markdown",
   "id": "9ecd5acb",
   "metadata": {},
   "source": [
    "# Creating a propagation tree with all cascades and without cutting length for each piece of news\n",
    "<strong>\"{}_{}_propagation_{}hours_free_len_shortest_first.json\".format(dataset, label, hours)</strong>"
   ]
  },
  {
   "cell_type": "code",
   "execution_count": 64,
   "id": "ed41df24",
   "metadata": {
    "ExecuteTime": {
     "end_time": "2022-12-28T14:25:16.873510Z",
     "start_time": "2022-12-28T14:25:13.726971Z"
    }
   },
   "outputs": [],
   "source": [
    "# reading the JSON file\n",
    "dataset_name = '{}_{}_counting_{}hours.json'.format(dataset, label_or_class, hours)\n",
    "df = pd.read_json(dataset_name, orient ='table', compression = 'infer')"
   ]
  },
  {
   "cell_type": "code",
   "execution_count": 65,
   "id": "488e8389",
   "metadata": {
    "ExecuteTime": {
     "end_time": "2022-12-28T14:25:17.647122Z",
     "start_time": "2022-12-28T14:25:16.875190Z"
    }
   },
   "outputs": [],
   "source": [
    "df['count'] = df.groupby(['id_news','id_str'])['re_id_str'].transform('count')"
   ]
  },
  {
   "cell_type": "code",
   "execution_count": 66,
   "id": "98ea438e",
   "metadata": {
    "ExecuteTime": {
     "end_time": "2022-12-28T14:25:17.653037Z",
     "start_time": "2022-12-28T14:25:17.648534Z"
    }
   },
   "outputs": [
    {
     "data": {
      "text/plain": [
       "(372516, 16)"
      ]
     },
     "execution_count": 66,
     "metadata": {},
     "output_type": "execute_result"
    }
   ],
   "source": [
    "df.shape"
   ]
  },
  {
   "cell_type": "code",
   "execution_count": 67,
   "id": "9466b5cb",
   "metadata": {
    "ExecuteTime": {
     "end_time": "2022-12-28T14:25:17.666403Z",
     "start_time": "2022-12-28T14:25:17.654180Z"
    }
   },
   "outputs": [],
   "source": [
    "# t1 = 'Wed Dec 07 22:07:01 +0000 2016'\n",
    "# t2 = 'Wed Dec 07 22:07:02 +0000 2016'\n",
    "# t3 = '2016-12-17 14:51:06+00:00'\n",
    "# t4 = '2016-12-17 14:51:07+00:00'\n",
    "# print(time.mktime(time.strptime(t1, \"%a %b %d %H:%M:%S +0000 %Y\")))\n",
    "# print(time.mktime(time.strptime(t2, \"%a %b %d %H:%M:%S +0000 %Y\")))\n",
    "# print(time.mktime(time.strptime(t3, \"%Y-%m-%d %H:%M:%S+00:00\")))\n",
    "# print(time.mktime(time.strptime(t4, \"%Y-%m-%d %H:%M:%S+00:00\")))"
   ]
  },
  {
   "cell_type": "code",
   "execution_count": 68,
   "id": "b565bb07",
   "metadata": {
    "ExecuteTime": {
     "end_time": "2022-12-28T14:25:17.982286Z",
     "start_time": "2022-12-28T14:25:17.668137Z"
    }
   },
   "outputs": [
    {
     "data": {
      "text/plain": [
       "(338388, 3)"
      ]
     },
     "execution_count": 68,
     "metadata": {},
     "output_type": "execute_result"
    }
   ],
   "source": [
    "df.drop(['created_at', 're_created_at', 're_text', 'new_re_created_at',\n",
    "         're_user_id_str', 're_retweet_count', 're_favorite_count','new_created_at', \n",
    "         're_id_str', 'zero_time', 'diff_t', 'diff_r', 'diff'], \n",
    "        axis=1).drop_duplicates().shape"
   ]
  },
  {
   "cell_type": "code",
   "execution_count": 69,
   "id": "c6ca8b8a",
   "metadata": {
    "ExecuteTime": {
     "end_time": "2022-12-28T14:25:18.272554Z",
     "start_time": "2022-12-28T14:25:17.983673Z"
    }
   },
   "outputs": [],
   "source": [
    "df_counts = df.drop(['created_at', 're_created_at', 're_text', 'new_re_created_at',\n",
    "                     're_user_id_str', 're_retweet_count', 're_favorite_count', 'diff',\n",
    "                     'new_created_at', 're_id_str', 'zero_time', 'diff_t', 'diff_r'], \n",
    "        axis=1).drop_duplicates()"
   ]
  },
  {
   "cell_type": "code",
   "execution_count": 70,
   "id": "b5d64ed1",
   "metadata": {
    "ExecuteTime": {
     "end_time": "2022-12-28T14:25:18.281497Z",
     "start_time": "2022-12-28T14:25:18.274157Z"
    }
   },
   "outputs": [
    {
     "data": {
      "text/html": [
       "<div>\n",
       "<style scoped>\n",
       "    .dataframe tbody tr th:only-of-type {\n",
       "        vertical-align: middle;\n",
       "    }\n",
       "\n",
       "    .dataframe tbody tr th {\n",
       "        vertical-align: top;\n",
       "    }\n",
       "\n",
       "    .dataframe thead th {\n",
       "        text-align: right;\n",
       "    }\n",
       "</style>\n",
       "<table border=\"1\" class=\"dataframe\">\n",
       "  <thead>\n",
       "    <tr style=\"text-align: right;\">\n",
       "      <th></th>\n",
       "      <th>id_news</th>\n",
       "      <th>id_str</th>\n",
       "      <th>count</th>\n",
       "    </tr>\n",
       "  </thead>\n",
       "  <tbody>\n",
       "    <tr>\n",
       "      <th>0</th>\n",
       "      <td>gossipcop-846866</td>\n",
       "      <td>858030987837673472</td>\n",
       "      <td>0</td>\n",
       "    </tr>\n",
       "    <tr>\n",
       "      <th>1</th>\n",
       "      <td>gossipcop-846866</td>\n",
       "      <td>858032064276377600</td>\n",
       "      <td>0</td>\n",
       "    </tr>\n",
       "  </tbody>\n",
       "</table>\n",
       "</div>"
      ],
      "text/plain": [
       "            id_news              id_str  count\n",
       "0  gossipcop-846866  858030987837673472      0\n",
       "1  gossipcop-846866  858032064276377600      0"
      ]
     },
     "execution_count": 70,
     "metadata": {},
     "output_type": "execute_result"
    }
   ],
   "source": [
    "df_counts.head(2)"
   ]
  },
  {
   "cell_type": "code",
   "execution_count": 71,
   "id": "ffc591e1",
   "metadata": {
    "ExecuteTime": {
     "end_time": "2022-12-28T14:25:18.295521Z",
     "start_time": "2022-12-28T14:25:18.282583Z"
    }
   },
   "outputs": [
    {
     "data": {
      "text/plain": [
       "(338388, 3)"
      ]
     },
     "execution_count": 71,
     "metadata": {},
     "output_type": "execute_result"
    }
   ],
   "source": [
    "df_counts.shape"
   ]
  },
  {
   "cell_type": "code",
   "execution_count": 72,
   "id": "21afef0b",
   "metadata": {
    "ExecuteTime": {
     "end_time": "2022-12-28T14:25:18.364586Z",
     "start_time": "2022-12-28T14:25:18.297232Z"
    }
   },
   "outputs": [],
   "source": [
    "news_ids = list(df_counts['id_news'].drop_duplicates())"
   ]
  },
  {
   "cell_type": "code",
   "execution_count": 73,
   "id": "b24e5b67",
   "metadata": {
    "ExecuteTime": {
     "end_time": "2022-12-28T14:25:18.372997Z",
     "start_time": "2022-12-28T14:25:18.366008Z"
    }
   },
   "outputs": [
    {
     "data": {
      "text/plain": [
       "14119"
      ]
     },
     "execution_count": 73,
     "metadata": {},
     "output_type": "execute_result"
    }
   ],
   "source": [
    "len(news_ids)"
   ]
  },
  {
   "cell_type": "code",
   "execution_count": 75,
   "id": "0b3ccb5b",
   "metadata": {
    "ExecuteTime": {
     "end_time": "2022-12-29T00:00:12.536583Z",
     "start_time": "2022-12-28T14:25:18.385782Z"
    }
   },
   "outputs": [],
   "source": [
    "# without trancating trees and branches, but padding is applied\n",
    "propagation_trees = {}\n",
    "cascade_len = 16   # 2^3\n",
    "cascade_num = 256 # 2^7\n",
    "for news_id in news_ids:\n",
    "\n",
    "    propagation_trees[news_id] = []\n",
    "    # ascending=True means selecting the shortest branches\n",
    "    t_ids = list(df_counts[df_counts['id_news'] == news_id]\\\n",
    "                 .sort_values(['count'], ascending=True)['id_str'])\n",
    "    \n",
    "    for t_id in t_ids:\n",
    "\n",
    "        r_ids = list(df[(df['id_news'] == news_id) & (df['id_str'] == t_id)]\\\n",
    "                     .sort_values(['diff'], \n",
    "                                  ascending=True)['re_id_str'])\n",
    "#         try:\n",
    "#             # check to see there is any retweet for the current tweet.\n",
    "#             # insert the tweet in the begining of current cascade\n",
    "#             if np.isnan(r_ids[0]):\n",
    "#                 r_ids=[]\n",
    "#                 r_ids.insert(0, t_id)\n",
    "#         except:\n",
    "#             r_ids.insert(0, t_id)\n",
    "        r_ids.insert(0, t_id)\n",
    "        \n",
    "        # add 'pad' ids to the short cascades untill their length becomes cascade_len\n",
    "        r_ids += ['pad'] * (cascade_len - len(r_ids))\n",
    "\n",
    "        propagation_trees[news_id].append(r_ids)\n",
    "    \n",
    "    # add ['pad', ..., 'pad'] cascades to the trees untill their \n",
    "    # cascade number become cascade_num\n",
    "    cascade_pad = cascade_num - len(propagation_trees[news_id])\n",
    "    propagation_trees[news_id] += [['pad'] * (cascade_len)] * cascade_pad\n"
   ]
  },
  {
   "cell_type": "code",
   "execution_count": 76,
   "id": "ec77c494",
   "metadata": {
    "ExecuteTime": {
     "end_time": "2022-12-29T00:00:21.145740Z",
     "start_time": "2022-12-29T00:00:12.538001Z"
    }
   },
   "outputs": [],
   "source": [
    "# save the propagation trees to a json file\n",
    "propagation_trees_json = json.dumps(propagation_trees)\n",
    "file_name = \"{}_{}_propagation_{}hours_free_len_shortest_first.json\".format(dataset, label_or_class, hours)\n",
    "f = open(file_name,\"w\")\n",
    "f.write(propagation_trees_json)\n",
    "f.close()"
   ]
  },
  {
   "cell_type": "code",
   "execution_count": null,
   "id": "805baf77",
   "metadata": {},
   "outputs": [],
   "source": []
  }
 ],
 "metadata": {
  "kernelspec": {
   "display_name": "Python 3 (ipykernel)",
   "language": "python",
   "name": "python3"
  },
  "language_info": {
   "codemirror_mode": {
    "name": "ipython",
    "version": 3
   },
   "file_extension": ".py",
   "mimetype": "text/x-python",
   "name": "python",
   "nbconvert_exporter": "python",
   "pygments_lexer": "ipython3",
   "version": "3.9.12"
  }
 },
 "nbformat": 4,
 "nbformat_minor": 5
}
